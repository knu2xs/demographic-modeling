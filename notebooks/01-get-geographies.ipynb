{
 "cells": [
  {
   "cell_type": "markdown",
   "metadata": {},
   "source": [
    "# Getting Geographies for Analysis\n",
    "\n",
    "Analysis frequently starts with identifying a geographic area for analysis. Many times this area is a standard geography such as a Core Based Statistica Area (CBSA) or a slightly larger Designated Market Area (DMA) around major metropolitan areas in the United States. Since the Business Analyst data is organized in countries, these can be discovered by interrogating the country of interest, and selecting the area of interest starts with selecting the country for analysis. Within this area of interest, many times smaller levels of geography are used for subsequent data aggregation and analysis, and by using a few available methods, smaller geographies can be selecting for subsequent analysis as well. Ultimately, getting block groups for an area of analysis such as Seattle should be as easy as programatically saying, \"_I want block groups in Seattle._\""
   ]
  },
  {
   "cell_type": "markdown",
   "metadata": {},
   "source": [
    "The first step is importing necessary modules. Long term, the idea is this will reside in the ArcGIS Python API, so instead of all the stuff in the cell below, getting started will be as easy as... \n",
    "\n",
    "\n",
    "```\n",
    "from arcgis.dm import Country\n",
    "from arcgis.dm.utils import get_countries\n",
    "```"
   ]
  },
  {
   "cell_type": "code",
   "execution_count": 1,
   "metadata": {},
   "outputs": [],
   "source": [
    "from dm import Country\n",
    "from dm.utils import get_countries"
   ]
  },
  {
   "cell_type": "markdown",
   "metadata": {},
   "source": [
    "## Get a Country\n",
    "\n",
    "The first step is simply discovering what countries are available for analysis."
   ]
  },
  {
   "cell_type": "code",
   "execution_count": 2,
   "metadata": {},
   "outputs": [
    {
     "data": {
      "text/html": [
       "<div>\n",
       "<style scoped>\n",
       "    .dataframe tbody tr th:only-of-type {\n",
       "        vertical-align: middle;\n",
       "    }\n",
       "\n",
       "    .dataframe tbody tr th {\n",
       "        vertical-align: top;\n",
       "    }\n",
       "\n",
       "    .dataframe thead th {\n",
       "        text-align: right;\n",
       "    }\n",
       "</style>\n",
       "<table border=\"1\" class=\"dataframe\">\n",
       "  <thead>\n",
       "    <tr style=\"text-align: right;\">\n",
       "      <th></th>\n",
       "      <th>geo_ref</th>\n",
       "      <th>country</th>\n",
       "      <th>year</th>\n",
       "    </tr>\n",
       "  </thead>\n",
       "  <tbody>\n",
       "    <tr>\n",
       "      <th>0</th>\n",
       "      <td>CAN_ESRI_2019</td>\n",
       "      <td>CAN</td>\n",
       "      <td>2019</td>\n",
       "    </tr>\n",
       "    <tr>\n",
       "      <th>1</th>\n",
       "      <td>USA_ESRI_2020</td>\n",
       "      <td>USA</td>\n",
       "      <td>2020</td>\n",
       "    </tr>\n",
       "  </tbody>\n",
       "</table>\n",
       "</div>"
      ],
      "text/plain": [
       "         geo_ref country  year\n",
       "0  CAN_ESRI_2019     CAN  2019\n",
       "1  USA_ESRI_2020     USA  2020"
      ]
     },
     "execution_count": 2,
     "metadata": {},
     "output_type": "execute_result"
    }
   ],
   "source": [
    "get_countries()"
   ]
  },
  {
   "cell_type": "markdown",
   "metadata": {},
   "source": [
    "My machine has both data for the United States and Canada installed, so these are listed here. Using the three letter identifier from the `country` column, I can instantiate a Country object instance to work with."
   ]
  },
  {
   "cell_type": "code",
   "execution_count": 3,
   "metadata": {},
   "outputs": [
    {
     "data": {
      "text/plain": [
       "<dm.Country - USA (local)>"
      ]
     },
     "execution_count": 3,
     "metadata": {},
     "output_type": "execute_result"
    }
   ],
   "source": [
    "usa = Country('USA')\n",
    "\n",
    "usa"
   ]
  },
  {
   "cell_type": "markdown",
   "metadata": {},
   "source": [
    "## Get an Area of Interest\n",
    "\n",
    "With the country instantiated, next we can select our area of analysis. For this example I am going to select the Seattle CBSA. First though, I want to see what geographic levels are available, and know how to reference the CBSAs."
   ]
  },
  {
   "cell_type": "code",
   "execution_count": 4,
   "metadata": {},
   "outputs": [
    {
     "data": {
      "text/html": [
       "<div>\n",
       "<style scoped>\n",
       "    .dataframe tbody tr th:only-of-type {\n",
       "        vertical-align: middle;\n",
       "    }\n",
       "\n",
       "    .dataframe tbody tr th {\n",
       "        vertical-align: top;\n",
       "    }\n",
       "\n",
       "    .dataframe thead th {\n",
       "        text-align: right;\n",
       "    }\n",
       "</style>\n",
       "<table border=\"1\" class=\"dataframe\">\n",
       "  <thead>\n",
       "    <tr style=\"text-align: right;\">\n",
       "      <th></th>\n",
       "      <th>geo_name</th>\n",
       "      <th>geo_alias</th>\n",
       "      <th>col_id</th>\n",
       "      <th>col_name</th>\n",
       "      <th>feature_class_path</th>\n",
       "    </tr>\n",
       "  </thead>\n",
       "  <tbody>\n",
       "    <tr>\n",
       "      <th>0</th>\n",
       "      <td>block_groups</td>\n",
       "      <td>Block Groups</td>\n",
       "      <td>ID</td>\n",
       "      <td>NAME</td>\n",
       "      <td>D:\\arcgis\\ba_data\\us_2020\\Data\\Demographic Dat...</td>\n",
       "    </tr>\n",
       "    <tr>\n",
       "      <th>1</th>\n",
       "      <td>census_tracts</td>\n",
       "      <td>Census Tracts</td>\n",
       "      <td>ID</td>\n",
       "      <td>NAME</td>\n",
       "      <td>D:\\arcgis\\ba_data\\us_2020\\Data\\Demographic Dat...</td>\n",
       "    </tr>\n",
       "    <tr>\n",
       "      <th>2</th>\n",
       "      <td>cities_and_towns_places</td>\n",
       "      <td>Cities and Towns (Places)</td>\n",
       "      <td>ID</td>\n",
       "      <td>NAME</td>\n",
       "      <td>D:\\arcgis\\ba_data\\us_2020\\Data\\Demographic Dat...</td>\n",
       "    </tr>\n",
       "    <tr>\n",
       "      <th>3</th>\n",
       "      <td>zip_codes</td>\n",
       "      <td>ZIP Codes</td>\n",
       "      <td>ID</td>\n",
       "      <td>NAME</td>\n",
       "      <td>D:\\arcgis\\ba_data\\us_2020\\Data\\Demographic Dat...</td>\n",
       "    </tr>\n",
       "    <tr>\n",
       "      <th>4</th>\n",
       "      <td>county_subdivisions</td>\n",
       "      <td>County Subdivisions</td>\n",
       "      <td>ID</td>\n",
       "      <td>NAME</td>\n",
       "      <td>D:\\arcgis\\ba_data\\us_2020\\Data\\Demographic Dat...</td>\n",
       "    </tr>\n",
       "    <tr>\n",
       "      <th>5</th>\n",
       "      <td>counties</td>\n",
       "      <td>Counties</td>\n",
       "      <td>ID</td>\n",
       "      <td>NAME</td>\n",
       "      <td>D:\\arcgis\\ba_data\\us_2020\\Data\\Demographic Dat...</td>\n",
       "    </tr>\n",
       "    <tr>\n",
       "      <th>6</th>\n",
       "      <td>cbsas</td>\n",
       "      <td>CBSAs</td>\n",
       "      <td>ID</td>\n",
       "      <td>NAME</td>\n",
       "      <td>D:\\arcgis\\ba_data\\us_2020\\Data\\Demographic Dat...</td>\n",
       "    </tr>\n",
       "    <tr>\n",
       "      <th>7</th>\n",
       "      <td>congressional_districts</td>\n",
       "      <td>Congressional Districts</td>\n",
       "      <td>ID</td>\n",
       "      <td>NAME</td>\n",
       "      <td>D:\\arcgis\\ba_data\\us_2020\\Data\\Demographic Dat...</td>\n",
       "    </tr>\n",
       "    <tr>\n",
       "      <th>8</th>\n",
       "      <td>dmas</td>\n",
       "      <td>DMAs</td>\n",
       "      <td>ID</td>\n",
       "      <td>NAME</td>\n",
       "      <td>D:\\arcgis\\ba_data\\us_2020\\Data\\Demographic Dat...</td>\n",
       "    </tr>\n",
       "    <tr>\n",
       "      <th>9</th>\n",
       "      <td>states</td>\n",
       "      <td>States</td>\n",
       "      <td>ID</td>\n",
       "      <td>NAME</td>\n",
       "      <td>D:\\arcgis\\ba_data\\us_2020\\Data\\Demographic Dat...</td>\n",
       "    </tr>\n",
       "    <tr>\n",
       "      <th>10</th>\n",
       "      <td>entire_country</td>\n",
       "      <td>Entire Country</td>\n",
       "      <td>ID</td>\n",
       "      <td>NAME</td>\n",
       "      <td>D:\\arcgis\\ba_data\\us_2020\\Data\\Demographic Dat...</td>\n",
       "    </tr>\n",
       "  </tbody>\n",
       "</table>\n",
       "</div>"
      ],
      "text/plain": [
       "                   geo_name                  geo_alias col_id col_name  \\\n",
       "0              block_groups               Block Groups     ID     NAME   \n",
       "1             census_tracts              Census Tracts     ID     NAME   \n",
       "2   cities_and_towns_places  Cities and Towns (Places)     ID     NAME   \n",
       "3                 zip_codes                  ZIP Codes     ID     NAME   \n",
       "4       county_subdivisions        County Subdivisions     ID     NAME   \n",
       "5                  counties                   Counties     ID     NAME   \n",
       "6                     cbsas                      CBSAs     ID     NAME   \n",
       "7   congressional_districts    Congressional Districts     ID     NAME   \n",
       "8                      dmas                       DMAs     ID     NAME   \n",
       "9                    states                     States     ID     NAME   \n",
       "10           entire_country             Entire Country     ID     NAME   \n",
       "\n",
       "                                   feature_class_path  \n",
       "0   D:\\arcgis\\ba_data\\us_2020\\Data\\Demographic Dat...  \n",
       "1   D:\\arcgis\\ba_data\\us_2020\\Data\\Demographic Dat...  \n",
       "2   D:\\arcgis\\ba_data\\us_2020\\Data\\Demographic Dat...  \n",
       "3   D:\\arcgis\\ba_data\\us_2020\\Data\\Demographic Dat...  \n",
       "4   D:\\arcgis\\ba_data\\us_2020\\Data\\Demographic Dat...  \n",
       "5   D:\\arcgis\\ba_data\\us_2020\\Data\\Demographic Dat...  \n",
       "6   D:\\arcgis\\ba_data\\us_2020\\Data\\Demographic Dat...  \n",
       "7   D:\\arcgis\\ba_data\\us_2020\\Data\\Demographic Dat...  \n",
       "8   D:\\arcgis\\ba_data\\us_2020\\Data\\Demographic Dat...  \n",
       "9   D:\\arcgis\\ba_data\\us_2020\\Data\\Demographic Dat...  \n",
       "10  D:\\arcgis\\ba_data\\us_2020\\Data\\Demographic Dat...  "
      ]
     },
     "execution_count": 4,
     "metadata": {},
     "output_type": "execute_result"
    }
   ],
   "source": [
    "usa.geographies"
   ]
  },
  {
   "cell_type": "markdown",
   "metadata": {},
   "source": [
    "The above geographies are listed heirarchially from smallest to largest area. While we later are going to retrieve the lowest geographic level, we first need to retrieve the Seattle CBSA as our area of interest. Before doing this, we can check to see what is available using a much faster method."
   ]
  },
  {
   "cell_type": "code",
   "execution_count": 5,
   "metadata": {},
   "outputs": [
    {
     "data": {
      "text/plain": [
       "0    Seattle-Tacoma-Bellevue, WA Metropolitan Stati...\n",
       "Name: geo_name, dtype: object"
      ]
     },
     "execution_count": 5,
     "metadata": {},
     "output_type": "execute_result"
    }
   ],
   "source": [
    "usa.cbsas.get_names('seattle')"
   ]
  },
  {
   "cell_type": "markdown",
   "metadata": {},
   "source": [
    "Since this only returns one record, we can easily use this query string to get a Spatially Enabled DataFrame for the Seattle CBSA."
   ]
  },
  {
   "cell_type": "code",
   "execution_count": 6,
   "metadata": {},
   "outputs": [
    {
     "data": {
      "text/html": [
       "<div>\n",
       "<style scoped>\n",
       "    .dataframe tbody tr th:only-of-type {\n",
       "        vertical-align: middle;\n",
       "    }\n",
       "\n",
       "    .dataframe tbody tr th {\n",
       "        vertical-align: top;\n",
       "    }\n",
       "\n",
       "    .dataframe thead th {\n",
       "        text-align: right;\n",
       "    }\n",
       "</style>\n",
       "<table border=\"1\" class=\"dataframe\">\n",
       "  <thead>\n",
       "    <tr style=\"text-align: right;\">\n",
       "      <th></th>\n",
       "      <th>ID</th>\n",
       "      <th>NAME</th>\n",
       "      <th>SHAPE</th>\n",
       "    </tr>\n",
       "  </thead>\n",
       "  <tbody>\n",
       "    <tr>\n",
       "      <th>0</th>\n",
       "      <td>42660</td>\n",
       "      <td>Seattle-Tacoma-Bellevue, WA Metropolitan Stati...</td>\n",
       "      <td>{\"rings\": [[[-122.62951999978839, 47.163890001...</td>\n",
       "    </tr>\n",
       "  </tbody>\n",
       "</table>\n",
       "</div>"
      ],
      "text/plain": [
       "      ID                                               NAME  \\\n",
       "0  42660  Seattle-Tacoma-Bellevue, WA Metropolitan Stati...   \n",
       "\n",
       "                                               SHAPE  \n",
       "0  {\"rings\": [[[-122.62951999978839, 47.163890001...  "
      ]
     },
     "execution_count": 6,
     "metadata": {},
     "output_type": "execute_result"
    }
   ],
   "source": [
    "cbsa_df = usa.cbsas.get('seattle')\n",
    "\n",
    "cbsa_df"
   ]
  },
  {
   "cell_type": "markdown",
   "metadata": {},
   "source": [
    "Since a Spatially Enabled DataFrame, it is not difficult to display the results on a map to ensure it is the area we want to work with. In this case I take the extra step of setting the basemap since I like the dark gray.\n",
    "\n",
    "NOTE: This will not display unless actively running in an environment with the web mapping widget configured."
   ]
  },
  {
   "cell_type": "code",
   "execution_count": 7,
   "metadata": {},
   "outputs": [
    {
     "data": {
      "application/vnd.jupyter.widget-view+json": {
       "model_id": "c3c38f853460404b93326fae46fa32dd",
       "version_major": 2,
       "version_minor": 0
      },
      "text/plain": [
       "MapView(layout=Layout(height='400px', width='100%'))"
      ]
     },
     "metadata": {},
     "output_type": "display_data"
    },
    {
     "data": {
      "text/html": [
       "<div class=\"map-static-img-preview-76cfb960-b8bb-4fd3-97b3-c2c09aa95a6c\"><img src=\"\"></img></div>"
      ],
      "text/plain": [
       "<IPython.core.display.HTML object>"
      ]
     },
     "metadata": {},
     "output_type": "display_data"
    }
   ],
   "source": [
    "wm01 = cbsa_df.spatial.plot()\n",
    "wm01.basemap = 'gray-vector'\n",
    "wm01"
   ]
  },
  {
   "cell_type": "markdown",
   "metadata": {},
   "source": [
    "## Get Geographies for Analysis\n",
    "\n",
    "The area of interest can now be used to retrieve the block groups for subsequent analysis."
   ]
  },
  {
   "cell_type": "code",
   "execution_count": 8,
   "metadata": {},
   "outputs": [
    {
     "data": {
      "text/html": [
       "<div>\n",
       "<style scoped>\n",
       "    .dataframe tbody tr th:only-of-type {\n",
       "        vertical-align: middle;\n",
       "    }\n",
       "\n",
       "    .dataframe tbody tr th {\n",
       "        vertical-align: top;\n",
       "    }\n",
       "\n",
       "    .dataframe thead th {\n",
       "        text-align: right;\n",
       "    }\n",
       "</style>\n",
       "<table border=\"1\" class=\"dataframe\">\n",
       "  <thead>\n",
       "    <tr style=\"text-align: right;\">\n",
       "      <th></th>\n",
       "      <th>ID</th>\n",
       "      <th>NAME</th>\n",
       "      <th>SHAPE</th>\n",
       "    </tr>\n",
       "  </thead>\n",
       "  <tbody>\n",
       "    <tr>\n",
       "      <th>0</th>\n",
       "      <td>530530701003</td>\n",
       "      <td>530530701.003</td>\n",
       "      <td>{\"rings\": [[[-122.1652430000312, 47.0830489997...</td>\n",
       "    </tr>\n",
       "    <tr>\n",
       "      <th>1</th>\n",
       "      <td>530530714071</td>\n",
       "      <td>530530714.071</td>\n",
       "      <td>{\"rings\": [[[-122.33136200011126, 47.064063999...</td>\n",
       "    </tr>\n",
       "    <tr>\n",
       "      <th>2</th>\n",
       "      <td>530530714072</td>\n",
       "      <td>530530714.072</td>\n",
       "      <td>{\"rings\": [[[-122.35775599975194, 47.065219999...</td>\n",
       "    </tr>\n",
       "    <tr>\n",
       "      <th>3</th>\n",
       "      <td>530530714073</td>\n",
       "      <td>530530714.073</td>\n",
       "      <td>{\"rings\": [[[-122.36863199991484, 47.053068000...</td>\n",
       "    </tr>\n",
       "    <tr>\n",
       "      <th>4</th>\n",
       "      <td>530530714112</td>\n",
       "      <td>530530714.112</td>\n",
       "      <td>{\"rings\": [[[-122.4110792494156, 47.0717044998...</td>\n",
       "    </tr>\n",
       "  </tbody>\n",
       "</table>\n",
       "</div>"
      ],
      "text/plain": [
       "             ID           NAME  \\\n",
       "0  530530701003  530530701.003   \n",
       "1  530530714071  530530714.071   \n",
       "2  530530714072  530530714.072   \n",
       "3  530530714073  530530714.073   \n",
       "4  530530714112  530530714.112   \n",
       "\n",
       "                                               SHAPE  \n",
       "0  {\"rings\": [[[-122.1652430000312, 47.0830489997...  \n",
       "1  {\"rings\": [[[-122.33136200011126, 47.064063999...  \n",
       "2  {\"rings\": [[[-122.35775599975194, 47.065219999...  \n",
       "3  {\"rings\": [[[-122.36863199991484, 47.053068000...  \n",
       "4  {\"rings\": [[[-122.4110792494156, 47.0717044998...  "
      ]
     },
     "execution_count": 8,
     "metadata": {},
     "output_type": "execute_result"
    }
   ],
   "source": [
    "bg_df = cbsa_df.dm.block_groups.get()\n",
    "\n",
    "bg_df.head()"
   ]
  },
  {
   "cell_type": "markdown",
   "metadata": {},
   "source": [
    "Frequently, we simply want to access the lowest level of geography without having to explicitly specify the name."
   ]
  },
  {
   "cell_type": "code",
   "execution_count": 9,
   "metadata": {},
   "outputs": [
    {
     "data": {
      "text/html": [
       "<div>\n",
       "<style scoped>\n",
       "    .dataframe tbody tr th:only-of-type {\n",
       "        vertical-align: middle;\n",
       "    }\n",
       "\n",
       "    .dataframe tbody tr th {\n",
       "        vertical-align: top;\n",
       "    }\n",
       "\n",
       "    .dataframe thead th {\n",
       "        text-align: right;\n",
       "    }\n",
       "</style>\n",
       "<table border=\"1\" class=\"dataframe\">\n",
       "  <thead>\n",
       "    <tr style=\"text-align: right;\">\n",
       "      <th></th>\n",
       "      <th>ID</th>\n",
       "      <th>NAME</th>\n",
       "      <th>SHAPE</th>\n",
       "    </tr>\n",
       "  </thead>\n",
       "  <tbody>\n",
       "    <tr>\n",
       "      <th>0</th>\n",
       "      <td>530530701003</td>\n",
       "      <td>530530701.003</td>\n",
       "      <td>{\"rings\": [[[-122.1652430000312, 47.0830489997...</td>\n",
       "    </tr>\n",
       "    <tr>\n",
       "      <th>1</th>\n",
       "      <td>530530714071</td>\n",
       "      <td>530530714.071</td>\n",
       "      <td>{\"rings\": [[[-122.33136200011126, 47.064063999...</td>\n",
       "    </tr>\n",
       "    <tr>\n",
       "      <th>2</th>\n",
       "      <td>530530714072</td>\n",
       "      <td>530530714.072</td>\n",
       "      <td>{\"rings\": [[[-122.35775599975194, 47.065219999...</td>\n",
       "    </tr>\n",
       "    <tr>\n",
       "      <th>3</th>\n",
       "      <td>530530714073</td>\n",
       "      <td>530530714.073</td>\n",
       "      <td>{\"rings\": [[[-122.36863199991484, 47.053068000...</td>\n",
       "    </tr>\n",
       "    <tr>\n",
       "      <th>4</th>\n",
       "      <td>530530714112</td>\n",
       "      <td>530530714.112</td>\n",
       "      <td>{\"rings\": [[[-122.4110792494156, 47.0717044998...</td>\n",
       "    </tr>\n",
       "  </tbody>\n",
       "</table>\n",
       "</div>"
      ],
      "text/plain": [
       "             ID           NAME  \\\n",
       "0  530530701003  530530701.003   \n",
       "1  530530714071  530530714.071   \n",
       "2  530530714072  530530714.072   \n",
       "3  530530714073  530530714.073   \n",
       "4  530530714112  530530714.112   \n",
       "\n",
       "                                               SHAPE  \n",
       "0  {\"rings\": [[[-122.1652430000312, 47.0830489997...  \n",
       "1  {\"rings\": [[[-122.33136200011126, 47.064063999...  \n",
       "2  {\"rings\": [[[-122.35775599975194, 47.065219999...  \n",
       "3  {\"rings\": [[[-122.36863199991484, 47.053068000...  \n",
       "4  {\"rings\": [[[-122.4110792494156, 47.0717044998...  "
      ]
     },
     "execution_count": 9,
     "metadata": {},
     "output_type": "execute_result"
    }
   ],
   "source": [
    "lvl_df = cbsa_df.dm.level(0).get()\n",
    "\n",
    "lvl_df.head()"
   ]
  },
  {
   "cell_type": "markdown",
   "metadata": {},
   "source": [
    "There also is the case when we need to select an area of interest, which is not a standard geography level, just using a geometry. This can be accomplished using a geometry object.\n",
    "\n",
    "In this instance, although I am using the geometry from the CBSA, it is only an example. Any polygon geometry can be used."
   ]
  },
  {
   "cell_type": "code",
   "execution_count": 10,
   "metadata": {},
   "outputs": [
    {
     "data": {
      "text/html": [
       "<div>\n",
       "<style scoped>\n",
       "    .dataframe tbody tr th:only-of-type {\n",
       "        vertical-align: middle;\n",
       "    }\n",
       "\n",
       "    .dataframe tbody tr th {\n",
       "        vertical-align: top;\n",
       "    }\n",
       "\n",
       "    .dataframe thead th {\n",
       "        text-align: right;\n",
       "    }\n",
       "</style>\n",
       "<table border=\"1\" class=\"dataframe\">\n",
       "  <thead>\n",
       "    <tr style=\"text-align: right;\">\n",
       "      <th></th>\n",
       "      <th>ID</th>\n",
       "      <th>NAME</th>\n",
       "      <th>SHAPE</th>\n",
       "    </tr>\n",
       "  </thead>\n",
       "  <tbody>\n",
       "    <tr>\n",
       "      <th>0</th>\n",
       "      <td>530530701003</td>\n",
       "      <td>530530701.003</td>\n",
       "      <td>{\"rings\": [[[-122.1652430000312, 47.0830489997...</td>\n",
       "    </tr>\n",
       "    <tr>\n",
       "      <th>1</th>\n",
       "      <td>530530714071</td>\n",
       "      <td>530530714.071</td>\n",
       "      <td>{\"rings\": [[[-122.33136200011126, 47.064063999...</td>\n",
       "    </tr>\n",
       "    <tr>\n",
       "      <th>2</th>\n",
       "      <td>530530714072</td>\n",
       "      <td>530530714.072</td>\n",
       "      <td>{\"rings\": [[[-122.35775599975194, 47.065219999...</td>\n",
       "    </tr>\n",
       "    <tr>\n",
       "      <th>3</th>\n",
       "      <td>530530714073</td>\n",
       "      <td>530530714.073</td>\n",
       "      <td>{\"rings\": [[[-122.36863199991484, 47.053068000...</td>\n",
       "    </tr>\n",
       "    <tr>\n",
       "      <th>4</th>\n",
       "      <td>530530714112</td>\n",
       "      <td>530530714.112</td>\n",
       "      <td>{\"rings\": [[[-122.4110792494156, 47.0717044998...</td>\n",
       "    </tr>\n",
       "  </tbody>\n",
       "</table>\n",
       "</div>"
      ],
      "text/plain": [
       "             ID           NAME  \\\n",
       "0  530530701003  530530701.003   \n",
       "1  530530714071  530530714.071   \n",
       "2  530530714072  530530714.072   \n",
       "3  530530714073  530530714.073   \n",
       "4  530530714112  530530714.112   \n",
       "\n",
       "                                               SHAPE  \n",
       "0  {\"rings\": [[[-122.1652430000312, 47.0830489997...  \n",
       "1  {\"rings\": [[[-122.33136200011126, 47.064063999...  \n",
       "2  {\"rings\": [[[-122.35775599975194, 47.065219999...  \n",
       "3  {\"rings\": [[[-122.36863199991484, 47.053068000...  \n",
       "4  {\"rings\": [[[-122.4110792494156, 47.0717044998...  "
      ]
     },
     "execution_count": 10,
     "metadata": {},
     "output_type": "execute_result"
    }
   ],
   "source": [
    "aoi_geom = cbsa_df.iloc[0]['SHAPE']\n",
    "\n",
    "wthn_df = usa.level(0).within(aoi_geom)\n",
    "\n",
    "wthn_df.head()"
   ]
  },
  {
   "cell_type": "markdown",
   "metadata": {},
   "source": [
    "## Function Chaining for Efficiency\n",
    "\n",
    "Once familiar with the workflow, the entire workflow can be chained for efficiency. This enables functionally being able to say, \"_I want all block groups, or simply the lowest level of geography, in Seattle._\""
   ]
  },
  {
   "cell_type": "code",
   "execution_count": 11,
   "metadata": {},
   "outputs": [
    {
     "name": "stdout",
     "output_type": "stream",
     "text": [
      "<class 'pandas.core.frame.DataFrame'>\n",
      "RangeIndex: 2478 entries, 0 to 2477\n",
      "Data columns (total 3 columns):\n",
      " #   Column  Non-Null Count  Dtype   \n",
      "---  ------  --------------  -----   \n",
      " 0   ID      2478 non-null   object  \n",
      " 1   NAME    2478 non-null   object  \n",
      " 2   SHAPE   2478 non-null   geometry\n",
      "dtypes: geometry(1), object(2)\n",
      "memory usage: 58.2+ KB\n"
     ]
    }
   ],
   "source": [
    "sea_bg_df = usa.cbsas.get('seattle').dm.level(0).get()\n",
    "\n",
    "sea_bg_df.info()"
   ]
  },
  {
   "cell_type": "markdown",
   "metadata": {},
   "source": [
    "In this way, moving to a new area of interest is as simple as switching the selector to identify the name of the area to search for."
   ]
  },
  {
   "cell_type": "code",
   "execution_count": 12,
   "metadata": {},
   "outputs": [
    {
     "name": "stdout",
     "output_type": "stream",
     "text": [
      "<class 'pandas.core.frame.DataFrame'>\n",
      "RangeIndex: 1792 entries, 0 to 1791\n",
      "Data columns (total 3 columns):\n",
      " #   Column  Non-Null Count  Dtype   \n",
      "---  ------  --------------  -----   \n",
      " 0   ID      1792 non-null   object  \n",
      " 1   NAME    1792 non-null   object  \n",
      " 2   SHAPE   1792 non-null   geometry\n",
      "dtypes: geometry(1), object(2)\n",
      "memory usage: 42.1+ KB\n"
     ]
    }
   ],
   "source": [
    "pdx_bg_df = usa.cbsas.get('portland').dm.level(0).get()\n",
    "\n",
    "pdx_bg_df.info()"
   ]
  },
  {
   "cell_type": "markdown",
   "metadata": {},
   "source": [
    "Using these methods makes it realatively straightforward to be able to quickly get relevant geographies for an area of interest - to be able to programatically say, \"_I want the smallest geographies for a metro area,_\" even if in a completely different country."
   ]
  },
  {
   "cell_type": "code",
   "execution_count": 13,
   "metadata": {},
   "outputs": [
    {
     "name": "stdout",
     "output_type": "stream",
     "text": [
      "<class 'pandas.core.frame.DataFrame'>\n",
      "RangeIndex: 3442 entries, 0 to 3441\n",
      "Data columns (total 3 columns):\n",
      " #   Column  Non-Null Count  Dtype   \n",
      "---  ------  --------------  -----   \n",
      " 0   ID      3442 non-null   object  \n",
      " 1   NAME    3442 non-null   object  \n",
      " 2   SHAPE   3442 non-null   geometry\n",
      "dtypes: geometry(1), object(2)\n",
      "memory usage: 80.8+ KB\n"
     ]
    }
   ],
   "source": [
    "can = Country('CAN')\n",
    "\n",
    "van_lvl_df = can.cmacas.get('vancouver').dm.level(0).get()\n",
    "\n",
    "van_lvl_df.info()"
   ]
  },
  {
   "cell_type": "code",
   "execution_count": 14,
   "metadata": {},
   "outputs": [
    {
     "data": {
      "text/html": [
       "<div>\n",
       "<style scoped>\n",
       "    .dataframe tbody tr th:only-of-type {\n",
       "        vertical-align: middle;\n",
       "    }\n",
       "\n",
       "    .dataframe tbody tr th {\n",
       "        vertical-align: top;\n",
       "    }\n",
       "\n",
       "    .dataframe thead th {\n",
       "        text-align: right;\n",
       "    }\n",
       "</style>\n",
       "<table border=\"1\" class=\"dataframe\">\n",
       "  <thead>\n",
       "    <tr style=\"text-align: right;\">\n",
       "      <th></th>\n",
       "      <th>ID</th>\n",
       "      <th>NAME</th>\n",
       "      <th>SHAPE</th>\n",
       "    </tr>\n",
       "  </thead>\n",
       "  <tbody>\n",
       "    <tr>\n",
       "      <th>0</th>\n",
       "      <td>59150369</td>\n",
       "      <td>59150369</td>\n",
       "      <td>{\"rings\": [[[-123.0705300003746, 49.2525500003...</td>\n",
       "    </tr>\n",
       "    <tr>\n",
       "      <th>1</th>\n",
       "      <td>59150370</td>\n",
       "      <td>59150370</td>\n",
       "      <td>{\"rings\": [[[-123.07615000003094, 49.251719999...</td>\n",
       "    </tr>\n",
       "    <tr>\n",
       "      <th>2</th>\n",
       "      <td>59150373</td>\n",
       "      <td>59150373</td>\n",
       "      <td>{\"rings\": [[[-123.08187000014466, 49.250950000...</td>\n",
       "    </tr>\n",
       "    <tr>\n",
       "      <th>3</th>\n",
       "      <td>59150375</td>\n",
       "      <td>59150375</td>\n",
       "      <td>{\"rings\": [[[-123.08198000064783, 49.247739999...</td>\n",
       "    </tr>\n",
       "    <tr>\n",
       "      <th>4</th>\n",
       "      <td>59150376</td>\n",
       "      <td>59150376</td>\n",
       "      <td>{\"rings\": [[[-123.08268000025659, 49.246560000...</td>\n",
       "    </tr>\n",
       "  </tbody>\n",
       "</table>\n",
       "</div>"
      ],
      "text/plain": [
       "         ID      NAME                                              SHAPE\n",
       "0  59150369  59150369  {\"rings\": [[[-123.0705300003746, 49.2525500003...\n",
       "1  59150370  59150370  {\"rings\": [[[-123.07615000003094, 49.251719999...\n",
       "2  59150373  59150373  {\"rings\": [[[-123.08187000014466, 49.250950000...\n",
       "3  59150375  59150375  {\"rings\": [[[-123.08198000064783, 49.247739999...\n",
       "4  59150376  59150376  {\"rings\": [[[-123.08268000025659, 49.246560000..."
      ]
     },
     "execution_count": 14,
     "metadata": {},
     "output_type": "execute_result"
    }
   ],
   "source": [
    "van_lvl_df.head()"
   ]
  },
  {
   "cell_type": "markdown",
   "metadata": {},
   "source": [
    "NOTE: Just as above, unless actively running in an environment with the web mapping widget configured, the mapping widget being created below will not display."
   ]
  },
  {
   "cell_type": "code",
   "execution_count": 15,
   "metadata": {},
   "outputs": [
    {
     "data": {
      "application/vnd.jupyter.widget-view+json": {
       "model_id": "33cc7d128dfa49239fed0c90ea0ee383",
       "version_major": 2,
       "version_minor": 0
      },
      "text/plain": [
       "MapView(layout=Layout(height='400px', width='100%'))"
      ]
     },
     "metadata": {},
     "output_type": "display_data"
    },
    {
     "data": {
      "text/html": [
       "<div class=\"map-static-img-preview-75b92db3-3e07-4f42-890a-3251fec872ff\"><img src=\"\"></img></div>"
      ],
      "text/plain": [
       "<IPython.core.display.HTML object>"
      ]
     },
     "metadata": {},
     "output_type": "display_data"
    }
   ],
   "source": [
    "wm02 = van_lvl_df.spatial.plot()\n",
    "wm02.basemap = 'gray-vector'\n",
    "wm02"
   ]
  },
  {
   "cell_type": "markdown",
   "metadata": {},
   "source": [
    "Finally, since a Spatially Enabled DataFrame, saving to a variety of formats, including an Esri Feature Class, is quite straightforward."
   ]
  },
  {
   "cell_type": "code",
   "execution_count": 16,
   "metadata": {},
   "outputs": [
    {
     "data": {
      "text/plain": [
       "'D:\\\\projects\\\\demographic-modeling-module\\\\data\\\\interim\\\\interim.gdb\\\\vancouver_lvl00'"
      ]
     },
     "execution_count": 16,
     "metadata": {},
     "output_type": "execute_result"
    }
   ],
   "source": [
    "van_lvl_df.spatial.to_featureclass('../data/interim/interim.gdb/vancouver_lvl00')"
   ]
  },
  {
   "cell_type": "code",
   "execution_count": null,
   "metadata": {},
   "outputs": [],
   "source": []
  }
 ],
 "metadata": {
  "kernelspec": {
   "display_name": "Python 3",
   "language": "python",
   "name": "python3"
  },
  "language_info": {
   "codemirror_mode": {
    "name": "ipython",
    "version": 3
   },
   "file_extension": ".py",
   "mimetype": "text/x-python",
   "name": "python",
   "nbconvert_exporter": "python",
   "pygments_lexer": "ipython3",
   "version": "3.6.10"
  }
 },
 "nbformat": 4,
 "nbformat_minor": 4
}
