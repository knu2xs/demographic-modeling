{
 "cells": [
  {
   "cell_type": "markdown",
   "metadata": {},
   "source": [
    "# Modeling Modlule\n",
    "\n",
    "The modeling module provides a single Python API for data scientists to take advantage of the capabilities of ArcGIS as part of demographic geographic data science workflows."
   ]
  },
  {
   "cell_type": "markdown",
   "metadata": {},
   "source": [
    "This first cell is largely a bunch of bubblegum and duct tape tying all the things together so I can use this notebook for prototyping and testing."
   ]
  },
  {
   "cell_type": "code",
   "execution_count": 1,
   "metadata": {},
   "outputs": [],
   "source": [
    "import importlib\n",
    "import os\n",
    "from pathlib import Path\n",
    "import re\n",
    "import sys\n",
    "\n",
    "from dotenv import load_dotenv, find_dotenv\n",
    "import pandas as pd\n",
    "\n",
    "# load the \"autoreload\" extension so that code can change, & always reload modules so that as you change code in src, it gets loaded\n",
    "%load_ext autoreload\n",
    "%autoreload 2\n",
    "\n",
    "# load environment variables from .env\n",
    "load_dotenv(find_dotenv())\n",
    "\n",
    "dir_src = Path.cwd().parent.parent/'src'\n",
    "\n",
    "sys.path.insert(0, str(dir_src))"
   ]
  },
  {
   "cell_type": "code",
   "execution_count": 2,
   "metadata": {},
   "outputs": [],
   "source": [
    "from arcgis.gis import GIS\n",
    "from modeling import Country"
   ]
  },
  {
   "cell_type": "code",
   "execution_count": 3,
   "metadata": {},
   "outputs": [
    {
     "data": {
      "text/html": [
       "GIS @ <a href=\"https://geoai.maps.arcgis.com\">https://geoai.maps.arcgis.com</a>"
      ],
      "text/plain": [
       "GIS @ https://geoai.maps.arcgis.com version:8.4"
      ]
     },
     "execution_count": 3,
     "metadata": {},
     "output_type": "execute_result"
    }
   ],
   "source": [
    "gis_agol = GIS(os.getenv('ESRI_GIS_URL'), username=os.getenv('ESRI_GIS_USERNAME'), password=os.getenv('ESRI_GIS_PASSWORD'))\n",
    "\n",
    "gis_agol"
   ]
  },
  {
   "cell_type": "code",
   "execution_count": 4,
   "metadata": {},
   "outputs": [
    {
     "data": {
      "text/html": [
       "GIS @ <a href=\"https://geoai-ent.bd.esri.com/portal/\">https://geoai-ent.bd.esri.com/portal/</a>"
      ],
      "text/plain": [
       "GIS @ https://geoai-ent.bd.esri.com/portal/ version:8.2"
      ]
     },
     "execution_count": 4,
     "metadata": {},
     "output_type": "execute_result"
    }
   ],
   "source": [
    "gis_ent= GIS(os.getenv('ESRI_PORTAL_URL'), username=os.getenv('ESRI_PORTAL_USERNAME'), password=os.getenv('ESRI_PORTAL_PASSWORD'))\n",
    "\n",
    "gis_ent"
   ]
  },
  {
   "cell_type": "code",
   "execution_count": 5,
   "metadata": {},
   "outputs": [
    {
     "data": {
      "text/html": [
       "<div>\n",
       "<style scoped>\n",
       "    .dataframe tbody tr th:only-of-type {\n",
       "        vertical-align: middle;\n",
       "    }\n",
       "\n",
       "    .dataframe tbody tr th {\n",
       "        vertical-align: top;\n",
       "    }\n",
       "\n",
       "    .dataframe thead th {\n",
       "        text-align: right;\n",
       "    }\n",
       "</style>\n",
       "<table border=\"1\" class=\"dataframe\">\n",
       "  <thead>\n",
       "    <tr style=\"text-align: right;\">\n",
       "      <th></th>\n",
       "      <th>ID</th>\n",
       "      <th>NAME</th>\n",
       "      <th>SHAPE</th>\n",
       "    </tr>\n",
       "  </thead>\n",
       "  <tbody>\n",
       "    <tr>\n",
       "      <th>0</th>\n",
       "      <td>530530701003</td>\n",
       "      <td>530530701.003</td>\n",
       "      <td>{\"rings\": [[[-122.1652430000312, 47.0830489997...</td>\n",
       "    </tr>\n",
       "    <tr>\n",
       "      <th>1</th>\n",
       "      <td>530530714071</td>\n",
       "      <td>530530714.071</td>\n",
       "      <td>{\"rings\": [[[-122.33136200011126, 47.064063999...</td>\n",
       "    </tr>\n",
       "    <tr>\n",
       "      <th>2</th>\n",
       "      <td>530530714072</td>\n",
       "      <td>530530714.072</td>\n",
       "      <td>{\"rings\": [[[-122.35775599975194, 47.065219999...</td>\n",
       "    </tr>\n",
       "    <tr>\n",
       "      <th>3</th>\n",
       "      <td>530530714073</td>\n",
       "      <td>530530714.073</td>\n",
       "      <td>{\"rings\": [[[-122.36863199991484, 47.053068000...</td>\n",
       "    </tr>\n",
       "    <tr>\n",
       "      <th>4</th>\n",
       "      <td>530530714112</td>\n",
       "      <td>530530714.112</td>\n",
       "      <td>{\"rings\": [[[-122.4110792494156, 47.0717044998...</td>\n",
       "    </tr>\n",
       "  </tbody>\n",
       "</table>\n",
       "</div>"
      ],
      "text/plain": [
       "             ID           NAME  \\\n",
       "0  530530701003  530530701.003   \n",
       "1  530530714071  530530714.071   \n",
       "2  530530714072  530530714.072   \n",
       "3  530530714073  530530714.073   \n",
       "4  530530714112  530530714.112   \n",
       "\n",
       "                                               SHAPE  \n",
       "0  {\"rings\": [[[-122.1652430000312, 47.0830489997...  \n",
       "1  {\"rings\": [[[-122.33136200011126, 47.064063999...  \n",
       "2  {\"rings\": [[[-122.35775599975194, 47.065219999...  \n",
       "3  {\"rings\": [[[-122.36863199991484, 47.053068000...  \n",
       "4  {\"rings\": [[[-122.4110792494156, 47.0717044998...  "
      ]
     },
     "execution_count": 5,
     "metadata": {},
     "output_type": "execute_result"
    }
   ],
   "source": [
    "local_df = Country('USA', 'local').cbsas.get('seattle').mdl.block_groups.get()\n",
    "\n",
    "local_df.head()"
   ]
  },
  {
   "cell_type": "code",
   "execution_count": 6,
   "metadata": {},
   "outputs": [
    {
     "data": {
      "text/html": [
       "<div>\n",
       "<style scoped>\n",
       "    .dataframe tbody tr th:only-of-type {\n",
       "        vertical-align: middle;\n",
       "    }\n",
       "\n",
       "    .dataframe tbody tr th {\n",
       "        vertical-align: top;\n",
       "    }\n",
       "\n",
       "    .dataframe thead th {\n",
       "        text-align: right;\n",
       "    }\n",
       "</style>\n",
       "<table border=\"1\" class=\"dataframe\">\n",
       "  <thead>\n",
       "    <tr style=\"text-align: right;\">\n",
       "      <th></th>\n",
       "      <th>ID</th>\n",
       "      <th>NAME</th>\n",
       "      <th>SHAPE</th>\n",
       "    </tr>\n",
       "  </thead>\n",
       "  <tbody>\n",
       "    <tr>\n",
       "      <th>0</th>\n",
       "      <td>530330012001</td>\n",
       "      <td>530330012.001</td>\n",
       "      <td>{\"rings\": [[[-122.31243049957185, 47.704870499...</td>\n",
       "    </tr>\n",
       "    <tr>\n",
       "      <th>1</th>\n",
       "      <td>530330012002</td>\n",
       "      <td>530330012.002</td>\n",
       "      <td>{\"rings\": [[[-122.3178410004258, 47.7076489995...</td>\n",
       "    </tr>\n",
       "    <tr>\n",
       "      <th>2</th>\n",
       "      <td>530330032001</td>\n",
       "      <td>530330032.001</td>\n",
       "      <td>{\"rings\": [[[-122.38754700019909, 47.675934999...</td>\n",
       "    </tr>\n",
       "    <tr>\n",
       "      <th>3</th>\n",
       "      <td>530330032002</td>\n",
       "      <td>530330032.002</td>\n",
       "      <td>{\"rings\": [[[-122.38758899913357, 47.671643999...</td>\n",
       "    </tr>\n",
       "    <tr>\n",
       "      <th>4</th>\n",
       "      <td>530330032003</td>\n",
       "      <td>530330032.003</td>\n",
       "      <td>{\"rings\": [[[-122.38758899913357, 47.669455999...</td>\n",
       "    </tr>\n",
       "  </tbody>\n",
       "</table>\n",
       "</div>"
      ],
      "text/plain": [
       "             ID           NAME  \\\n",
       "0  530330012001  530330012.001   \n",
       "1  530330012002  530330012.002   \n",
       "2  530330032001  530330032.001   \n",
       "3  530330032002  530330032.002   \n",
       "4  530330032003  530330032.003   \n",
       "\n",
       "                                               SHAPE  \n",
       "0  {\"rings\": [[[-122.31243049957185, 47.704870499...  \n",
       "1  {\"rings\": [[[-122.3178410004258, 47.7076489995...  \n",
       "2  {\"rings\": [[[-122.38754700019909, 47.675934999...  \n",
       "3  {\"rings\": [[[-122.38758899913357, 47.671643999...  \n",
       "4  {\"rings\": [[[-122.38758899913357, 47.669455999...  "
      ]
     },
     "execution_count": 6,
     "metadata": {},
     "output_type": "execute_result"
    }
   ],
   "source": [
    "agol_df = Country('USA', gis_agol).cbsas.get('seattle').mdl.block_groups.get()\n",
    "\n",
    "agol_df.head()"
   ]
  },
  {
   "cell_type": "code",
   "execution_count": 7,
   "metadata": {},
   "outputs": [
    {
     "data": {
      "text/html": [
       "<div>\n",
       "<style scoped>\n",
       "    .dataframe tbody tr th:only-of-type {\n",
       "        vertical-align: middle;\n",
       "    }\n",
       "\n",
       "    .dataframe tbody tr th {\n",
       "        vertical-align: top;\n",
       "    }\n",
       "\n",
       "    .dataframe thead th {\n",
       "        text-align: right;\n",
       "    }\n",
       "</style>\n",
       "<table border=\"1\" class=\"dataframe\">\n",
       "  <thead>\n",
       "    <tr style=\"text-align: right;\">\n",
       "      <th></th>\n",
       "      <th>ID</th>\n",
       "      <th>NAME</th>\n",
       "      <th>SHAPE</th>\n",
       "    </tr>\n",
       "  </thead>\n",
       "  <tbody>\n",
       "    <tr>\n",
       "      <th>0</th>\n",
       "      <td>530330012001</td>\n",
       "      <td>530330012.001</td>\n",
       "      <td>{\"rings\": [[[-122.31243049957185, 47.704870499...</td>\n",
       "    </tr>\n",
       "    <tr>\n",
       "      <th>1</th>\n",
       "      <td>530330012002</td>\n",
       "      <td>530330012.002</td>\n",
       "      <td>{\"rings\": [[[-122.3178410004258, 47.7076489995...</td>\n",
       "    </tr>\n",
       "    <tr>\n",
       "      <th>2</th>\n",
       "      <td>530330032001</td>\n",
       "      <td>530330032.001</td>\n",
       "      <td>{\"rings\": [[[-122.38754700019909, 47.675934999...</td>\n",
       "    </tr>\n",
       "    <tr>\n",
       "      <th>3</th>\n",
       "      <td>530330032002</td>\n",
       "      <td>530330032.002</td>\n",
       "      <td>{\"rings\": [[[-122.38758899913357, 47.671643999...</td>\n",
       "    </tr>\n",
       "    <tr>\n",
       "      <th>4</th>\n",
       "      <td>530330032003</td>\n",
       "      <td>530330032.003</td>\n",
       "      <td>{\"rings\": [[[-122.38758899913357, 47.669455999...</td>\n",
       "    </tr>\n",
       "  </tbody>\n",
       "</table>\n",
       "</div>"
      ],
      "text/plain": [
       "             ID           NAME  \\\n",
       "0  530330012001  530330012.001   \n",
       "1  530330012002  530330012.002   \n",
       "2  530330032001  530330032.001   \n",
       "3  530330032002  530330032.002   \n",
       "4  530330032003  530330032.003   \n",
       "\n",
       "                                               SHAPE  \n",
       "0  {\"rings\": [[[-122.31243049957185, 47.704870499...  \n",
       "1  {\"rings\": [[[-122.3178410004258, 47.7076489995...  \n",
       "2  {\"rings\": [[[-122.38754700019909, 47.675934999...  \n",
       "3  {\"rings\": [[[-122.38758899913357, 47.671643999...  \n",
       "4  {\"rings\": [[[-122.38758899913357, 47.669455999...  "
      ]
     },
     "execution_count": 7,
     "metadata": {},
     "output_type": "execute_result"
    }
   ],
   "source": [
    "ent_df = Country('USA', gis_ent).cbsas.get('seattle').mdl.block_groups.get()\n",
    "\n",
    "ent_df.head()"
   ]
  },
  {
   "cell_type": "code",
   "execution_count": 8,
   "metadata": {},
   "outputs": [],
   "source": [
    "cbsa_df = Country('USA', gis_ent).cbsas.get('seattle')"
   ]
  },
  {
   "cell_type": "code",
   "execution_count": 9,
   "metadata": {},
   "outputs": [
    {
     "data": {
      "text/html": [
       "<div>\n",
       "<style scoped>\n",
       "    .dataframe tbody tr th:only-of-type {\n",
       "        vertical-align: middle;\n",
       "    }\n",
       "\n",
       "    .dataframe tbody tr th {\n",
       "        vertical-align: top;\n",
       "    }\n",
       "\n",
       "    .dataframe thead th {\n",
       "        text-align: right;\n",
       "    }\n",
       "</style>\n",
       "<table border=\"1\" class=\"dataframe\">\n",
       "  <thead>\n",
       "    <tr style=\"text-align: right;\">\n",
       "      <th></th>\n",
       "      <th>ID</th>\n",
       "      <th>NAME</th>\n",
       "      <th>SHAPE</th>\n",
       "    </tr>\n",
       "  </thead>\n",
       "  <tbody>\n",
       "    <tr>\n",
       "      <th>0</th>\n",
       "      <td>53053</td>\n",
       "      <td>Pierce County</td>\n",
       "      <td>{\"rings\": [[[-122.41766497932484, 47.320186386...</td>\n",
       "    </tr>\n",
       "    <tr>\n",
       "      <th>1</th>\n",
       "      <td>53033</td>\n",
       "      <td>King County</td>\n",
       "      <td>{\"rings\": [[[-121.36751200012111, 47.780137999...</td>\n",
       "    </tr>\n",
       "    <tr>\n",
       "      <th>2</th>\n",
       "      <td>53061</td>\n",
       "      <td>Snohomish County</td>\n",
       "      <td>{\"rings\": [[[-121.68612849977673, 48.298988999...</td>\n",
       "    </tr>\n",
       "  </tbody>\n",
       "</table>\n",
       "</div>"
      ],
      "text/plain": [
       "      ID              NAME                                              SHAPE\n",
       "0  53053     Pierce County  {\"rings\": [[[-122.41766497932484, 47.320186386...\n",
       "1  53033       King County  {\"rings\": [[[-121.36751200012111, 47.780137999...\n",
       "2  53061  Snohomish County  {\"rings\": [[[-121.68612849977673, 48.298988999..."
      ]
     },
     "execution_count": 9,
     "metadata": {},
     "output_type": "execute_result"
    }
   ],
   "source": [
    "cbsa_df.mdl.counties.get()"
   ]
  },
  {
   "cell_type": "code",
   "execution_count": null,
   "metadata": {},
   "outputs": [],
   "source": []
  }
 ],
 "metadata": {
  "kernelspec": {
   "display_name": "Python 3",
   "language": "python",
   "name": "python3"
  },
  "language_info": {
   "codemirror_mode": {
    "name": "ipython",
    "version": 3
   },
   "file_extension": ".py",
   "mimetype": "text/x-python",
   "name": "python",
   "nbconvert_exporter": "python",
   "pygments_lexer": "ipython3",
   "version": "3.7.9"
  }
 },
 "nbformat": 4,
 "nbformat_minor": 4
}
