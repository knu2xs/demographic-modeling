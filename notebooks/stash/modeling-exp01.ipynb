{
 "cells": [
  {
   "cell_type": "markdown",
   "metadata": {},
   "source": [
    "# Modeling Modlule\n",
    "\n",
    "The modeling module provides a single Python API for data scientists to take advantage of the capabilities of ArcGIS as part of demographic geographic data science workflows."
   ]
  },
  {
   "cell_type": "markdown",
   "metadata": {},
   "source": [
    "This first cell is largely a bunch of bubblegum and duct tape tying all the things together so I can use this notebook for prototyping and testing."
   ]
  },
  {
   "cell_type": "code",
   "execution_count": 1,
   "metadata": {},
   "outputs": [],
   "source": [
    "import importlib\n",
    "import os\n",
    "from pathlib import Path\n",
    "import re\n",
    "import sys\n",
    "\n",
    "from dotenv import load_dotenv, find_dotenv\n",
    "import pandas as pd\n",
    "\n",
    "# load the \"autoreload\" extension so that code can change, & always reload modules so that as you change code in src, it gets loaded\n",
    "%load_ext autoreload\n",
    "%autoreload 2\n",
    "\n",
    "# load environment variables from .env\n",
    "load_dotenv(find_dotenv())\n",
    "\n",
    "dir_src = Path.cwd().parent.parent/'src'\n",
    "\n",
    "sys.path.insert(0, str(dir_src))"
   ]
  },
  {
   "cell_type": "code",
   "execution_count": 2,
   "metadata": {},
   "outputs": [],
   "source": [
    "from arcgis.gis import GIS\n",
    "from modeling import Country"
   ]
  },
  {
   "cell_type": "code",
   "execution_count": 3,
   "metadata": {},
   "outputs": [
    {
     "data": {
      "text/html": [
       "GIS @ <a href=\"https://geoai.maps.arcgis.com\">https://geoai.maps.arcgis.com</a>"
      ],
      "text/plain": [
       "GIS @ https://geoai.maps.arcgis.com version:8.4"
      ]
     },
     "execution_count": 3,
     "metadata": {},
     "output_type": "execute_result"
    }
   ],
   "source": [
    "gis_agol = GIS(os.getenv('ESRI_GIS_URL'), username=os.getenv('ESRI_GIS_USERNAME'), password=os.getenv('ESRI_GIS_PASSWORD'))\n",
    "\n",
    "gis_agol"
   ]
  },
  {
   "cell_type": "code",
   "execution_count": 4,
   "metadata": {},
   "outputs": [
    {
     "data": {
      "text/html": [
       "GIS @ <a href=\"https://geoai-ent.bd.esri.com/portal/\">https://geoai-ent.bd.esri.com/portal/</a>"
      ],
      "text/plain": [
       "GIS @ https://geoai-ent.bd.esri.com/portal/ version:8.2"
      ]
     },
     "execution_count": 4,
     "metadata": {},
     "output_type": "execute_result"
    }
   ],
   "source": [
    "gis_ent= GIS(os.getenv('ESRI_PORTAL_URL'), username=os.getenv('ESRI_PORTAL_USERNAME'), password=os.getenv('ESRI_PORTAL_PASSWORD'))\n",
    "\n",
    "gis_ent"
   ]
  },
  {
   "cell_type": "code",
   "execution_count": 5,
   "metadata": {},
   "outputs": [
    {
     "data": {
      "text/plain": [
       "<modeling.Country - USA (GIS at https://geoai-ent.bd.esri.com/portal/ logged in as jmccune)>"
      ]
     },
     "execution_count": 5,
     "metadata": {},
     "output_type": "execute_result"
    }
   ],
   "source": [
    "ent_usa = Country('USA', gis_ent)\n",
    "\n",
    "ent_usa"
   ]
  },
  {
   "cell_type": "code",
   "execution_count": 11,
   "metadata": {},
   "outputs": [
    {
     "name": "stdout",
     "output_type": "stream",
     "text": [
      "<class 'pandas.core.frame.DataFrame'>\n",
      "RangeIndex: 3 entries, 0 to 2\n",
      "Data columns (total 3 columns):\n",
      " #   Column  Non-Null Count  Dtype   \n",
      "---  ------  --------------  -----   \n",
      " 0   ID      3 non-null      object  \n",
      " 1   NAME    3 non-null      object  \n",
      " 2   SHAPE   3 non-null      geometry\n",
      "dtypes: geometry(1), object(2)\n",
      "memory usage: 200.0+ bytes\n",
      "Wall time: 838 ms\n"
     ]
    }
   ],
   "source": [
    "%%time\n",
    "ent_df = ent_usa.cbsas.get('seattle').mdl.counties.get()\n",
    "\n",
    "ent_df.info()"
   ]
  },
  {
   "cell_type": "code",
   "execution_count": 12,
   "metadata": {},
   "outputs": [
    {
     "name": "stdout",
     "output_type": "stream",
     "text": [
      "<class 'pandas.core.frame.DataFrame'>\n",
      "RangeIndex: 20 entries, 0 to 19\n",
      "Data columns (total 8 columns):\n",
      " #   Column             Non-Null Count  Dtype \n",
      "---  ------             --------------  ----- \n",
      " 0   name               20 non-null     object\n",
      " 1   alias              20 non-null     object\n",
      " 2   data_collection    20 non-null     object\n",
      " 3   enrich_name        20 non-null     object\n",
      " 4   enrich_field_name  20 non-null     object\n",
      " 5   description        20 non-null     object\n",
      " 6   vintage            20 non-null     object\n",
      " 7   units              20 non-null     object\n",
      "dtypes: object(8)\n",
      "memory usage: 1.4+ KB\n"
     ]
    }
   ],
   "source": [
    "ev = ent_usa.enrich_variables\n",
    "\n",
    "enrich_variables = ev[\n",
    "    (ev.data_collection.str.lower().str.contains('key'))  # get the key variables\n",
    "    & (ev.name.str.endswith('CY'))                     # just current year (2019) variables\n",
    "].reset_index(drop=True)\n",
    "\n",
    "enrich_variables.info()"
   ]
  },
  {
   "cell_type": "code",
   "execution_count": 13,
   "metadata": {},
   "outputs": [
    {
     "data": {
      "text/html": [
       "<div>\n",
       "<style scoped>\n",
       "    .dataframe tbody tr th:only-of-type {\n",
       "        vertical-align: middle;\n",
       "    }\n",
       "\n",
       "    .dataframe tbody tr th {\n",
       "        vertical-align: top;\n",
       "    }\n",
       "\n",
       "    .dataframe thead th {\n",
       "        text-align: right;\n",
       "    }\n",
       "</style>\n",
       "<table border=\"1\" class=\"dataframe\">\n",
       "  <thead>\n",
       "    <tr style=\"text-align: right;\">\n",
       "      <th></th>\n",
       "      <th>name</th>\n",
       "      <th>alias</th>\n",
       "      <th>data_collection</th>\n",
       "      <th>enrich_name</th>\n",
       "      <th>enrich_field_name</th>\n",
       "      <th>description</th>\n",
       "      <th>vintage</th>\n",
       "      <th>units</th>\n",
       "    </tr>\n",
       "  </thead>\n",
       "  <tbody>\n",
       "    <tr>\n",
       "      <th>2</th>\n",
       "      <td>DIVINDX_CY</td>\n",
       "      <td>2020 Diversity Index</td>\n",
       "      <td>KeyUSFacts</td>\n",
       "      <td>KeyUSFacts.DIVINDX_CY</td>\n",
       "      <td>KeyUSFacts_DIVINDX_CY</td>\n",
       "      <td>2020 Diversity Index (Esri)</td>\n",
       "      <td>2020</td>\n",
       "      <td>count</td>\n",
       "    </tr>\n",
       "    <tr>\n",
       "      <th>15</th>\n",
       "      <td>HHGRW10CY</td>\n",
       "      <td>2010-2020 Growth Rate: Households</td>\n",
       "      <td>KeyUSFacts</td>\n",
       "      <td>KeyUSFacts.HHGRW10CY</td>\n",
       "      <td>KeyUSFacts_HHGRW10CY</td>\n",
       "      <td>2010-2020 Households: Annual Growth Rate (Esri)</td>\n",
       "      <td>2020</td>\n",
       "      <td>pct</td>\n",
       "    </tr>\n",
       "    <tr>\n",
       "      <th>0</th>\n",
       "      <td>TOTPOP_CY</td>\n",
       "      <td>2020 Total Population</td>\n",
       "      <td>KeyUSFacts</td>\n",
       "      <td>KeyUSFacts.TOTPOP_CY</td>\n",
       "      <td>KeyUSFacts_TOTPOP_CY</td>\n",
       "      <td>2020 Total Population (Esri)</td>\n",
       "      <td>2020</td>\n",
       "      <td>count</td>\n",
       "    </tr>\n",
       "    <tr>\n",
       "      <th>12</th>\n",
       "      <td>MEDVAL_CY</td>\n",
       "      <td>2020 Median Home Value</td>\n",
       "      <td>KeyUSFacts</td>\n",
       "      <td>KeyUSFacts.MEDVAL_CY</td>\n",
       "      <td>KeyUSFacts_MEDVAL_CY</td>\n",
       "      <td>2020 Median Home Value (Esri)</td>\n",
       "      <td>2020</td>\n",
       "      <td>currency</td>\n",
       "    </tr>\n",
       "    <tr>\n",
       "      <th>10</th>\n",
       "      <td>RENTER_CY</td>\n",
       "      <td>2020 Renter Occupied HUs</td>\n",
       "      <td>KeyUSFacts</td>\n",
       "      <td>KeyUSFacts.RENTER_CY</td>\n",
       "      <td>KeyUSFacts_RENTER_CY</td>\n",
       "      <td>2020 Renter Occupied Housing Units (Esri)</td>\n",
       "      <td>2020</td>\n",
       "      <td>count</td>\n",
       "    </tr>\n",
       "  </tbody>\n",
       "</table>\n",
       "</div>"
      ],
      "text/plain": [
       "          name                              alias data_collection  \\\n",
       "2   DIVINDX_CY               2020 Diversity Index      KeyUSFacts   \n",
       "15   HHGRW10CY  2010-2020 Growth Rate: Households      KeyUSFacts   \n",
       "0    TOTPOP_CY              2020 Total Population      KeyUSFacts   \n",
       "12   MEDVAL_CY             2020 Median Home Value      KeyUSFacts   \n",
       "10   RENTER_CY           2020 Renter Occupied HUs      KeyUSFacts   \n",
       "\n",
       "              enrich_name      enrich_field_name  \\\n",
       "2   KeyUSFacts.DIVINDX_CY  KeyUSFacts_DIVINDX_CY   \n",
       "15   KeyUSFacts.HHGRW10CY   KeyUSFacts_HHGRW10CY   \n",
       "0    KeyUSFacts.TOTPOP_CY   KeyUSFacts_TOTPOP_CY   \n",
       "12   KeyUSFacts.MEDVAL_CY   KeyUSFacts_MEDVAL_CY   \n",
       "10   KeyUSFacts.RENTER_CY   KeyUSFacts_RENTER_CY   \n",
       "\n",
       "                                        description vintage     units  \n",
       "2                       2020 Diversity Index (Esri)    2020     count  \n",
       "15  2010-2020 Households: Annual Growth Rate (Esri)    2020       pct  \n",
       "0                      2020 Total Population (Esri)    2020     count  \n",
       "12                    2020 Median Home Value (Esri)    2020  currency  \n",
       "10        2020 Renter Occupied Housing Units (Esri)    2020     count  "
      ]
     },
     "execution_count": 13,
     "metadata": {},
     "output_type": "execute_result"
    }
   ],
   "source": [
    "enrich_variables.sample(5)"
   ]
  },
  {
   "cell_type": "code",
   "execution_count": 14,
   "metadata": {},
   "outputs": [
    {
     "name": "stdout",
     "output_type": "stream",
     "text": [
      "Wall time: 2.44 s\n"
     ]
    },
    {
     "data": {
      "text/html": [
       "<div>\n",
       "<style scoped>\n",
       "    .dataframe tbody tr th:only-of-type {\n",
       "        vertical-align: middle;\n",
       "    }\n",
       "\n",
       "    .dataframe tbody tr th {\n",
       "        vertical-align: top;\n",
       "    }\n",
       "\n",
       "    .dataframe thead th {\n",
       "        text-align: right;\n",
       "    }\n",
       "</style>\n",
       "<table border=\"1\" class=\"dataframe\">\n",
       "  <thead>\n",
       "    <tr style=\"text-align: right;\">\n",
       "      <th></th>\n",
       "      <th>ID</th>\n",
       "      <th>NAME</th>\n",
       "      <th>TOTPOP_CY</th>\n",
       "      <th>GQPOP_CY</th>\n",
       "      <th>DIVINDX_CY</th>\n",
       "      <th>TOTHH_CY</th>\n",
       "      <th>AVGHHSZ_CY</th>\n",
       "      <th>MEDHINC_CY</th>\n",
       "      <th>AVGHINC_CY</th>\n",
       "      <th>PCI_CY</th>\n",
       "      <th>...</th>\n",
       "      <th>VACANT_CY</th>\n",
       "      <th>MEDVAL_CY</th>\n",
       "      <th>AVGVAL_CY</th>\n",
       "      <th>POPGRW10CY</th>\n",
       "      <th>HHGRW10CY</th>\n",
       "      <th>FAMGRW10CY</th>\n",
       "      <th>DPOP_CY</th>\n",
       "      <th>DPOPWRK_CY</th>\n",
       "      <th>DPOPRES_CY</th>\n",
       "      <th>SHAPE</th>\n",
       "    </tr>\n",
       "  </thead>\n",
       "  <tbody>\n",
       "    <tr>\n",
       "      <th>0</th>\n",
       "      <td>53053</td>\n",
       "      <td>Pierce County</td>\n",
       "      <td>917565</td>\n",
       "      <td>20565</td>\n",
       "      <td>60.3</td>\n",
       "      <td>342092</td>\n",
       "      <td>2.62</td>\n",
       "      <td>77326</td>\n",
       "      <td>99077</td>\n",
       "      <td>37149</td>\n",
       "      <td>...</td>\n",
       "      <td>23485</td>\n",
       "      <td>343546</td>\n",
       "      <td>417408</td>\n",
       "      <td>1.41</td>\n",
       "      <td>1.29</td>\n",
       "      <td>1.24</td>\n",
       "      <td>884081</td>\n",
       "      <td>376219</td>\n",
       "      <td>507862</td>\n",
       "      <td>{\"rings\": [[[-122.41766497932484, 47.320186386...</td>\n",
       "    </tr>\n",
       "    <tr>\n",
       "      <th>1</th>\n",
       "      <td>53033</td>\n",
       "      <td>King County</td>\n",
       "      <td>2271785</td>\n",
       "      <td>41334</td>\n",
       "      <td>65.4</td>\n",
       "      <td>924539</td>\n",
       "      <td>2.41</td>\n",
       "      <td>100598</td>\n",
       "      <td>135093</td>\n",
       "      <td>55065</td>\n",
       "      <td>...</td>\n",
       "      <td>61820</td>\n",
       "      <td>614306</td>\n",
       "      <td>716039</td>\n",
       "      <td>1.60</td>\n",
       "      <td>1.56</td>\n",
       "      <td>1.49</td>\n",
       "      <td>2381091</td>\n",
       "      <td>1239788</td>\n",
       "      <td>1141303</td>\n",
       "      <td>{\"rings\": [[[-121.36751200012111, 47.780137999...</td>\n",
       "    </tr>\n",
       "    <tr>\n",
       "      <th>2</th>\n",
       "      <td>53061</td>\n",
       "      <td>Snohomish County</td>\n",
       "      <td>834034</td>\n",
       "      <td>9847</td>\n",
       "      <td>56.9</td>\n",
       "      <td>311214</td>\n",
       "      <td>2.65</td>\n",
       "      <td>89662</td>\n",
       "      <td>111835</td>\n",
       "      <td>41812</td>\n",
       "      <td>...</td>\n",
       "      <td>15524</td>\n",
       "      <td>438450</td>\n",
       "      <td>509596</td>\n",
       "      <td>1.54</td>\n",
       "      <td>1.46</td>\n",
       "      <td>1.41</td>\n",
       "      <td>779826</td>\n",
       "      <td>340646</td>\n",
       "      <td>439180</td>\n",
       "      <td>{\"rings\": [[[-121.68612849977673, 48.298988999...</td>\n",
       "    </tr>\n",
       "  </tbody>\n",
       "</table>\n",
       "<p>3 rows × 23 columns</p>\n",
       "</div>"
      ],
      "text/plain": [
       "      ID              NAME  TOTPOP_CY  GQPOP_CY  DIVINDX_CY  TOTHH_CY  \\\n",
       "0  53053     Pierce County     917565     20565        60.3    342092   \n",
       "1  53033       King County    2271785     41334        65.4    924539   \n",
       "2  53061  Snohomish County     834034      9847        56.9    311214   \n",
       "\n",
       "   AVGHHSZ_CY  MEDHINC_CY  AVGHINC_CY  PCI_CY  ...  VACANT_CY  MEDVAL_CY  \\\n",
       "0        2.62       77326       99077   37149  ...      23485     343546   \n",
       "1        2.41      100598      135093   55065  ...      61820     614306   \n",
       "2        2.65       89662      111835   41812  ...      15524     438450   \n",
       "\n",
       "   AVGVAL_CY  POPGRW10CY  HHGRW10CY  FAMGRW10CY  DPOP_CY  DPOPWRK_CY  \\\n",
       "0     417408        1.41       1.29        1.24   884081      376219   \n",
       "1     716039        1.60       1.56        1.49  2381091     1239788   \n",
       "2     509596        1.54       1.46        1.41   779826      340646   \n",
       "\n",
       "   DPOPRES_CY                                              SHAPE  \n",
       "0      507862  {\"rings\": [[[-122.41766497932484, 47.320186386...  \n",
       "1     1141303  {\"rings\": [[[-121.36751200012111, 47.780137999...  \n",
       "2      439180  {\"rings\": [[[-121.68612849977673, 48.298988999...  \n",
       "\n",
       "[3 rows x 23 columns]"
      ]
     },
     "execution_count": 14,
     "metadata": {},
     "output_type": "execute_result"
    }
   ],
   "source": [
    "%%time\n",
    "out_df = ent_df.mdl.enrich(enrich_variables)\n",
    "\n",
    "out_df"
   ]
  },
  {
   "cell_type": "code",
   "execution_count": 19,
   "metadata": {},
   "outputs": [
    {
     "data": {
      "text/plain": [
       "'https://geoai-ent.bd.esri.com/baserver/rest/services/World/GeoEnrichmentServer/Geoenrichment/ServiceLimits'"
      ]
     },
     "execution_count": 19,
     "metadata": {},
     "output_type": "execute_result"
    }
   ],
   "source": [
    "url = f'{gis_ent.properties.helperServices(\"geoenrichment\").url}/Geoenrichment/ServiceLimits'\n",
    "\n",
    "url"
   ]
  },
  {
   "cell_type": "code",
   "execution_count": 26,
   "metadata": {},
   "outputs": [
    {
     "data": {
      "text/plain": [
       "1000"
      ]
     },
     "execution_count": 26,
     "metadata": {},
     "output_type": "execute_result"
    }
   ],
   "source": [
    "res = gis_ent._con.get(url)\n",
    "\n",
    "max_record_count = [v['value'] for v in res['serviceLimits']['value'] if v['paramName'] == 'maxRecordCount'][0]"
   ]
  },
  {
   "cell_type": "code",
   "execution_count": null,
   "metadata": {},
   "outputs": [],
   "source": []
  }
 ],
 "metadata": {
  "kernelspec": {
   "display_name": "Python 3",
   "language": "python",
   "name": "python3"
  },
  "language_info": {
   "codemirror_mode": {
    "name": "ipython",
    "version": 3
   },
   "file_extension": ".py",
   "mimetype": "text/x-python",
   "name": "python",
   "nbconvert_exporter": "python",
   "pygments_lexer": "ipython3",
   "version": "3.7.9"
  }
 },
 "nbformat": 4,
 "nbformat_minor": 4
}
