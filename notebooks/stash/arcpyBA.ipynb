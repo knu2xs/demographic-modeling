{
 "cells": [
  {
   "cell_type": "code",
   "execution_count": 1,
   "metadata": {},
   "outputs": [],
   "source": [
    "import arcpy\n",
    "import pandas as pd"
   ]
  },
  {
   "cell_type": "code",
   "execution_count": 2,
   "metadata": {},
   "outputs": [
    {
     "data": {
      "text/plain": [
       "['CAN_ESRI_2019', 'USA_ESRI_2019', 'USA_ESRI_2020']"
      ]
     },
     "execution_count": 2,
     "metadata": {},
     "output_type": "execute_result"
    }
   ],
   "source": [
    "datasets = list(arcpy._ba.ListDatasets())\n",
    "[d.ID for d in datasets]"
   ]
  },
  {
   "cell_type": "code",
   "execution_count": 3,
   "metadata": {},
   "outputs": [],
   "source": [
    "country_df = pd.DataFrame([pd.Series(d.__dict__) for d in datasets])\n",
    "\n",
    "country_df[['ISO2', 'ISO3']] = country_df.CountryInfo.apply(lambda val: pd.Series([val.ISO2, val.ISO3]) if val is not None else [None, None])"
   ]
  },
  {
   "cell_type": "code",
   "execution_count": 4,
   "metadata": {},
   "outputs": [
    {
     "data": {
      "text/html": [
       "<div>\n",
       "<style scoped>\n",
       "    .dataframe tbody tr th:only-of-type {\n",
       "        vertical-align: middle;\n",
       "    }\n",
       "\n",
       "    .dataframe tbody tr th {\n",
       "        vertical-align: top;\n",
       "    }\n",
       "\n",
       "    .dataframe thead th {\n",
       "        text-align: right;\n",
       "    }\n",
       "</style>\n",
       "<table border=\"1\" class=\"dataframe\">\n",
       "  <thead>\n",
       "    <tr style=\"text-align: right;\">\n",
       "      <th></th>\n",
       "      <th>ID</th>\n",
       "      <th>Caption</th>\n",
       "      <th>CountryInfo</th>\n",
       "      <th>DataSourceID</th>\n",
       "      <th>Version</th>\n",
       "      <th>ISO2</th>\n",
       "      <th>ISO3</th>\n",
       "    </tr>\n",
       "  </thead>\n",
       "  <tbody>\n",
       "    <tr>\n",
       "      <th>0</th>\n",
       "      <td>CAN_ESRI_2019</td>\n",
       "      <td>Esri Canada 2019 Data</td>\n",
       "      <td>&lt;arcpy._ba.CountryInfo object at 0x000002850A0...</td>\n",
       "      <td>LOCAL;;CAN_ESRI_2019</td>\n",
       "      <td>2019</td>\n",
       "      <td>CA</td>\n",
       "      <td>CAN</td>\n",
       "    </tr>\n",
       "    <tr>\n",
       "      <th>1</th>\n",
       "      <td>USA_ESRI_2019</td>\n",
       "      <td>Esri USA 2019</td>\n",
       "      <td>&lt;arcpy._ba.CountryInfo object at 0x000002850A4...</td>\n",
       "      <td>LOCAL;;USA_ESRI_2019</td>\n",
       "      <td>2019</td>\n",
       "      <td>US</td>\n",
       "      <td>USA</td>\n",
       "    </tr>\n",
       "    <tr>\n",
       "      <th>2</th>\n",
       "      <td>USA_ESRI_2020</td>\n",
       "      <td>Esri USA 2020</td>\n",
       "      <td>&lt;arcpy._ba.CountryInfo object at 0x000002850A6...</td>\n",
       "      <td>LOCAL;;USA_ESRI_2020</td>\n",
       "      <td>2020</td>\n",
       "      <td>US</td>\n",
       "      <td>USA</td>\n",
       "    </tr>\n",
       "  </tbody>\n",
       "</table>\n",
       "</div>"
      ],
      "text/plain": [
       "              ID                Caption  \\\n",
       "0  CAN_ESRI_2019  Esri Canada 2019 Data   \n",
       "1  USA_ESRI_2019          Esri USA 2019   \n",
       "2  USA_ESRI_2020          Esri USA 2020   \n",
       "\n",
       "                                         CountryInfo          DataSourceID  \\\n",
       "0  <arcpy._ba.CountryInfo object at 0x000002850A0...  LOCAL;;CAN_ESRI_2019   \n",
       "1  <arcpy._ba.CountryInfo object at 0x000002850A4...  LOCAL;;USA_ESRI_2019   \n",
       "2  <arcpy._ba.CountryInfo object at 0x000002850A6...  LOCAL;;USA_ESRI_2020   \n",
       "\n",
       "  Version ISO2 ISO3  \n",
       "0    2019   CA  CAN  \n",
       "1    2019   US  USA  \n",
       "2    2020   US  USA  "
      ]
     },
     "execution_count": 4,
     "metadata": {},
     "output_type": "execute_result"
    }
   ],
   "source": [
    "country_df"
   ]
  },
  {
   "cell_type": "code",
   "execution_count": 32,
   "metadata": {},
   "outputs": [],
   "source": [
    "usInfo = country_df.iloc[1].CountryInfo"
   ]
  },
  {
   "cell_type": "code",
   "execution_count": 33,
   "metadata": {},
   "outputs": [
    {
     "data": {
      "text/plain": [
       "{'ISO2': 'US', 'ISO3': 'USA', 'Name': 'United States'}"
      ]
     },
     "execution_count": 33,
     "metadata": {},
     "output_type": "execute_result"
    }
   ],
   "source": [
    "usInfo.__dict__"
   ]
  },
  {
   "cell_type": "code",
   "execution_count": 3,
   "metadata": {},
   "outputs": [
    {
     "data": {
      "text/plain": [
       "'USA_ESRI_2020'"
      ]
     },
     "execution_count": 3,
     "metadata": {},
     "output_type": "execute_result"
    }
   ],
   "source": [
    "sorted_datasets = sorted(datasets, key=lambda x: x.Version, reverse = True)\n",
    "us_dataset = next(d for d in sorted_datasets if d.CountryInfo is not None and d.CountryInfo.ISO2 == \"US\" )\n",
    "us_dataset.ID"
   ]
  },
  {
   "cell_type": "code",
   "execution_count": 18,
   "metadata": {},
   "outputs": [
    {
     "data": {
      "text/html": [
       "<div>\n",
       "<style scoped>\n",
       "    .dataframe tbody tr th:only-of-type {\n",
       "        vertical-align: middle;\n",
       "    }\n",
       "\n",
       "    .dataframe tbody tr th {\n",
       "        vertical-align: top;\n",
       "    }\n",
       "\n",
       "    .dataframe thead th {\n",
       "        text-align: right;\n",
       "    }\n",
       "</style>\n",
       "<table border=\"1\" class=\"dataframe\">\n",
       "  <thead>\n",
       "    <tr style=\"text-align: right;\">\n",
       "      <th></th>\n",
       "      <th>Name</th>\n",
       "      <th>FullName</th>\n",
       "      <th>Alias</th>\n",
       "      <th>DataCollectionID</th>\n",
       "      <th>OutputFieldName</th>\n",
       "    </tr>\n",
       "  </thead>\n",
       "  <tbody>\n",
       "    <tr>\n",
       "      <th>0</th>\n",
       "      <td>AGE0_CY</td>\n",
       "      <td>1yearincrements.AGE0_CY</td>\n",
       "      <td>2020 Population Age &lt;1</td>\n",
       "      <td>1yearincrements</td>\n",
       "      <td>F1yearincrements_AGE0_CY</td>\n",
       "    </tr>\n",
       "    <tr>\n",
       "      <th>1</th>\n",
       "      <td>AGE1_CY</td>\n",
       "      <td>1yearincrements.AGE1_CY</td>\n",
       "      <td>2020 Population Age 1</td>\n",
       "      <td>1yearincrements</td>\n",
       "      <td>F1yearincrements_AGE1_CY</td>\n",
       "    </tr>\n",
       "    <tr>\n",
       "      <th>2</th>\n",
       "      <td>AGE2_CY</td>\n",
       "      <td>1yearincrements.AGE2_CY</td>\n",
       "      <td>2020 Population Age 2</td>\n",
       "      <td>1yearincrements</td>\n",
       "      <td>F1yearincrements_AGE2_CY</td>\n",
       "    </tr>\n",
       "    <tr>\n",
       "      <th>3</th>\n",
       "      <td>AGE3_CY</td>\n",
       "      <td>1yearincrements.AGE3_CY</td>\n",
       "      <td>2020 Population Age 3</td>\n",
       "      <td>1yearincrements</td>\n",
       "      <td>F1yearincrements_AGE3_CY</td>\n",
       "    </tr>\n",
       "    <tr>\n",
       "      <th>4</th>\n",
       "      <td>AGE4_CY</td>\n",
       "      <td>1yearincrements.AGE4_CY</td>\n",
       "      <td>2020 Population Age 4</td>\n",
       "      <td>1yearincrements</td>\n",
       "      <td>F1yearincrements_AGE4_CY</td>\n",
       "    </tr>\n",
       "    <tr>\n",
       "      <th>...</th>\n",
       "      <td>...</td>\n",
       "      <td>...</td>\n",
       "      <td>...</td>\n",
       "      <td>...</td>\n",
       "      <td>...</td>\n",
       "    </tr>\n",
       "    <tr>\n",
       "      <th>9222</th>\n",
       "      <td>ACSRMV2000</td>\n",
       "      <td>yearmovedin.ACSRMV2000</td>\n",
       "      <td>2018 RHHs/Moved In: 2000-2009 (ACS 5-Yr)</td>\n",
       "      <td>yearmovedin</td>\n",
       "      <td>yearmovedin_ACSRMV2000</td>\n",
       "    </tr>\n",
       "    <tr>\n",
       "      <th>9223</th>\n",
       "      <td>ACSRMV1990</td>\n",
       "      <td>yearmovedin.ACSRMV1990</td>\n",
       "      <td>2018 RHHs/Moved In: 1990-1999 (ACS 5-Yr)</td>\n",
       "      <td>yearmovedin</td>\n",
       "      <td>yearmovedin_ACSRMV1990</td>\n",
       "    </tr>\n",
       "    <tr>\n",
       "      <th>9224</th>\n",
       "      <td>ACSRMV1989</td>\n",
       "      <td>yearmovedin.ACSRMV1989</td>\n",
       "      <td>2018 RHHs/Moved In: 1989/Before (ACS 5-Yr)</td>\n",
       "      <td>yearmovedin</td>\n",
       "      <td>yearmovedin_ACSRMV1989</td>\n",
       "    </tr>\n",
       "    <tr>\n",
       "      <th>9225</th>\n",
       "      <td>ACSMEDYRMV</td>\n",
       "      <td>yearmovedin.ACSMEDYRMV</td>\n",
       "      <td>2018 Median Year Householder Moved In (ACS 5-Yr)</td>\n",
       "      <td>yearmovedin</td>\n",
       "      <td>yearmovedin_ACSMEDYRMV</td>\n",
       "    </tr>\n",
       "    <tr>\n",
       "      <th>9226</th>\n",
       "      <td>ACSOWNER</td>\n",
       "      <td>yearmovedin.ACSOWNER</td>\n",
       "      <td>2018 Owner Households (ACS 5-Yr)</td>\n",
       "      <td>yearmovedin</td>\n",
       "      <td>yearmovedin_ACSOWNER</td>\n",
       "    </tr>\n",
       "  </tbody>\n",
       "</table>\n",
       "<p>9227 rows × 5 columns</p>\n",
       "</div>"
      ],
      "text/plain": [
       "            Name                 FullName  \\\n",
       "0        AGE0_CY  1yearincrements.AGE0_CY   \n",
       "1        AGE1_CY  1yearincrements.AGE1_CY   \n",
       "2        AGE2_CY  1yearincrements.AGE2_CY   \n",
       "3        AGE3_CY  1yearincrements.AGE3_CY   \n",
       "4        AGE4_CY  1yearincrements.AGE4_CY   \n",
       "...          ...                      ...   \n",
       "9222  ACSRMV2000   yearmovedin.ACSRMV2000   \n",
       "9223  ACSRMV1990   yearmovedin.ACSRMV1990   \n",
       "9224  ACSRMV1989   yearmovedin.ACSRMV1989   \n",
       "9225  ACSMEDYRMV   yearmovedin.ACSMEDYRMV   \n",
       "9226    ACSOWNER     yearmovedin.ACSOWNER   \n",
       "\n",
       "                                                 Alias DataCollectionID  \\\n",
       "0                               2020 Population Age <1  1yearincrements   \n",
       "1                                2020 Population Age 1  1yearincrements   \n",
       "2                                2020 Population Age 2  1yearincrements   \n",
       "3                                2020 Population Age 3  1yearincrements   \n",
       "4                                2020 Population Age 4  1yearincrements   \n",
       "...                                                ...              ...   \n",
       "9222          2018 RHHs/Moved In: 2000-2009 (ACS 5-Yr)      yearmovedin   \n",
       "9223          2018 RHHs/Moved In: 1990-1999 (ACS 5-Yr)      yearmovedin   \n",
       "9224        2018 RHHs/Moved In: 1989/Before (ACS 5-Yr)      yearmovedin   \n",
       "9225  2018 Median Year Householder Moved In (ACS 5-Yr)      yearmovedin   \n",
       "9226                  2018 Owner Households (ACS 5-Yr)      yearmovedin   \n",
       "\n",
       "               OutputFieldName  \n",
       "0     F1yearincrements_AGE0_CY  \n",
       "1     F1yearincrements_AGE1_CY  \n",
       "2     F1yearincrements_AGE2_CY  \n",
       "3     F1yearincrements_AGE3_CY  \n",
       "4     F1yearincrements_AGE4_CY  \n",
       "...                        ...  \n",
       "9222    yearmovedin_ACSRMV2000  \n",
       "9223    yearmovedin_ACSRMV1990  \n",
       "9224    yearmovedin_ACSRMV1989  \n",
       "9225    yearmovedin_ACSMEDYRMV  \n",
       "9226      yearmovedin_ACSOWNER  \n",
       "\n",
       "[9227 rows x 5 columns]"
      ]
     },
     "execution_count": 18,
     "metadata": {},
     "output_type": "execute_result"
    }
   ],
   "source": [
    "enrich_variables = pd.DataFrame([pd.Series(v.__dict__) for v in arcpy._ba.ListVariables(us_dataset)])\n",
    "\n",
    "enrich_variables"
   ]
  },
  {
   "cell_type": "code",
   "execution_count": null,
   "metadata": {},
   "outputs": [],
   "source": []
  }
 ],
 "metadata": {
  "kernelspec": {
   "display_name": "Python 3",
   "language": "python",
   "name": "python3"
  },
  "language_info": {
   "codemirror_mode": {
    "name": "ipython",
    "version": 3
   },
   "file_extension": ".py",
   "mimetype": "text/x-python",
   "name": "python",
   "nbconvert_exporter": "python",
   "pygments_lexer": "ipython3",
   "version": "3.7.9"
  }
 },
 "nbformat": 4,
 "nbformat_minor": 4
}
