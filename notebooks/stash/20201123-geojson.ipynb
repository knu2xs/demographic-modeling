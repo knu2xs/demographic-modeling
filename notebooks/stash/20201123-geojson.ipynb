{
 "cells": [
  {
   "cell_type": "code",
   "execution_count": 1,
   "metadata": {},
   "outputs": [],
   "source": [
    "import sys\n",
    "\n",
    "from arcgis.features import GeoAccessor, FeatureSet\n",
    "from dm import Country, DemographicModeling\n",
    "\n",
    "import pandas as pd\n",
    "from pathlib import Path\n",
    "\n",
    "dir_prj = Path('./').absolute().parent.parent\n",
    "\n",
    "dir_data = dir_prj/'data'\n",
    "dir_test = dir_data/'test'\n",
    "\n",
    "%load_ext autoreload\n",
    "%autoreload 2"
   ]
  },
  {
   "cell_type": "code",
   "execution_count": 2,
   "metadata": {},
   "outputs": [
    {
     "data": {
      "text/plain": [
       "True"
      ]
     },
     "execution_count": 2,
     "metadata": {},
     "output_type": "execute_result"
    }
   ],
   "source": [
    "ta_pth = dir_test/'trade_areas.json'\n",
    "ta_pth.exists()"
   ]
  },
  {
   "cell_type": "code",
   "execution_count": 20,
   "metadata": {},
   "outputs": [
    {
     "name": "stdout",
     "output_type": "stream",
     "text": [
      "<class 'pandas.core.frame.DataFrame'>\n",
      "RangeIndex: 33 entries, 0 to 32\n",
      "Data columns (total 6 columns):\n",
      " #   Column               Non-Null Count  Dtype   \n",
      "---  ------               --------------  -----   \n",
      " 0   id                   33 non-null     object  \n",
      " 1   brand_name           33 non-null     object  \n",
      " 2   brand_name_category  33 non-null     object  \n",
      " 3   Shape_Length         33 non-null     float64 \n",
      " 4   Shape_Area           33 non-null     float64 \n",
      " 5   SHAPE                33 non-null     geometry\n",
      "dtypes: float64(2), geometry(1), object(3)\n",
      "memory usage: 1.7+ KB\n"
     ]
    }
   ],
   "source": [
    "drop_cols = ['OBJECTID', 'AREA_ID', 'AREA_DESC', 'AREA_DESC2', 'AREA_DESC3', 'RING',\n",
    "       'RING_DEFN', 'STORE_LAT', 'STORE_LON', 'STORE_ID', 'LOCNUM', 'CONAME',\n",
    "       'STREET', 'CITY', 'STATE', 'STATE_NAME', 'ZIP', 'ZIP4', 'NAICS', 'SIC',\n",
    "       'SALESVOL', 'HDBRCH', 'ULTNUM', 'PUBPRV', 'EMPNUM', 'FRNCOD', 'ISCODE',\n",
    "       'SQFTCODE', 'LOC_NAME', 'STATUS', 'SCORE', 'SOURCE', 'REC_TYPE']\n",
    "\n",
    "with open(ta_pth) as fl:\n",
    "    df = FeatureSet.from_json(fl.read()).sdf.drop(columns=drop_cols)\n",
    "    df.spatial.set_geometry('SHAPE')\n",
    "    \n",
    "df.info()"
   ]
  },
  {
   "cell_type": "code",
   "execution_count": 24,
   "metadata": {},
   "outputs": [
    {
     "name": "stderr",
     "output_type": "stream",
     "text": [
      "d:\\projects\\demographic-modeling-module\\src\\dm\\country.py:449: UserWarning: registration of accessor <class 'dm.country.DemographicModeling'> under name 'dm' for type <class 'pandas.core.frame.DataFrame'> is overriding a preexistingattribute with the same name.\n",
      "  @register_dataframe_accessor('dm')\n"
     ]
    }
   ],
   "source": [
    "usa = Country('USA')"
   ]
  },
  {
   "cell_type": "code",
   "execution_count": 25,
   "metadata": {},
   "outputs": [
    {
     "data": {
      "text/html": [
       "<div>\n",
       "<style scoped>\n",
       "    .dataframe tbody tr th:only-of-type {\n",
       "        vertical-align: middle;\n",
       "    }\n",
       "\n",
       "    .dataframe tbody tr th {\n",
       "        vertical-align: top;\n",
       "    }\n",
       "\n",
       "    .dataframe thead th {\n",
       "        text-align: right;\n",
       "    }\n",
       "</style>\n",
       "<table border=\"1\" class=\"dataframe\">\n",
       "  <thead>\n",
       "    <tr style=\"text-align: right;\">\n",
       "      <th></th>\n",
       "      <th>name</th>\n",
       "      <th>alias</th>\n",
       "      <th>type</th>\n",
       "      <th>vintage</th>\n",
       "      <th>data_collection</th>\n",
       "      <th>enrich_str</th>\n",
       "      <th>enrich_field_name</th>\n",
       "    </tr>\n",
       "  </thead>\n",
       "  <tbody>\n",
       "    <tr>\n",
       "      <th>0</th>\n",
       "      <td>AGE0_CY</td>\n",
       "      <td>2020 Population Age &lt;1</td>\n",
       "      <td>COUNT</td>\n",
       "      <td>2020</td>\n",
       "      <td>1yearincrements</td>\n",
       "      <td>1yearincrements.AGE0_CY</td>\n",
       "      <td>F1yearincrements_AGE0_CY</td>\n",
       "    </tr>\n",
       "    <tr>\n",
       "      <th>1</th>\n",
       "      <td>AGE1_CY</td>\n",
       "      <td>2020 Population Age 1</td>\n",
       "      <td>COUNT</td>\n",
       "      <td>2020</td>\n",
       "      <td>1yearincrements</td>\n",
       "      <td>1yearincrements.AGE1_CY</td>\n",
       "      <td>F1yearincrements_AGE1_CY</td>\n",
       "    </tr>\n",
       "    <tr>\n",
       "      <th>2</th>\n",
       "      <td>AGE2_CY</td>\n",
       "      <td>2020 Population Age 2</td>\n",
       "      <td>COUNT</td>\n",
       "      <td>2020</td>\n",
       "      <td>1yearincrements</td>\n",
       "      <td>1yearincrements.AGE2_CY</td>\n",
       "      <td>F1yearincrements_AGE2_CY</td>\n",
       "    </tr>\n",
       "    <tr>\n",
       "      <th>3</th>\n",
       "      <td>AGE3_CY</td>\n",
       "      <td>2020 Population Age 3</td>\n",
       "      <td>COUNT</td>\n",
       "      <td>2020</td>\n",
       "      <td>1yearincrements</td>\n",
       "      <td>1yearincrements.AGE3_CY</td>\n",
       "      <td>F1yearincrements_AGE3_CY</td>\n",
       "    </tr>\n",
       "    <tr>\n",
       "      <th>4</th>\n",
       "      <td>AGE4_CY</td>\n",
       "      <td>2020 Population Age 4</td>\n",
       "      <td>COUNT</td>\n",
       "      <td>2020</td>\n",
       "      <td>1yearincrements</td>\n",
       "      <td>1yearincrements.AGE4_CY</td>\n",
       "      <td>F1yearincrements_AGE4_CY</td>\n",
       "    </tr>\n",
       "  </tbody>\n",
       "</table>\n",
       "</div>"
      ],
      "text/plain": [
       "      name                   alias   type vintage  data_collection  \\\n",
       "0  AGE0_CY  2020 Population Age <1  COUNT    2020  1yearincrements   \n",
       "1  AGE1_CY   2020 Population Age 1  COUNT    2020  1yearincrements   \n",
       "2  AGE2_CY   2020 Population Age 2  COUNT    2020  1yearincrements   \n",
       "3  AGE3_CY   2020 Population Age 3  COUNT    2020  1yearincrements   \n",
       "4  AGE4_CY   2020 Population Age 4  COUNT    2020  1yearincrements   \n",
       "\n",
       "                enrich_str         enrich_field_name  \n",
       "0  1yearincrements.AGE0_CY  F1yearincrements_AGE0_CY  \n",
       "1  1yearincrements.AGE1_CY  F1yearincrements_AGE1_CY  \n",
       "2  1yearincrements.AGE2_CY  F1yearincrements_AGE2_CY  \n",
       "3  1yearincrements.AGE3_CY  F1yearincrements_AGE3_CY  \n",
       "4  1yearincrements.AGE4_CY  F1yearincrements_AGE4_CY  "
      ]
     },
     "execution_count": 25,
     "metadata": {},
     "output_type": "execute_result"
    }
   ],
   "source": [
    "e_vars = usa.enrich_variables\n",
    "e_vars.head()"
   ]
  },
  {
   "cell_type": "code",
   "execution_count": 26,
   "metadata": {},
   "outputs": [
    {
     "data": {
      "text/plain": [
       "{'_cntry': <dm.Country - USA (local)>}"
      ]
     },
     "execution_count": 26,
     "metadata": {},
     "output_type": "execute_result"
    }
   ],
   "source": [
    "e_vars.attrs"
   ]
  },
  {
   "cell_type": "code",
   "execution_count": 31,
   "metadata": {},
   "outputs": [
    {
     "data": {
      "text/html": [
       "<div>\n",
       "<style scoped>\n",
       "    .dataframe tbody tr th:only-of-type {\n",
       "        vertical-align: middle;\n",
       "    }\n",
       "\n",
       "    .dataframe tbody tr th {\n",
       "        vertical-align: top;\n",
       "    }\n",
       "\n",
       "    .dataframe thead th {\n",
       "        text-align: right;\n",
       "    }\n",
       "</style>\n",
       "<table border=\"1\" class=\"dataframe\">\n",
       "  <thead>\n",
       "    <tr style=\"text-align: right;\">\n",
       "      <th></th>\n",
       "      <th>name</th>\n",
       "      <th>alias</th>\n",
       "      <th>type</th>\n",
       "      <th>vintage</th>\n",
       "      <th>data_collection</th>\n",
       "      <th>enrich_str</th>\n",
       "      <th>enrich_field_name</th>\n",
       "    </tr>\n",
       "  </thead>\n",
       "  <tbody>\n",
       "    <tr>\n",
       "      <th>6445</th>\n",
       "      <td>TOTPOP_CY</td>\n",
       "      <td>2020 Total Population</td>\n",
       "      <td>COUNT</td>\n",
       "      <td>2020</td>\n",
       "      <td>KeyUSFacts</td>\n",
       "      <td>KeyUSFacts.TOTPOP_CY</td>\n",
       "      <td>KeyUSFacts_TOTPOP_CY</td>\n",
       "    </tr>\n",
       "    <tr>\n",
       "      <th>6447</th>\n",
       "      <td>GQPOP_CY</td>\n",
       "      <td>2020 Group Quarters Population</td>\n",
       "      <td>COUNT</td>\n",
       "      <td>2020</td>\n",
       "      <td>KeyUSFacts</td>\n",
       "      <td>KeyUSFacts.GQPOP_CY</td>\n",
       "      <td>KeyUSFacts_GQPOP_CY</td>\n",
       "    </tr>\n",
       "    <tr>\n",
       "      <th>6448</th>\n",
       "      <td>DIVINDX_CY</td>\n",
       "      <td>2020 Diversity Index</td>\n",
       "      <td>COUNT</td>\n",
       "      <td>2020</td>\n",
       "      <td>KeyUSFacts</td>\n",
       "      <td>KeyUSFacts.DIVINDX_CY</td>\n",
       "      <td>KeyUSFacts_DIVINDX_CY</td>\n",
       "    </tr>\n",
       "    <tr>\n",
       "      <th>6451</th>\n",
       "      <td>TOTHH_CY</td>\n",
       "      <td>2020 Total Households</td>\n",
       "      <td>COUNT</td>\n",
       "      <td>2020</td>\n",
       "      <td>KeyUSFacts</td>\n",
       "      <td>KeyUSFacts.TOTHH_CY</td>\n",
       "      <td>KeyUSFacts_TOTHH_CY</td>\n",
       "    </tr>\n",
       "    <tr>\n",
       "      <th>6453</th>\n",
       "      <td>AVGHHSZ_CY</td>\n",
       "      <td>2020 Average Household Size</td>\n",
       "      <td>COUNT</td>\n",
       "      <td>2020</td>\n",
       "      <td>KeyUSFacts</td>\n",
       "      <td>KeyUSFacts.AVGHHSZ_CY</td>\n",
       "      <td>KeyUSFacts_AVGHHSZ_CY</td>\n",
       "    </tr>\n",
       "    <tr>\n",
       "      <th>6454</th>\n",
       "      <td>MEDHINC_CY</td>\n",
       "      <td>2020 Median Household Income</td>\n",
       "      <td>CURRENCY</td>\n",
       "      <td>2020</td>\n",
       "      <td>KeyUSFacts</td>\n",
       "      <td>KeyUSFacts.MEDHINC_CY</td>\n",
       "      <td>KeyUSFacts_MEDHINC_CY</td>\n",
       "    </tr>\n",
       "    <tr>\n",
       "      <th>6456</th>\n",
       "      <td>AVGHINC_CY</td>\n",
       "      <td>2020 Average Household Income</td>\n",
       "      <td>CURRENCY</td>\n",
       "      <td>2020</td>\n",
       "      <td>KeyUSFacts</td>\n",
       "      <td>KeyUSFacts.AVGHINC_CY</td>\n",
       "      <td>KeyUSFacts_AVGHINC_CY</td>\n",
       "    </tr>\n",
       "    <tr>\n",
       "      <th>6458</th>\n",
       "      <td>PCI_CY</td>\n",
       "      <td>2020 Per Capita Income</td>\n",
       "      <td>CURRENCY</td>\n",
       "      <td>2020</td>\n",
       "      <td>KeyUSFacts</td>\n",
       "      <td>KeyUSFacts.PCI_CY</td>\n",
       "      <td>KeyUSFacts_PCI_CY</td>\n",
       "    </tr>\n",
       "    <tr>\n",
       "      <th>6462</th>\n",
       "      <td>TOTHU_CY</td>\n",
       "      <td>2020 Total Housing Units</td>\n",
       "      <td>COUNT</td>\n",
       "      <td>2020</td>\n",
       "      <td>KeyUSFacts</td>\n",
       "      <td>KeyUSFacts.TOTHU_CY</td>\n",
       "      <td>KeyUSFacts_TOTHU_CY</td>\n",
       "    </tr>\n",
       "    <tr>\n",
       "      <th>6464</th>\n",
       "      <td>OWNER_CY</td>\n",
       "      <td>2020 Owner Occupied HUs</td>\n",
       "      <td>COUNT</td>\n",
       "      <td>2020</td>\n",
       "      <td>KeyUSFacts</td>\n",
       "      <td>KeyUSFacts.OWNER_CY</td>\n",
       "      <td>KeyUSFacts_OWNER_CY</td>\n",
       "    </tr>\n",
       "    <tr>\n",
       "      <th>6466</th>\n",
       "      <td>RENTER_CY</td>\n",
       "      <td>2020 Renter Occupied HUs</td>\n",
       "      <td>COUNT</td>\n",
       "      <td>2020</td>\n",
       "      <td>KeyUSFacts</td>\n",
       "      <td>KeyUSFacts.RENTER_CY</td>\n",
       "      <td>KeyUSFacts_RENTER_CY</td>\n",
       "    </tr>\n",
       "    <tr>\n",
       "      <th>6468</th>\n",
       "      <td>VACANT_CY</td>\n",
       "      <td>2020 Vacant Housing Units</td>\n",
       "      <td>COUNT</td>\n",
       "      <td>2020</td>\n",
       "      <td>KeyUSFacts</td>\n",
       "      <td>KeyUSFacts.VACANT_CY</td>\n",
       "      <td>KeyUSFacts_VACANT_CY</td>\n",
       "    </tr>\n",
       "    <tr>\n",
       "      <th>6470</th>\n",
       "      <td>MEDVAL_CY</td>\n",
       "      <td>2020 Median Home Value</td>\n",
       "      <td>CURRENCY</td>\n",
       "      <td>2020</td>\n",
       "      <td>KeyUSFacts</td>\n",
       "      <td>KeyUSFacts.MEDVAL_CY</td>\n",
       "      <td>KeyUSFacts_MEDVAL_CY</td>\n",
       "    </tr>\n",
       "    <tr>\n",
       "      <th>6472</th>\n",
       "      <td>AVGVAL_CY</td>\n",
       "      <td>2020 Average Home Value</td>\n",
       "      <td>CURRENCY</td>\n",
       "      <td>2020</td>\n",
       "      <td>KeyUSFacts</td>\n",
       "      <td>KeyUSFacts.AVGVAL_CY</td>\n",
       "      <td>KeyUSFacts_AVGVAL_CY</td>\n",
       "    </tr>\n",
       "    <tr>\n",
       "      <th>6474</th>\n",
       "      <td>POPGRW10CY</td>\n",
       "      <td>2010-2020 Growth Rate: Population</td>\n",
       "      <td>PCT</td>\n",
       "      <td>2020</td>\n",
       "      <td>KeyUSFacts</td>\n",
       "      <td>KeyUSFacts.POPGRW10CY</td>\n",
       "      <td>KeyUSFacts_POPGRW10CY</td>\n",
       "    </tr>\n",
       "    <tr>\n",
       "      <th>6475</th>\n",
       "      <td>HHGRW10CY</td>\n",
       "      <td>2010-2020 Growth Rate: Households</td>\n",
       "      <td>PCT</td>\n",
       "      <td>2020</td>\n",
       "      <td>KeyUSFacts</td>\n",
       "      <td>KeyUSFacts.HHGRW10CY</td>\n",
       "      <td>KeyUSFacts_HHGRW10CY</td>\n",
       "    </tr>\n",
       "    <tr>\n",
       "      <th>6476</th>\n",
       "      <td>FAMGRW10CY</td>\n",
       "      <td>2010-2020 Growth Rate: Families</td>\n",
       "      <td>PCT</td>\n",
       "      <td>2020</td>\n",
       "      <td>KeyUSFacts</td>\n",
       "      <td>KeyUSFacts.FAMGRW10CY</td>\n",
       "      <td>KeyUSFacts_FAMGRW10CY</td>\n",
       "    </tr>\n",
       "    <tr>\n",
       "      <th>6482</th>\n",
       "      <td>DPOP_CY</td>\n",
       "      <td>2020 Total Daytime Population</td>\n",
       "      <td>COUNT</td>\n",
       "      <td>2020</td>\n",
       "      <td>KeyUSFacts</td>\n",
       "      <td>KeyUSFacts.DPOP_CY</td>\n",
       "      <td>KeyUSFacts_DPOP_CY</td>\n",
       "    </tr>\n",
       "    <tr>\n",
       "      <th>6483</th>\n",
       "      <td>DPOPWRK_CY</td>\n",
       "      <td>2020 Daytime Pop: Workers</td>\n",
       "      <td>COUNT</td>\n",
       "      <td>2020</td>\n",
       "      <td>KeyUSFacts</td>\n",
       "      <td>KeyUSFacts.DPOPWRK_CY</td>\n",
       "      <td>KeyUSFacts_DPOPWRK_CY</td>\n",
       "    </tr>\n",
       "    <tr>\n",
       "      <th>6484</th>\n",
       "      <td>DPOPRES_CY</td>\n",
       "      <td>2020 Daytime Pop: Residents</td>\n",
       "      <td>COUNT</td>\n",
       "      <td>2020</td>\n",
       "      <td>KeyUSFacts</td>\n",
       "      <td>KeyUSFacts.DPOPRES_CY</td>\n",
       "      <td>KeyUSFacts_DPOPRES_CY</td>\n",
       "    </tr>\n",
       "  </tbody>\n",
       "</table>\n",
       "</div>"
      ],
      "text/plain": [
       "            name                              alias      type vintage  \\\n",
       "6445   TOTPOP_CY              2020 Total Population     COUNT    2020   \n",
       "6447    GQPOP_CY     2020 Group Quarters Population     COUNT    2020   \n",
       "6448  DIVINDX_CY               2020 Diversity Index     COUNT    2020   \n",
       "6451    TOTHH_CY              2020 Total Households     COUNT    2020   \n",
       "6453  AVGHHSZ_CY        2020 Average Household Size     COUNT    2020   \n",
       "6454  MEDHINC_CY       2020 Median Household Income  CURRENCY    2020   \n",
       "6456  AVGHINC_CY      2020 Average Household Income  CURRENCY    2020   \n",
       "6458      PCI_CY             2020 Per Capita Income  CURRENCY    2020   \n",
       "6462    TOTHU_CY           2020 Total Housing Units     COUNT    2020   \n",
       "6464    OWNER_CY            2020 Owner Occupied HUs     COUNT    2020   \n",
       "6466   RENTER_CY           2020 Renter Occupied HUs     COUNT    2020   \n",
       "6468   VACANT_CY          2020 Vacant Housing Units     COUNT    2020   \n",
       "6470   MEDVAL_CY             2020 Median Home Value  CURRENCY    2020   \n",
       "6472   AVGVAL_CY            2020 Average Home Value  CURRENCY    2020   \n",
       "6474  POPGRW10CY  2010-2020 Growth Rate: Population       PCT    2020   \n",
       "6475   HHGRW10CY  2010-2020 Growth Rate: Households       PCT    2020   \n",
       "6476  FAMGRW10CY    2010-2020 Growth Rate: Families       PCT    2020   \n",
       "6482     DPOP_CY      2020 Total Daytime Population     COUNT    2020   \n",
       "6483  DPOPWRK_CY          2020 Daytime Pop: Workers     COUNT    2020   \n",
       "6484  DPOPRES_CY        2020 Daytime Pop: Residents     COUNT    2020   \n",
       "\n",
       "     data_collection             enrich_str      enrich_field_name  \n",
       "6445      KeyUSFacts   KeyUSFacts.TOTPOP_CY   KeyUSFacts_TOTPOP_CY  \n",
       "6447      KeyUSFacts    KeyUSFacts.GQPOP_CY    KeyUSFacts_GQPOP_CY  \n",
       "6448      KeyUSFacts  KeyUSFacts.DIVINDX_CY  KeyUSFacts_DIVINDX_CY  \n",
       "6451      KeyUSFacts    KeyUSFacts.TOTHH_CY    KeyUSFacts_TOTHH_CY  \n",
       "6453      KeyUSFacts  KeyUSFacts.AVGHHSZ_CY  KeyUSFacts_AVGHHSZ_CY  \n",
       "6454      KeyUSFacts  KeyUSFacts.MEDHINC_CY  KeyUSFacts_MEDHINC_CY  \n",
       "6456      KeyUSFacts  KeyUSFacts.AVGHINC_CY  KeyUSFacts_AVGHINC_CY  \n",
       "6458      KeyUSFacts      KeyUSFacts.PCI_CY      KeyUSFacts_PCI_CY  \n",
       "6462      KeyUSFacts    KeyUSFacts.TOTHU_CY    KeyUSFacts_TOTHU_CY  \n",
       "6464      KeyUSFacts    KeyUSFacts.OWNER_CY    KeyUSFacts_OWNER_CY  \n",
       "6466      KeyUSFacts   KeyUSFacts.RENTER_CY   KeyUSFacts_RENTER_CY  \n",
       "6468      KeyUSFacts   KeyUSFacts.VACANT_CY   KeyUSFacts_VACANT_CY  \n",
       "6470      KeyUSFacts   KeyUSFacts.MEDVAL_CY   KeyUSFacts_MEDVAL_CY  \n",
       "6472      KeyUSFacts   KeyUSFacts.AVGVAL_CY   KeyUSFacts_AVGVAL_CY  \n",
       "6474      KeyUSFacts  KeyUSFacts.POPGRW10CY  KeyUSFacts_POPGRW10CY  \n",
       "6475      KeyUSFacts   KeyUSFacts.HHGRW10CY   KeyUSFacts_HHGRW10CY  \n",
       "6476      KeyUSFacts  KeyUSFacts.FAMGRW10CY  KeyUSFacts_FAMGRW10CY  \n",
       "6482      KeyUSFacts     KeyUSFacts.DPOP_CY     KeyUSFacts_DPOP_CY  \n",
       "6483      KeyUSFacts  KeyUSFacts.DPOPWRK_CY  KeyUSFacts_DPOPWRK_CY  \n",
       "6484      KeyUSFacts  KeyUSFacts.DPOPRES_CY  KeyUSFacts_DPOPRES_CY  "
      ]
     },
     "execution_count": 31,
     "metadata": {},
     "output_type": "execute_result"
    }
   ],
   "source": [
    "key_vars = e_vars[(e_vars.name.str.endswith('CY')) & (e_vars.data_collection.str.startswith('Key'))]\n",
    "key_vars"
   ]
  },
  {
   "cell_type": "code",
   "execution_count": 32,
   "metadata": {},
   "outputs": [
    {
     "data": {
      "text/plain": [
       "{'_cntry': <dm.Country - USA (local)>}"
      ]
     },
     "execution_count": 32,
     "metadata": {},
     "output_type": "execute_result"
    }
   ],
   "source": [
    "key_vars.attrs"
   ]
  },
  {
   "cell_type": "code",
   "execution_count": 33,
   "metadata": {},
   "outputs": [
    {
     "ename": "AssertionError",
     "evalue": "The 'dm.enrich' method requires the parent dataframe be created by the Country object, the enrich variables to be provided as a dataframe retrieved from a Country object, or a valid Country object must be explicitly provided as input into the country parameter.",
     "output_type": "error",
     "traceback": [
      "\u001b[1;31m---------------------------------------------------------------------------\u001b[0m",
      "\u001b[1;31mAssertionError\u001b[0m                            Traceback (most recent call last)",
      "\u001b[1;32m<ipython-input-33-02e070d2d92f>\u001b[0m in \u001b[0;36m<module>\u001b[1;34m\u001b[0m\n\u001b[1;32m----> 1\u001b[1;33m \u001b[0mdf\u001b[0m\u001b[1;33m.\u001b[0m\u001b[0mdm\u001b[0m\u001b[1;33m.\u001b[0m\u001b[0menrich\u001b[0m\u001b[1;33m(\u001b[0m\u001b[0mkey_vars\u001b[0m\u001b[1;33m)\u001b[0m\u001b[1;33m\u001b[0m\u001b[1;33m\u001b[0m\u001b[0m\n\u001b[0m",
      "\u001b[1;32md:\\projects\\demographic-modeling-module\\src\\dm\\country.py\u001b[0m in \u001b[0;36menrich\u001b[1;34m(self, enrich_variables, data_collections, country)\u001b[0m\n\u001b[0;32m    591\u001b[0m             \u001b[0mcntry\u001b[0m \u001b[1;33m=\u001b[0m \u001b[1;32mNone\u001b[0m\u001b[1;33m\u001b[0m\u001b[1;33m\u001b[0m\u001b[0m\n\u001b[0;32m    592\u001b[0m \u001b[1;33m\u001b[0m\u001b[0m\n\u001b[1;32m--> 593\u001b[1;33m         \u001b[1;32massert\u001b[0m \u001b[0misinstance\u001b[0m\u001b[1;33m(\u001b[0m\u001b[0mcntry\u001b[0m\u001b[1;33m,\u001b[0m \u001b[0mCountry\u001b[0m\u001b[1;33m)\u001b[0m\u001b[1;33m,\u001b[0m \u001b[1;34m\"The 'dm.enrich' method requires the parent dataframe be created by the \"\u001b[0m\u001b[0;31m \u001b[0m\u001b[0;31m\\\u001b[0m\u001b[1;33m\u001b[0m\u001b[1;33m\u001b[0m\u001b[0m\n\u001b[0m\u001b[0;32m    594\u001b[0m                                            \u001b[1;34m\"Country object, the enrich variables to be provided as a dataframe \"\u001b[0m\u001b[0;31m \u001b[0m\u001b[0;31m\\\u001b[0m\u001b[1;33m\u001b[0m\u001b[1;33m\u001b[0m\u001b[0m\n\u001b[0;32m    595\u001b[0m                                            \u001b[1;34m\"retrieved from a Country object, or a valid Country object must be \"\u001b[0m\u001b[0;31m \u001b[0m\u001b[0;31m\\\u001b[0m\u001b[1;33m\u001b[0m\u001b[1;33m\u001b[0m\u001b[0m\n",
      "\u001b[1;31mAssertionError\u001b[0m: The 'dm.enrich' method requires the parent dataframe be created by the Country object, the enrich variables to be provided as a dataframe retrieved from a Country object, or a valid Country object must be explicitly provided as input into the country parameter."
     ]
    }
   ],
   "source": [
    "df.dm.enrich(key_vars)"
   ]
  },
  {
   "cell_type": "code",
   "execution_count": 47,
   "metadata": {},
   "outputs": [
    {
     "data": {
      "text/plain": [
       "False"
      ]
     },
     "execution_count": 47,
     "metadata": {},
     "output_type": "execute_result"
    }
   ],
   "source": [
    "new_df.spatial.validate()"
   ]
  },
  {
   "cell_type": "code",
   "execution_count": 48,
   "metadata": {},
   "outputs": [
    {
     "data": {
      "text/plain": [
       "{'_cntry': <dm.Country - USA (local)>}"
      ]
     },
     "execution_count": 48,
     "metadata": {},
     "output_type": "execute_result"
    }
   ],
   "source": [
    "new_df.attrs"
   ]
  },
  {
   "cell_type": "code",
   "execution_count": null,
   "metadata": {},
   "outputs": [],
   "source": []
  }
 ],
 "metadata": {
  "kernelspec": {
   "display_name": "Python 3",
   "language": "python",
   "name": "python3"
  },
  "language_info": {
   "codemirror_mode": {
    "name": "ipython",
    "version": 3
   },
   "file_extension": ".py",
   "mimetype": "text/x-python",
   "name": "python",
   "nbconvert_exporter": "python",
   "pygments_lexer": "ipython3",
   "version": "3.6.10"
  },
  "pycharm": {
   "stem_cell": {
    "cell_type": "raw",
    "metadata": {
     "collapsed": false
    },
    "source": []
   }
  }
 },
 "nbformat": 4,
 "nbformat_minor": 4
}
