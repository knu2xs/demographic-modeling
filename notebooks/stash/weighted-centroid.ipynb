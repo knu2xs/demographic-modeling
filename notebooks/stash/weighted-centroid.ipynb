{
 "cells": [
  {
   "cell_type": "code",
   "execution_count": 1,
   "metadata": {},
   "outputs": [
    {
     "name": "stderr",
     "output_type": "stream",
     "text": [
      "D:\\projects\\demographic-modeling-module\\src\\dm\\_modify_geoaccessor.py:31: UserWarning: registration of accessor <class 'dm._modify_geoaccessor.GeoAccessorIO'> under name 'spatial' for type <class 'pandas.core.frame.DataFrame'> is overriding a preexistingattribute with the same name.\n",
      "  class GeoAccessorIO(GeoAccessor):\n"
     ]
    }
   ],
   "source": [
    "from pathlib import Path\n",
    "import sys\n",
    "\n",
    "from arcgis.geometry import Geometry\n",
    "import arcpy\n",
    "import pandas as pd\n",
    "\n",
    "project_parent = Path('./').absolute().parent.parent\n",
    "\n",
    "# import the project package from the project package path\n",
    "# ideally will be imported using 'from arcgis import dm'\n",
    "sys.path.append(str(project_parent/'src'))\n",
    "import dm\n",
    "from dm._modify_geoaccessor import GeoAccessorIO as GeoAccessor\n",
    "\n",
    "# load the \"autoreload\" extension so as src code is changed, the changes are picked up in the dataframe\n",
    "%load_ext autoreload\n",
    "%autoreload 2"
   ]
  },
  {
   "cell_type": "code",
   "execution_count": 2,
   "metadata": {},
   "outputs": [],
   "source": [
    "usa = dm.Country('USA')"
   ]
  },
  {
   "cell_type": "code",
   "execution_count": 3,
   "metadata": {},
   "outputs": [
    {
     "name": "stdout",
     "output_type": "stream",
     "text": [
      "<class 'pandas.core.frame.DataFrame'>\n",
      "RangeIndex: 789 entries, 0 to 788\n",
      "Data columns (total 3 columns):\n",
      " #   Column  Non-Null Count  Dtype   \n",
      "---  ------  --------------  -----   \n",
      " 0   ID      789 non-null    object  \n",
      " 1   NAME    789 non-null    object  \n",
      " 2   SHAPE   789 non-null    geometry\n",
      "dtypes: geometry(1), object(2)\n",
      "memory usage: 18.6+ KB\n"
     ]
    }
   ],
   "source": [
    "tract_df = usa.cbsas.get('minneapolis').census_tracts.get()\n",
    "\n",
    "tract_df.info()"
   ]
  },
  {
   "cell_type": "code",
   "execution_count": 4,
   "metadata": {},
   "outputs": [
    {
     "data": {
      "application/vnd.jupyter.widget-view+json": {
       "model_id": "8863a46a0ef1461581060afe1169f0ba",
       "version_major": 2,
       "version_minor": 0
      },
      "text/plain": [
       "MapView(layout=Layout(height='400px', width='100%'))"
      ]
     },
     "metadata": {},
     "output_type": "display_data"
    },
    {
     "data": {
      "text/html": [
       "<div class=\"map-static-img-preview-d05dde18-ff55-4a23-b426-854d18625446\"><img src=\"\"></img></div>"
      ],
      "text/plain": [
       "<IPython.core.display.HTML object>"
      ]
     },
     "metadata": {},
     "output_type": "display_data"
    }
   ],
   "source": [
    "tract_df.spatial.plot()"
   ]
  },
  {
   "cell_type": "code",
   "execution_count": 5,
   "metadata": {},
   "outputs": [
    {
     "data": {
      "text/html": [
       "<div>\n",
       "<style scoped>\n",
       "    .dataframe tbody tr th:only-of-type {\n",
       "        vertical-align: middle;\n",
       "    }\n",
       "\n",
       "    .dataframe tbody tr th {\n",
       "        vertical-align: top;\n",
       "    }\n",
       "\n",
       "    .dataframe thead th {\n",
       "        text-align: right;\n",
       "    }\n",
       "</style>\n",
       "<table border=\"1\" class=\"dataframe\">\n",
       "  <thead>\n",
       "    <tr style=\"text-align: right;\">\n",
       "      <th></th>\n",
       "      <th>ID</th>\n",
       "      <th>NAME</th>\n",
       "      <th>SHAPE</th>\n",
       "    </tr>\n",
       "  </thead>\n",
       "  <tbody>\n",
       "    <tr>\n",
       "      <th>0</th>\n",
       "      <td>27079950400</td>\n",
       "      <td>270799504.00</td>\n",
       "      <td>{\"rings\": [[[-10415955.3616, 5511892.221699998...</td>\n",
       "    </tr>\n",
       "    <tr>\n",
       "      <th>1</th>\n",
       "      <td>27079950500</td>\n",
       "      <td>270799505.00</td>\n",
       "      <td>{\"rings\": [[[-10431098.4859, 5528517.864500001...</td>\n",
       "    </tr>\n",
       "    <tr>\n",
       "      <th>2</th>\n",
       "      <td>27079950600</td>\n",
       "      <td>270799506.00</td>\n",
       "      <td>{\"rings\": [[[-10456149.8241, 5523972.706100002...</td>\n",
       "    </tr>\n",
       "    <tr>\n",
       "      <th>3</th>\n",
       "      <td>27143170200</td>\n",
       "      <td>271431702.00</td>\n",
       "      <td>{\"rings\": [[[-10519477.4972, 5577105.204499997...</td>\n",
       "    </tr>\n",
       "    <tr>\n",
       "      <th>4</th>\n",
       "      <td>27019090301</td>\n",
       "      <td>270190903.01</td>\n",
       "      <td>{\"rings\": [[[-10448941.887, 5604401.5282000005...</td>\n",
       "    </tr>\n",
       "  </tbody>\n",
       "</table>\n",
       "</div>"
      ],
      "text/plain": [
       "            ID          NAME  \\\n",
       "0  27079950400  270799504.00   \n",
       "1  27079950500  270799505.00   \n",
       "2  27079950600  270799506.00   \n",
       "3  27143170200  271431702.00   \n",
       "4  27019090301  270190903.01   \n",
       "\n",
       "                                               SHAPE  \n",
       "0  {\"rings\": [[[-10415955.3616, 5511892.221699998...  \n",
       "1  {\"rings\": [[[-10431098.4859, 5528517.864500001...  \n",
       "2  {\"rings\": [[[-10456149.8241, 5523972.706100002...  \n",
       "3  {\"rings\": [[[-10519477.4972, 5577105.204499997...  \n",
       "4  {\"rings\": [[[-10448941.887, 5604401.5282000005...  "
      ]
     },
     "execution_count": 5,
     "metadata": {},
     "output_type": "execute_result"
    }
   ],
   "source": [
    "tract_df.head()"
   ]
  },
  {
   "cell_type": "code",
   "execution_count": 9,
   "metadata": {},
   "outputs": [],
   "source": [
    "bp_pth = Path(r'D:\\arcgis\\ba_data\\Data\\Demographic Data\\block_data.gdb\\USA_ESRI_2019_blocks')"
   ]
  },
  {
   "cell_type": "code",
   "execution_count": 10,
   "metadata": {},
   "outputs": [
    {
     "name": "stdout",
     "output_type": "stream",
     "text": [
      "<class 'pandas.core.frame.DataFrame'>\n",
      "RangeIndex: 6901541 entries, 0 to 6901540\n",
      "Data columns (total 5 columns):\n",
      " #   Column  Dtype   \n",
      "---  ------  -----   \n",
      " 0   FIPS    object  \n",
      " 1   POP_C   float64 \n",
      " 2   HH_C    float64 \n",
      " 3   HU_C    float64 \n",
      " 4   SHAPE   geometry\n",
      "dtypes: float64(3), geometry(1), object(1)\n",
      "memory usage: 263.3+ MB\n"
     ]
    }
   ],
   "source": [
    "bp_df = GeoAccessor.from_featureclass(bp_pth, fields=['FIPS', 'POP_C', 'HH_C', 'HU_C'])\n",
    "bp_df.spatial.project(4326)\n",
    "bp_df.info()"
   ]
  },
  {
   "cell_type": "code",
   "execution_count": 11,
   "metadata": {},
   "outputs": [
    {
     "data": {
      "text/html": [
       "<div>\n",
       "<style scoped>\n",
       "    .dataframe tbody tr th:only-of-type {\n",
       "        vertical-align: middle;\n",
       "    }\n",
       "\n",
       "    .dataframe tbody tr th {\n",
       "        vertical-align: top;\n",
       "    }\n",
       "\n",
       "    .dataframe thead th {\n",
       "        text-align: right;\n",
       "    }\n",
       "</style>\n",
       "<table border=\"1\" class=\"dataframe\">\n",
       "  <thead>\n",
       "    <tr style=\"text-align: right;\">\n",
       "      <th></th>\n",
       "      <th>FIPS</th>\n",
       "      <th>POP_C</th>\n",
       "      <th>HH_C</th>\n",
       "      <th>HU_C</th>\n",
       "      <th>SHAPE</th>\n",
       "    </tr>\n",
       "  </thead>\n",
       "  <tbody>\n",
       "    <tr>\n",
       "      <th>0</th>\n",
       "      <td>150039812001004</td>\n",
       "      <td>0.0</td>\n",
       "      <td>0.0</td>\n",
       "      <td>0.0</td>\n",
       "      <td>{\"x\": -166.28822369728738, \"y\": 23.86846842713...</td>\n",
       "    </tr>\n",
       "    <tr>\n",
       "      <th>1</th>\n",
       "      <td>150039812001005</td>\n",
       "      <td>0.0</td>\n",
       "      <td>0.0</td>\n",
       "      <td>0.0</td>\n",
       "      <td>{\"x\": -166.21047832818513, \"y\": 23.78768193935...</td>\n",
       "    </tr>\n",
       "    <tr>\n",
       "      <th>2</th>\n",
       "      <td>150039812001006</td>\n",
       "      <td>0.0</td>\n",
       "      <td>0.0</td>\n",
       "      <td>0.0</td>\n",
       "      <td>{\"x\": -166.24250323482633, \"y\": 23.87162798684...</td>\n",
       "    </tr>\n",
       "    <tr>\n",
       "      <th>3</th>\n",
       "      <td>150039812001007</td>\n",
       "      <td>0.0</td>\n",
       "      <td>0.0</td>\n",
       "      <td>0.0</td>\n",
       "      <td>{\"x\": -166.2416286117095, \"y\": 23.871505564170...</td>\n",
       "    </tr>\n",
       "    <tr>\n",
       "      <th>4</th>\n",
       "      <td>150039812001008</td>\n",
       "      <td>0.0</td>\n",
       "      <td>0.0</td>\n",
       "      <td>0.0</td>\n",
       "      <td>{\"x\": -166.2871994031661, \"y\": 23.868746072686...</td>\n",
       "    </tr>\n",
       "  </tbody>\n",
       "</table>\n",
       "</div>"
      ],
      "text/plain": [
       "              FIPS  POP_C  HH_C  HU_C  \\\n",
       "0  150039812001004    0.0   0.0   0.0   \n",
       "1  150039812001005    0.0   0.0   0.0   \n",
       "2  150039812001006    0.0   0.0   0.0   \n",
       "3  150039812001007    0.0   0.0   0.0   \n",
       "4  150039812001008    0.0   0.0   0.0   \n",
       "\n",
       "                                               SHAPE  \n",
       "0  {\"x\": -166.28822369728738, \"y\": 23.86846842713...  \n",
       "1  {\"x\": -166.21047832818513, \"y\": 23.78768193935...  \n",
       "2  {\"x\": -166.24250323482633, \"y\": 23.87162798684...  \n",
       "3  {\"x\": -166.2416286117095, \"y\": 23.871505564170...  \n",
       "4  {\"x\": -166.2871994031661, \"y\": 23.868746072686...  "
      ]
     },
     "execution_count": 11,
     "metadata": {},
     "output_type": "execute_result"
    }
   ],
   "source": [
    "bp_df.head()"
   ]
  },
  {
   "cell_type": "code",
   "execution_count": 26,
   "metadata": {},
   "outputs": [],
   "source": [
    "bp_id = bp_df.iloc[0].FIPS"
   ]
  },
  {
   "cell_type": "code",
   "execution_count": 27,
   "metadata": {},
   "outputs": [],
   "source": [
    "poly_id = tract_df.iloc[0].ID"
   ]
  },
  {
   "cell_type": "code",
   "execution_count": 34,
   "metadata": {},
   "outputs": [],
   "source": [
    "bp_df['poly_id'] = bp_df.FIPS.str[:len(poly_id) - len(bp_id)]"
   ]
  },
  {
   "cell_type": "code",
   "execution_count": 35,
   "metadata": {},
   "outputs": [
    {
     "data": {
      "text/html": [
       "<div>\n",
       "<style scoped>\n",
       "    .dataframe tbody tr th:only-of-type {\n",
       "        vertical-align: middle;\n",
       "    }\n",
       "\n",
       "    .dataframe tbody tr th {\n",
       "        vertical-align: top;\n",
       "    }\n",
       "\n",
       "    .dataframe thead th {\n",
       "        text-align: right;\n",
       "    }\n",
       "</style>\n",
       "<table border=\"1\" class=\"dataframe\">\n",
       "  <thead>\n",
       "    <tr style=\"text-align: right;\">\n",
       "      <th></th>\n",
       "      <th>FIPS</th>\n",
       "      <th>POP_C</th>\n",
       "      <th>HH_C</th>\n",
       "      <th>HU_C</th>\n",
       "      <th>SHAPE</th>\n",
       "      <th>poly_id</th>\n",
       "    </tr>\n",
       "  </thead>\n",
       "  <tbody>\n",
       "    <tr>\n",
       "      <th>0</th>\n",
       "      <td>150039812001004</td>\n",
       "      <td>0.0</td>\n",
       "      <td>0.0</td>\n",
       "      <td>0.0</td>\n",
       "      <td>{\"x\": -18511120.3869, \"y\": 2737388.585900001, ...</td>\n",
       "      <td>15003981200</td>\n",
       "    </tr>\n",
       "    <tr>\n",
       "      <th>1</th>\n",
       "      <td>150039812001005</td>\n",
       "      <td>0.0</td>\n",
       "      <td>0.0</td>\n",
       "      <td>0.0</td>\n",
       "      <td>{\"x\": -18502465.812, \"y\": 2727557.4893999994, ...</td>\n",
       "      <td>15003981200</td>\n",
       "    </tr>\n",
       "    <tr>\n",
       "      <th>2</th>\n",
       "      <td>150039812001006</td>\n",
       "      <td>0.0</td>\n",
       "      <td>0.0</td>\n",
       "      <td>0.0</td>\n",
       "      <td>{\"x\": -18506030.8083, \"y\": 2737773.204599999, ...</td>\n",
       "      <td>15003981200</td>\n",
       "    </tr>\n",
       "    <tr>\n",
       "      <th>3</th>\n",
       "      <td>150039812001007</td>\n",
       "      <td>0.0</td>\n",
       "      <td>0.0</td>\n",
       "      <td>0.0</td>\n",
       "      <td>{\"x\": -18505933.4457, \"y\": 2737758.3016999997,...</td>\n",
       "      <td>15003981200</td>\n",
       "    </tr>\n",
       "    <tr>\n",
       "      <th>4</th>\n",
       "      <td>150039812001008</td>\n",
       "      <td>0.0</td>\n",
       "      <td>0.0</td>\n",
       "      <td>0.0</td>\n",
       "      <td>{\"x\": -18511006.362999998, \"y\": 2737422.3838, ...</td>\n",
       "      <td>15003981200</td>\n",
       "    </tr>\n",
       "  </tbody>\n",
       "</table>\n",
       "</div>"
      ],
      "text/plain": [
       "              FIPS  POP_C  HH_C  HU_C  \\\n",
       "0  150039812001004    0.0   0.0   0.0   \n",
       "1  150039812001005    0.0   0.0   0.0   \n",
       "2  150039812001006    0.0   0.0   0.0   \n",
       "3  150039812001007    0.0   0.0   0.0   \n",
       "4  150039812001008    0.0   0.0   0.0   \n",
       "\n",
       "                                               SHAPE      poly_id  \n",
       "0  {\"x\": -18511120.3869, \"y\": 2737388.585900001, ...  15003981200  \n",
       "1  {\"x\": -18502465.812, \"y\": 2727557.4893999994, ...  15003981200  \n",
       "2  {\"x\": -18506030.8083, \"y\": 2737773.204599999, ...  15003981200  \n",
       "3  {\"x\": -18505933.4457, \"y\": 2737758.3016999997,...  15003981200  \n",
       "4  {\"x\": -18511006.362999998, \"y\": 2737422.3838, ...  15003981200  "
      ]
     },
     "execution_count": 35,
     "metadata": {},
     "output_type": "execute_result"
    }
   ],
   "source": [
    "bp_df.head()"
   ]
  },
  {
   "cell_type": "code",
   "execution_count": null,
   "metadata": {},
   "outputs": [
    {
     "data": {
      "application/vnd.jupyter.widget-view+json": {
       "model_id": "1868545bd0a54e5e8fb238a49141125d",
       "version_major": 2,
       "version_minor": 0
      },
      "text/plain": [
       "HBox(children=(FloatProgress(value=0.0, description='Dask Apply', max=32.0, style=ProgressStyle(description_wi…"
      ]
     },
     "metadata": {},
     "output_type": "display_data"
    }
   ],
   "source": [
    "wgt_col = 'HH_C'\n",
    "\n",
    "# multiply the weight by the respecgive coordinate columns\n",
    "bp_df['w_x'] = bp_df[wgt_col] * bp_df['SHAPE'].apply(lambda geom: geom.centroid[0])\n",
    "bp_df['w_y'] = bp_df[wgt_col] * bp_df['SHAPE'].apply(lambda geom: geom.centroid[1])\n",
    "\n",
    "bp_df.head()"
   ]
  },
  {
   "cell_type": "code",
   "execution_count": 91,
   "metadata": {},
   "outputs": [
    {
     "data": {
      "text/html": [
       "<div>\n",
       "<style scoped>\n",
       "    .dataframe tbody tr th:only-of-type {\n",
       "        vertical-align: middle;\n",
       "    }\n",
       "\n",
       "    .dataframe tbody tr th {\n",
       "        vertical-align: top;\n",
       "    }\n",
       "\n",
       "    .dataframe thead th {\n",
       "        text-align: right;\n",
       "    }\n",
       "</style>\n",
       "<table border=\"1\" class=\"dataframe\">\n",
       "  <thead>\n",
       "    <tr style=\"text-align: right;\">\n",
       "      <th></th>\n",
       "      <th>w_x</th>\n",
       "      <th>w_y</th>\n",
       "      <th>HH_C</th>\n",
       "    </tr>\n",
       "    <tr>\n",
       "      <th>poly_id</th>\n",
       "      <th></th>\n",
       "      <th></th>\n",
       "      <th></th>\n",
       "    </tr>\n",
       "  </thead>\n",
       "  <tbody>\n",
       "    <tr>\n",
       "      <th>01001020100</th>\n",
       "      <td>-6.671975e+09</td>\n",
       "      <td>2.651365e+09</td>\n",
       "      <td>693.0</td>\n",
       "    </tr>\n",
       "    <tr>\n",
       "      <th>01001020200</th>\n",
       "      <td>-7.152172e+09</td>\n",
       "      <td>2.842263e+09</td>\n",
       "      <td>743.0</td>\n",
       "    </tr>\n",
       "    <tr>\n",
       "      <th>01001020300</th>\n",
       "      <td>-1.208854e+10</td>\n",
       "      <td>4.805020e+09</td>\n",
       "      <td>1256.0</td>\n",
       "    </tr>\n",
       "    <tr>\n",
       "      <th>01001020400</th>\n",
       "      <td>-1.657047e+10</td>\n",
       "      <td>6.586550e+09</td>\n",
       "      <td>1722.0</td>\n",
       "    </tr>\n",
       "    <tr>\n",
       "      <th>01001020500</th>\n",
       "      <td>-3.927138e+10</td>\n",
       "      <td>1.561182e+10</td>\n",
       "      <td>4082.0</td>\n",
       "    </tr>\n",
       "  </tbody>\n",
       "</table>\n",
       "</div>"
      ],
      "text/plain": [
       "                      w_x           w_y    HH_C\n",
       "poly_id                                        \n",
       "01001020100 -6.671975e+09  2.651365e+09   693.0\n",
       "01001020200 -7.152172e+09  2.842263e+09   743.0\n",
       "01001020300 -1.208854e+10  4.805020e+09  1256.0\n",
       "01001020400 -1.657047e+10  6.586550e+09  1722.0\n",
       "01001020500 -3.927138e+10  1.561182e+10  4082.0"
      ]
     },
     "execution_count": 91,
     "metadata": {},
     "output_type": "execute_result"
    }
   ],
   "source": [
    "# get the sum of the weight column multiplied by the respective coordiante values along with the sum of the \n",
    "# weighting column when grouped by the containing polygon id \n",
    "wgt_df = bp_df[['poly_id', 'w_x', 'w_y', wgt_col]].groupby('poly_id').sum()\n",
    "\n",
    "wgt_df.head()"
   ]
  },
  {
   "cell_type": "code",
   "execution_count": 92,
   "metadata": {},
   "outputs": [
    {
     "data": {
      "text/html": [
       "<div>\n",
       "<style scoped>\n",
       "    .dataframe tbody tr th:only-of-type {\n",
       "        vertical-align: middle;\n",
       "    }\n",
       "\n",
       "    .dataframe tbody tr th {\n",
       "        vertical-align: top;\n",
       "    }\n",
       "\n",
       "    .dataframe thead th {\n",
       "        text-align: right;\n",
       "    }\n",
       "</style>\n",
       "<table border=\"1\" class=\"dataframe\">\n",
       "  <thead>\n",
       "    <tr style=\"text-align: right;\">\n",
       "      <th></th>\n",
       "      <th>w_x</th>\n",
       "      <th>w_y</th>\n",
       "      <th>HH_C</th>\n",
       "      <th>x</th>\n",
       "      <th>y</th>\n",
       "    </tr>\n",
       "    <tr>\n",
       "      <th>poly_id</th>\n",
       "      <th></th>\n",
       "      <th></th>\n",
       "      <th></th>\n",
       "      <th></th>\n",
       "      <th></th>\n",
       "    </tr>\n",
       "  </thead>\n",
       "  <tbody>\n",
       "    <tr>\n",
       "      <th>01001020100</th>\n",
       "      <td>-6.671975e+09</td>\n",
       "      <td>2.651365e+09</td>\n",
       "      <td>693.0</td>\n",
       "      <td>-9.627669e+06</td>\n",
       "      <td>3.825924e+06</td>\n",
       "    </tr>\n",
       "    <tr>\n",
       "      <th>01001020200</th>\n",
       "      <td>-7.152172e+09</td>\n",
       "      <td>2.842263e+09</td>\n",
       "      <td>743.0</td>\n",
       "      <td>-9.626073e+06</td>\n",
       "      <td>3.825387e+06</td>\n",
       "    </tr>\n",
       "    <tr>\n",
       "      <th>01001020300</th>\n",
       "      <td>-1.208854e+10</td>\n",
       "      <td>4.805020e+09</td>\n",
       "      <td>1256.0</td>\n",
       "      <td>-9.624632e+06</td>\n",
       "      <td>3.825653e+06</td>\n",
       "    </tr>\n",
       "    <tr>\n",
       "      <th>01001020400</th>\n",
       "      <td>-1.657047e+10</td>\n",
       "      <td>6.586550e+09</td>\n",
       "      <td>1722.0</td>\n",
       "      <td>-9.622804e+06</td>\n",
       "      <td>3.824942e+06</td>\n",
       "    </tr>\n",
       "    <tr>\n",
       "      <th>01001020500</th>\n",
       "      <td>-3.927138e+10</td>\n",
       "      <td>1.561182e+10</td>\n",
       "      <td>4082.0</td>\n",
       "      <td>-9.620623e+06</td>\n",
       "      <td>3.824551e+06</td>\n",
       "    </tr>\n",
       "  </tbody>\n",
       "</table>\n",
       "</div>"
      ],
      "text/plain": [
       "                      w_x           w_y    HH_C             x             y\n",
       "poly_id                                                                    \n",
       "01001020100 -6.671975e+09  2.651365e+09   693.0 -9.627669e+06  3.825924e+06\n",
       "01001020200 -7.152172e+09  2.842263e+09   743.0 -9.626073e+06  3.825387e+06\n",
       "01001020300 -1.208854e+10  4.805020e+09  1256.0 -9.624632e+06  3.825653e+06\n",
       "01001020400 -1.657047e+10  6.586550e+09  1722.0 -9.622804e+06  3.824942e+06\n",
       "01001020500 -3.927138e+10  1.561182e+10  4082.0 -9.620623e+06  3.824551e+06"
      ]
     },
     "execution_count": 92,
     "metadata": {},
     "output_type": "execute_result"
    }
   ],
   "source": [
    "# divide the sum of weight multiplied by each respetive coordinate by the sum of the weight to get mean coordinates by polygon id\n",
    "wgt_df['x'] = wgt_df['w_x'] / wgt_df[wgt_col]\n",
    "wgt_df['y'] = wgt_df['w_y'] / wgt_df[wgt_col]\n",
    "\n",
    "wgt_df.head()"
   ]
  },
  {
   "cell_type": "code",
   "execution_count": 93,
   "metadata": {},
   "outputs": [
    {
     "data": {
      "text/plain": [
       "True"
      ]
     },
     "execution_count": 93,
     "metadata": {},
     "output_type": "execute_result"
    }
   ],
   "source": [
    "from arcgis.geometry import Geometry\n",
    "\n",
    "spatial_reference = bp_df.iloc[0].SHAPE.spatial_reference\n",
    "\n",
    "wgt_df['SHAPE'] = wgt_df[['x', 'y']].apply(lambda r: Geometry({'x': r[0], 'y': r[1], 'spatial_reference': spatial_reference}))\n",
    "\n",
    "wgt_df.spatial.set_geometry('SHAPE')\n",
    "\n",
    "wgt_df.spatial.validate()"
   ]
  },
  {
   "cell_type": "code",
   "execution_count": 94,
   "metadata": {},
   "outputs": [
    {
     "data": {
      "text/html": [
       "<div>\n",
       "<style scoped>\n",
       "    .dataframe tbody tr th:only-of-type {\n",
       "        vertical-align: middle;\n",
       "    }\n",
       "\n",
       "    .dataframe tbody tr th {\n",
       "        vertical-align: top;\n",
       "    }\n",
       "\n",
       "    .dataframe thead th {\n",
       "        text-align: right;\n",
       "    }\n",
       "</style>\n",
       "<table border=\"1\" class=\"dataframe\">\n",
       "  <thead>\n",
       "    <tr style=\"text-align: right;\">\n",
       "      <th></th>\n",
       "      <th>w_x</th>\n",
       "      <th>w_y</th>\n",
       "      <th>HH_C</th>\n",
       "      <th>x</th>\n",
       "      <th>y</th>\n",
       "      <th>SHAPE</th>\n",
       "    </tr>\n",
       "    <tr>\n",
       "      <th>poly_id</th>\n",
       "      <th></th>\n",
       "      <th></th>\n",
       "      <th></th>\n",
       "      <th></th>\n",
       "      <th></th>\n",
       "      <th></th>\n",
       "    </tr>\n",
       "  </thead>\n",
       "  <tbody>\n",
       "    <tr>\n",
       "      <th>01001020100</th>\n",
       "      <td>-6.671975e+09</td>\n",
       "      <td>2.651365e+09</td>\n",
       "      <td>693.0</td>\n",
       "      <td>-9.627669e+06</td>\n",
       "      <td>3.825924e+06</td>\n",
       "      <td>None</td>\n",
       "    </tr>\n",
       "    <tr>\n",
       "      <th>01001020200</th>\n",
       "      <td>-7.152172e+09</td>\n",
       "      <td>2.842263e+09</td>\n",
       "      <td>743.0</td>\n",
       "      <td>-9.626073e+06</td>\n",
       "      <td>3.825387e+06</td>\n",
       "      <td>None</td>\n",
       "    </tr>\n",
       "    <tr>\n",
       "      <th>01001020300</th>\n",
       "      <td>-1.208854e+10</td>\n",
       "      <td>4.805020e+09</td>\n",
       "      <td>1256.0</td>\n",
       "      <td>-9.624632e+06</td>\n",
       "      <td>3.825653e+06</td>\n",
       "      <td>None</td>\n",
       "    </tr>\n",
       "    <tr>\n",
       "      <th>01001020400</th>\n",
       "      <td>-1.657047e+10</td>\n",
       "      <td>6.586550e+09</td>\n",
       "      <td>1722.0</td>\n",
       "      <td>-9.622804e+06</td>\n",
       "      <td>3.824942e+06</td>\n",
       "      <td>None</td>\n",
       "    </tr>\n",
       "    <tr>\n",
       "      <th>01001020500</th>\n",
       "      <td>-3.927138e+10</td>\n",
       "      <td>1.561182e+10</td>\n",
       "      <td>4082.0</td>\n",
       "      <td>-9.620623e+06</td>\n",
       "      <td>3.824551e+06</td>\n",
       "      <td>None</td>\n",
       "    </tr>\n",
       "  </tbody>\n",
       "</table>\n",
       "</div>"
      ],
      "text/plain": [
       "                      w_x           w_y    HH_C             x             y  \\\n",
       "poly_id                                                                       \n",
       "01001020100 -6.671975e+09  2.651365e+09   693.0 -9.627669e+06  3.825924e+06   \n",
       "01001020200 -7.152172e+09  2.842263e+09   743.0 -9.626073e+06  3.825387e+06   \n",
       "01001020300 -1.208854e+10  4.805020e+09  1256.0 -9.624632e+06  3.825653e+06   \n",
       "01001020400 -1.657047e+10  6.586550e+09  1722.0 -9.622804e+06  3.824942e+06   \n",
       "01001020500 -3.927138e+10  1.561182e+10  4082.0 -9.620623e+06  3.824551e+06   \n",
       "\n",
       "            SHAPE  \n",
       "poly_id            \n",
       "01001020100  None  \n",
       "01001020200  None  \n",
       "01001020300  None  \n",
       "01001020400  None  \n",
       "01001020500  None  "
      ]
     },
     "execution_count": 94,
     "metadata": {},
     "output_type": "execute_result"
    }
   ],
   "source": [
    "wgt_df.head()"
   ]
  },
  {
   "cell_type": "code",
   "execution_count": 57,
   "metadata": {},
   "outputs": [],
   "source": [
    "r = wgt_df.iloc[0][['x', 'y']]"
   ]
  },
  {
   "cell_type": "code",
   "execution_count": 58,
   "metadata": {},
   "outputs": [
    {
     "data": {
      "text/plain": [
       "x   -9.62766e+06\n",
       "y    3.82595e+06\n",
       "Name: 01001020100, dtype: object"
      ]
     },
     "execution_count": 58,
     "metadata": {},
     "output_type": "execute_result"
    }
   ],
   "source": [
    "r"
   ]
  },
  {
   "cell_type": "code",
   "execution_count": 74,
   "metadata": {},
   "outputs": [
    {
     "name": "stderr",
     "output_type": "stream",
     "text": [
      "C:\\Program Files\\ArcGIS\\Pro\\Resources\\ArcPy\\arcpy\\geoprocessing\\_base.py:482: RuntimeWarning: No spatial reference detected, defaulting to unknown coordinate system.\n",
      "  return self._gp.FromEsriJson(json)\n"
     ]
    },
    {
     "data": {
      "image/svg+xml": [
       "<svg xmlns=\"http://www.w3.org/2000/svg\" xmlns:xlink=\"http://www.w3.org/1999/xlink\" width=\"100.0\" height=\"100.0\" viewBox=\"-9627664.42834775 3825952.093143097 2.0 2.0\" preserveAspectRatio=\"xMinYMin meet\"><g transform=\"matrix(1,0,0,-1,0,7651906.186286194)\"><circle cx=\"-9627663.42834775\" cy=\"3825953.093143097\" r=\"0.06\" stroke=\"#555555\" stroke-width=\"0.02\" fill=\"#66cc99\" opacity=\"0.6\" /></g></svg>"
      ],
      "text/plain": [
       "{'x': -9627663.42834775,\n",
       " 'y': 3825953.093143097,\n",
       " 'spatial_reference': {'wkid': 102100, 'latestWkid': 3857}}"
      ]
     },
     "execution_count": 74,
     "metadata": {},
     "output_type": "execute_result"
    }
   ],
   "source": [
    "Geometry({'x': r[0], 'y': r[1], 'spatial_reference': {'wkid': spatial_reference.wkid, 'latestWkid': spatial_reference.latestWkid}})"
   ]
  },
  {
   "cell_type": "code",
   "execution_count": 73,
   "metadata": {},
   "outputs": [
    {
     "data": {
      "text/plain": [
       "(102100, 3857)"
      ]
     },
     "execution_count": 73,
     "metadata": {},
     "output_type": "execute_result"
    }
   ],
   "source": [
    "spatial_reference.wkid, spatial_reference.latestWkid"
   ]
  },
  {
   "cell_type": "code",
   "execution_count": 67,
   "metadata": {},
   "outputs": [
    {
     "data": {
      "text/plain": [
       "3825953.093143097"
      ]
     },
     "execution_count": 67,
     "metadata": {},
     "output_type": "execute_result"
    }
   ],
   "source": [
    "r[1]"
   ]
  },
  {
   "cell_type": "code",
   "execution_count": 83,
   "metadata": {},
   "outputs": [
    {
     "data": {
      "text/html": [
       "<div>\n",
       "<style scoped>\n",
       "    .dataframe tbody tr th:only-of-type {\n",
       "        vertical-align: middle;\n",
       "    }\n",
       "\n",
       "    .dataframe tbody tr th {\n",
       "        vertical-align: top;\n",
       "    }\n",
       "\n",
       "    .dataframe thead th {\n",
       "        text-align: right;\n",
       "    }\n",
       "</style>\n",
       "<table border=\"1\" class=\"dataframe\">\n",
       "  <thead>\n",
       "    <tr style=\"text-align: right;\">\n",
       "      <th></th>\n",
       "      <th>FIPS</th>\n",
       "      <th>POP_C</th>\n",
       "      <th>HH_C</th>\n",
       "      <th>HU_C</th>\n",
       "      <th>SHAPE</th>\n",
       "      <th>poly_id</th>\n",
       "      <th>w_x</th>\n",
       "      <th>w_y</th>\n",
       "    </tr>\n",
       "  </thead>\n",
       "  <tbody>\n",
       "    <tr>\n",
       "      <th>0</th>\n",
       "      <td>150039812001004</td>\n",
       "      <td>0.0</td>\n",
       "      <td>0.0</td>\n",
       "      <td>0.0</td>\n",
       "      <td>{\"x\": -18511120.3869, \"y\": 2737388.585900001, ...</td>\n",
       "      <td>15003981200</td>\n",
       "      <td>-0.0</td>\n",
       "      <td>0.0</td>\n",
       "    </tr>\n",
       "    <tr>\n",
       "      <th>1</th>\n",
       "      <td>150039812001005</td>\n",
       "      <td>0.0</td>\n",
       "      <td>0.0</td>\n",
       "      <td>0.0</td>\n",
       "      <td>{\"x\": -18502465.812, \"y\": 2727557.4893999994, ...</td>\n",
       "      <td>15003981200</td>\n",
       "      <td>-0.0</td>\n",
       "      <td>0.0</td>\n",
       "    </tr>\n",
       "    <tr>\n",
       "      <th>2</th>\n",
       "      <td>150039812001006</td>\n",
       "      <td>0.0</td>\n",
       "      <td>0.0</td>\n",
       "      <td>0.0</td>\n",
       "      <td>{\"x\": -18506030.8083, \"y\": 2737773.204599999, ...</td>\n",
       "      <td>15003981200</td>\n",
       "      <td>-0.0</td>\n",
       "      <td>0.0</td>\n",
       "    </tr>\n",
       "    <tr>\n",
       "      <th>3</th>\n",
       "      <td>150039812001007</td>\n",
       "      <td>0.0</td>\n",
       "      <td>0.0</td>\n",
       "      <td>0.0</td>\n",
       "      <td>{\"x\": -18505933.4457, \"y\": 2737758.3016999997,...</td>\n",
       "      <td>15003981200</td>\n",
       "      <td>-0.0</td>\n",
       "      <td>0.0</td>\n",
       "    </tr>\n",
       "    <tr>\n",
       "      <th>4</th>\n",
       "      <td>150039812001008</td>\n",
       "      <td>0.0</td>\n",
       "      <td>0.0</td>\n",
       "      <td>0.0</td>\n",
       "      <td>{\"x\": -18511006.362999998, \"y\": 2737422.3838, ...</td>\n",
       "      <td>15003981200</td>\n",
       "      <td>-0.0</td>\n",
       "      <td>0.0</td>\n",
       "    </tr>\n",
       "    <tr>\n",
       "      <th>...</th>\n",
       "      <td>...</td>\n",
       "      <td>...</td>\n",
       "      <td>...</td>\n",
       "      <td>...</td>\n",
       "      <td>...</td>\n",
       "      <td>...</td>\n",
       "      <td>...</td>\n",
       "      <td>...</td>\n",
       "    </tr>\n",
       "    <tr>\n",
       "      <th>6792311</th>\n",
       "      <td>330159800111031</td>\n",
       "      <td>0.0</td>\n",
       "      <td>0.0</td>\n",
       "      <td>0.0</td>\n",
       "      <td>{\"x\": -7952967.856899999, \"y\": 5299795.8487000...</td>\n",
       "      <td>33015980011</td>\n",
       "      <td>-0.0</td>\n",
       "      <td>0.0</td>\n",
       "    </tr>\n",
       "    <tr>\n",
       "      <th>6792312</th>\n",
       "      <td>330159800111032</td>\n",
       "      <td>0.0</td>\n",
       "      <td>0.0</td>\n",
       "      <td>0.0</td>\n",
       "      <td>{\"x\": -7953522.862500001, \"y\": 5300894.4301000...</td>\n",
       "      <td>33015980011</td>\n",
       "      <td>-0.0</td>\n",
       "      <td>0.0</td>\n",
       "    </tr>\n",
       "    <tr>\n",
       "      <th>6792313</th>\n",
       "      <td>330159800111033</td>\n",
       "      <td>0.0</td>\n",
       "      <td>0.0</td>\n",
       "      <td>0.0</td>\n",
       "      <td>{\"x\": -7951603.180199999, \"y\": 5299054.7421, \"...</td>\n",
       "      <td>33015980011</td>\n",
       "      <td>-0.0</td>\n",
       "      <td>0.0</td>\n",
       "    </tr>\n",
       "    <tr>\n",
       "      <th>6792314</th>\n",
       "      <td>330159800111034</td>\n",
       "      <td>0.0</td>\n",
       "      <td>0.0</td>\n",
       "      <td>0.0</td>\n",
       "      <td>{\"x\": -7951023.361500001, \"y\": 5298949.5584999...</td>\n",
       "      <td>33015980011</td>\n",
       "      <td>-0.0</td>\n",
       "      <td>0.0</td>\n",
       "    </tr>\n",
       "    <tr>\n",
       "      <th>6837541</th>\n",
       "      <td>500079800001000</td>\n",
       "      <td>0.0</td>\n",
       "      <td>0.0</td>\n",
       "      <td>0.0</td>\n",
       "      <td>{\"x\": -8143181.218599999, \"y\": 5538736.3561, \"...</td>\n",
       "      <td>50007980000</td>\n",
       "      <td>-0.0</td>\n",
       "      <td>0.0</td>\n",
       "    </tr>\n",
       "  </tbody>\n",
       "</table>\n",
       "<p>12400 rows × 8 columns</p>\n",
       "</div>"
      ],
      "text/plain": [
       "                    FIPS  POP_C  HH_C  HU_C  \\\n",
       "0        150039812001004    0.0   0.0   0.0   \n",
       "1        150039812001005    0.0   0.0   0.0   \n",
       "2        150039812001006    0.0   0.0   0.0   \n",
       "3        150039812001007    0.0   0.0   0.0   \n",
       "4        150039812001008    0.0   0.0   0.0   \n",
       "...                  ...    ...   ...   ...   \n",
       "6792311  330159800111031    0.0   0.0   0.0   \n",
       "6792312  330159800111032    0.0   0.0   0.0   \n",
       "6792313  330159800111033    0.0   0.0   0.0   \n",
       "6792314  330159800111034    0.0   0.0   0.0   \n",
       "6837541  500079800001000    0.0   0.0   0.0   \n",
       "\n",
       "                                                     SHAPE      poly_id  w_x  \\\n",
       "0        {\"x\": -18511120.3869, \"y\": 2737388.585900001, ...  15003981200 -0.0   \n",
       "1        {\"x\": -18502465.812, \"y\": 2727557.4893999994, ...  15003981200 -0.0   \n",
       "2        {\"x\": -18506030.8083, \"y\": 2737773.204599999, ...  15003981200 -0.0   \n",
       "3        {\"x\": -18505933.4457, \"y\": 2737758.3016999997,...  15003981200 -0.0   \n",
       "4        {\"x\": -18511006.362999998, \"y\": 2737422.3838, ...  15003981200 -0.0   \n",
       "...                                                    ...          ...  ...   \n",
       "6792311  {\"x\": -7952967.856899999, \"y\": 5299795.8487000...  33015980011 -0.0   \n",
       "6792312  {\"x\": -7953522.862500001, \"y\": 5300894.4301000...  33015980011 -0.0   \n",
       "6792313  {\"x\": -7951603.180199999, \"y\": 5299054.7421, \"...  33015980011 -0.0   \n",
       "6792314  {\"x\": -7951023.361500001, \"y\": 5298949.5584999...  33015980011 -0.0   \n",
       "6837541  {\"x\": -8143181.218599999, \"y\": 5538736.3561, \"...  50007980000 -0.0   \n",
       "\n",
       "         w_y  \n",
       "0        0.0  \n",
       "1        0.0  \n",
       "2        0.0  \n",
       "3        0.0  \n",
       "4        0.0  \n",
       "...      ...  \n",
       "6792311  0.0  \n",
       "6792312  0.0  \n",
       "6792313  0.0  \n",
       "6792314  0.0  \n",
       "6837541  0.0  \n",
       "\n",
       "[12400 rows x 8 columns]"
      ]
     },
     "execution_count": 83,
     "metadata": {},
     "output_type": "execute_result"
    }
   ],
   "source": [
    "bp_df[bp_df.poly_id.isin(wgt_df[wgt_df.x.isnull()].index)]"
   ]
  },
  {
   "cell_type": "code",
   "execution_count": null,
   "metadata": {},
   "outputs": [],
   "source": []
  }
 ],
 "metadata": {
  "kernelspec": {
   "display_name": "Python 3",
   "language": "python",
   "name": "python3"
  },
  "language_info": {
   "codemirror_mode": {
    "name": "ipython",
    "version": 3
   },
   "file_extension": ".py",
   "mimetype": "text/x-python",
   "name": "python",
   "nbconvert_exporter": "python",
   "pygments_lexer": "ipython3",
   "version": "3.6.10"
  }
 },
 "nbformat": 4,
 "nbformat_minor": 4
}
