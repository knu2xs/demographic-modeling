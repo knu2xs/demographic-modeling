{
 "cells": [
  {
   "cell_type": "code",
   "execution_count": 1,
   "metadata": {},
   "outputs": [],
   "source": [
    "import os\n",
    "from pathlib import Path\n",
    "\n",
    "from arcgis.gis import GIS\n",
    "from dotenv import find_dotenv, load_dotenv  # for loading variable from .env file to keep them out of version control\n",
    "from modeling import Country  # used as the starting point for working with \n",
    "import pandas as pd\n",
    "\n",
    "load_dotenv(find_dotenv())  # recursively crawls up the directory tree until a .env file is found\n",
    "\n",
    "# load the \"autoreload\" extension so as src code is changed, the changes are picked up in the dataframe\n",
    "%load_ext autoreload\n",
    "%autoreload 2"
   ]
  },
  {
   "cell_type": "code",
   "execution_count": 2,
   "metadata": {},
   "outputs": [],
   "source": [
    "project_parent = Path('.').absolute().parent.parent\n",
    "dir_data = project_parent/'data'\n",
    "dir_int = dir_data/'interim'\n",
    "dir_raw = dir_data/'raw'\n",
    "\n",
    "# make sure data directories are present - helps for when project has just been cloned\n",
    "for ddir in [dir_int, dir_raw]:\n",
    "    if not ddir.exists():\n",
    "        ddir.mkdir(parents=True)\n",
    "\n",
    "# although not necessary, dropping this list of columns later makes it easier to view business lising results\n",
    "biz_drop_cols = ['OBJECTID', 'CONAME','SALESVOL', 'HDBRCH', 'ULTNUM', 'PUBPRV', 'EMPNUM', 'FRNCOD', 'ISCODE', 'SQFTCODE', 'LOC_NAME', 'STATUS', 'SCORE', 'SOURCE', 'REC_TYPE']"
   ]
  },
  {
   "cell_type": "markdown",
   "metadata": {},
   "source": [
    "# Setup\n",
    "\n",
    "Country, Area-of-Interest,  and Enrichment Variables"
   ]
  },
  {
   "cell_type": "code",
   "execution_count": 3,
   "metadata": {},
   "outputs": [
    {
     "data": {
      "text/plain": [
       "<modeling.Country - USA (GIS at https://baqa.mapsqa.arcgis.com logged in as jmccune_baqa)>"
      ]
     },
     "execution_count": 3,
     "metadata": {},
     "output_type": "execute_result"
    }
   ],
   "source": [
    "# connection to Web GIS being used, so have to create it\n",
    "# NOTE - using values from .env, thus keeping any credentials out of version control\n",
    "gis = GIS(os.getenv('BA_QA_URL'), username=os.getenv('BA_QA_USERNAME'), password=os.getenv('BA_QA_PASSWORD'))\n",
    "\n",
    "# explicitly using connection to GIS\n",
    "usa = Country('USA', source=gis)\n",
    "\n",
    "# ...although the same can also be done using local resources, ArcGIS Pro with Business Analyst and locally installed data.\n",
    "# usa = Country('USA', source='local')\n",
    "\n",
    "usa"
   ]
  },
  {
   "cell_type": "code",
   "execution_count": 5,
   "metadata": {},
   "outputs": [
    {
     "name": "stdout",
     "output_type": "stream",
     "text": [
      "CPU times: user 1.34 s, sys: 282 ms, total: 1.62 s\n",
      "Wall time: 9.41 s\n"
     ]
    },
    {
     "data": {
      "text/html": [
       "<div>\n",
       "<style scoped>\n",
       "    .dataframe tbody tr th:only-of-type {\n",
       "        vertical-align: middle;\n",
       "    }\n",
       "\n",
       "    .dataframe tbody tr th {\n",
       "        vertical-align: top;\n",
       "    }\n",
       "\n",
       "    .dataframe thead th {\n",
       "        text-align: right;\n",
       "    }\n",
       "</style>\n",
       "<table border=\"1\" class=\"dataframe\">\n",
       "  <thead>\n",
       "    <tr style=\"text-align: right;\">\n",
       "      <th></th>\n",
       "      <th>ID</th>\n",
       "      <th>NAME</th>\n",
       "      <th>SHAPE</th>\n",
       "    </tr>\n",
       "  </thead>\n",
       "  <tbody>\n",
       "    <tr>\n",
       "      <th>0</th>\n",
       "      <td>530330012001</td>\n",
       "      <td>530330012.001</td>\n",
       "      <td>{\"rings\": [[[-122.31243049957185, 47.704870499...</td>\n",
       "    </tr>\n",
       "    <tr>\n",
       "      <th>1</th>\n",
       "      <td>530330012002</td>\n",
       "      <td>530330012.002</td>\n",
       "      <td>{\"rings\": [[[-122.3178410004258, 47.7076489995...</td>\n",
       "    </tr>\n",
       "    <tr>\n",
       "      <th>2</th>\n",
       "      <td>530330032001</td>\n",
       "      <td>530330032.001</td>\n",
       "      <td>{\"rings\": [[[-122.38754700019909, 47.675934999...</td>\n",
       "    </tr>\n",
       "    <tr>\n",
       "      <th>3</th>\n",
       "      <td>530330032002</td>\n",
       "      <td>530330032.002</td>\n",
       "      <td>{\"rings\": [[[-122.38758899913357, 47.671643999...</td>\n",
       "    </tr>\n",
       "    <tr>\n",
       "      <th>4</th>\n",
       "      <td>530330032003</td>\n",
       "      <td>530330032.003</td>\n",
       "      <td>{\"rings\": [[[-122.38758899913357, 47.669455999...</td>\n",
       "    </tr>\n",
       "    <tr>\n",
       "      <th>...</th>\n",
       "      <td>...</td>\n",
       "      <td>...</td>\n",
       "      <td>...</td>\n",
       "    </tr>\n",
       "    <tr>\n",
       "      <th>2475</th>\n",
       "      <td>530610529043</td>\n",
       "      <td>530610529.043</td>\n",
       "      <td>{\"rings\": [[[-122.14943799870154, 48.064500999...</td>\n",
       "    </tr>\n",
       "    <tr>\n",
       "      <th>2476</th>\n",
       "      <td>530610529044</td>\n",
       "      <td>530610529.044</td>\n",
       "      <td>{\"rings\": [[[-122.14359799983554, 48.059699000...</td>\n",
       "    </tr>\n",
       "    <tr>\n",
       "      <th>2477</th>\n",
       "      <td>530619400011</td>\n",
       "      <td>530619400.011</td>\n",
       "      <td>{\"rings\": [[[-122.22630799998365, 48.097295999...</td>\n",
       "    </tr>\n",
       "    <tr>\n",
       "      <th>2478</th>\n",
       "      <td>530619400012</td>\n",
       "      <td>530619400.012</td>\n",
       "      <td>{\"rings\": [[[-122.19474699952485, 48.075618000...</td>\n",
       "    </tr>\n",
       "    <tr>\n",
       "      <th>2479</th>\n",
       "      <td>530619400013</td>\n",
       "      <td>530619400.013</td>\n",
       "      <td>{\"rings\": [[[-122.26380799904267, 48.055408999...</td>\n",
       "    </tr>\n",
       "  </tbody>\n",
       "</table>\n",
       "<p>2480 rows × 3 columns</p>\n",
       "</div>"
      ],
      "text/plain": [
       "                ID           NAME  \\\n",
       "0     530330012001  530330012.001   \n",
       "1     530330012002  530330012.002   \n",
       "2     530330032001  530330032.001   \n",
       "3     530330032002  530330032.002   \n",
       "4     530330032003  530330032.003   \n",
       "...            ...            ...   \n",
       "2475  530610529043  530610529.043   \n",
       "2476  530610529044  530610529.044   \n",
       "2477  530619400011  530619400.011   \n",
       "2478  530619400012  530619400.012   \n",
       "2479  530619400013  530619400.013   \n",
       "\n",
       "                                                  SHAPE  \n",
       "0     {\"rings\": [[[-122.31243049957185, 47.704870499...  \n",
       "1     {\"rings\": [[[-122.3178410004258, 47.7076489995...  \n",
       "2     {\"rings\": [[[-122.38754700019909, 47.675934999...  \n",
       "3     {\"rings\": [[[-122.38758899913357, 47.671643999...  \n",
       "4     {\"rings\": [[[-122.38758899913357, 47.669455999...  \n",
       "...                                                 ...  \n",
       "2475  {\"rings\": [[[-122.14943799870154, 48.064500999...  \n",
       "2476  {\"rings\": [[[-122.14359799983554, 48.059699000...  \n",
       "2477  {\"rings\": [[[-122.22630799998365, 48.097295999...  \n",
       "2478  {\"rings\": [[[-122.19474699952485, 48.075618000...  \n",
       "2479  {\"rings\": [[[-122.26380799904267, 48.055408999...  \n",
       "\n",
       "[2480 rows x 3 columns]"
      ]
     },
     "execution_count": 5,
     "metadata": {},
     "output_type": "execute_result"
    }
   ],
   "source": [
    "%%time\n",
    "\n",
    "# next, get a study area, an area of interest to work with - this constrains results to a reasonable domain\n",
    "# NOTE - eventually, as these service evolve, this also will have the ability to span international borders, so essential to the workflow\n",
    "bg_df = usa.cbsas.get('seattle').mdl.level(0).get()\n",
    "\n",
    "bg_df"
   ]
  },
  {
   "cell_type": "code",
   "execution_count": 35,
   "metadata": {},
   "outputs": [],
   "source": [
    "enrich_geography_level = 'block_groups'\n",
    "data = bg_df\n",
    "enrich_id_column = 'ID'"
   ]
  },
  {
   "cell_type": "code",
   "execution_count": 36,
   "metadata": {},
   "outputs": [],
   "source": [
    "self = usa"
   ]
  },
  {
   "cell_type": "code",
   "execution_count": 42,
   "metadata": {},
   "outputs": [
    {
     "data": {
      "text/plain": [
       "('US.BlockGroups', 2480)"
      ]
     },
     "execution_count": 42,
     "metadata": {},
     "output_type": "execute_result"
    }
   ],
   "source": [
    "# get the geography level row from the geography levels dataframe by the geo_name\n",
    "geo_lvl_df = self.geography_levels[self.geography_levels.geo_name == enrich_geography_level]\n",
    "\n",
    "# if, for some reason, the acutal geography level id was passed in, check for this as well\n",
    "if len(geo_lvl_df.index) == 0:\n",
    "    geo_lvl_df = self.geography_levels[self.geography_levels.id == enrich_geography_level]\n",
    "    \n",
    "# pitch a fit if no geography level was found, but try to offer helpful suggestions\n",
    "assert len(geo_lvl_df.index) > 0, f'The specified geography level, {enrich_geography_level} does not appear to be one of the available geography levels. This must be a value from the \"geo_name\" column in teh dataframe available from the \"geography_levels\" property of the Country object.'\n",
    "\n",
    "# get the actual geography level id\n",
    "geo_lvl = geo_lvl_df.iloc[0].id\n",
    "\n",
    "# create the list of ids to be used for enrichment\n",
    "id_lst = list(data[enrich_id_column])\n",
    "\n",
    "geo_lvl, len(id_lst)"
   ]
  },
  {
   "cell_type": "code",
   "execution_count": 41,
   "metadata": {},
   "outputs": [],
   "source": [
    "enrich_geography_level = geo_lvl"
   ]
  },
  {
   "cell_type": "code",
   "execution_count": 43,
   "metadata": {},
   "outputs": [
    {
     "name": "stderr",
     "output_type": "stream",
     "text": [
      "/Users/joel5174/projects/demographic-modeling/src/modeling/accessor.py:25: UserWarning: registration of accessor <class 'modeling.accessor.ModelingAccessor'> under name 'mdl' for type <class 'pandas.core.frame.DataFrame'> is overriding a preexisting attribute with the same name.\n",
      "  @register_dataframe_accessor('mdl')\n"
     ]
    }
   ],
   "source": [
    "cntry = usa"
   ]
  },
  {
   "cell_type": "code",
   "execution_count": 45,
   "metadata": {},
   "outputs": [
    {
     "name": "stdout",
     "output_type": "stream",
     "text": [
      "<class 'pandas.core.frame.DataFrame'>\n",
      "RangeIndex: 478 entries, 0 to 477\n",
      "Data columns (total 3 columns):\n",
      " #   Column  Non-Null Count  Dtype   \n",
      "---  ------  --------------  -----   \n",
      " 0   ID      478 non-null    object  \n",
      " 1   NAME    478 non-null    object  \n",
      " 2   SHAPE   478 non-null    geometry\n",
      "dtypes: geometry(1), object(2)\n",
      "memory usage: 11.3+ KB\n",
      "None\n"
     ]
    },
    {
     "data": {
      "text/html": [
       "<div>\n",
       "<style scoped>\n",
       "    .dataframe tbody tr th:only-of-type {\n",
       "        vertical-align: middle;\n",
       "    }\n",
       "\n",
       "    .dataframe tbody tr th {\n",
       "        vertical-align: top;\n",
       "    }\n",
       "\n",
       "    .dataframe thead th {\n",
       "        text-align: right;\n",
       "    }\n",
       "</style>\n",
       "<table border=\"1\" class=\"dataframe\">\n",
       "  <thead>\n",
       "    <tr style=\"text-align: right;\">\n",
       "      <th></th>\n",
       "      <th>ID</th>\n",
       "      <th>NAME</th>\n",
       "      <th>SHAPE</th>\n",
       "    </tr>\n",
       "  </thead>\n",
       "  <tbody>\n",
       "    <tr>\n",
       "      <th>0</th>\n",
       "      <td>530330009001</td>\n",
       "      <td>530330009.001</td>\n",
       "      <td>{\"rings\": [[[-122.28001399933198, 47.719146999...</td>\n",
       "    </tr>\n",
       "    <tr>\n",
       "      <th>1</th>\n",
       "      <td>530330009002</td>\n",
       "      <td>530330009.002</td>\n",
       "      <td>{\"rings\": [[[-122.27643999897352, 47.712159999...</td>\n",
       "    </tr>\n",
       "    <tr>\n",
       "      <th>2</th>\n",
       "      <td>530330010001</td>\n",
       "      <td>530330010.001</td>\n",
       "      <td>{\"rings\": [[[-122.2937919998337, 47.7119679995...</td>\n",
       "    </tr>\n",
       "    <tr>\n",
       "      <th>3</th>\n",
       "      <td>530330010002</td>\n",
       "      <td>530330010.002</td>\n",
       "      <td>{\"rings\": [[[-122.2908140002252, 47.7067909999...</td>\n",
       "    </tr>\n",
       "    <tr>\n",
       "      <th>4</th>\n",
       "      <td>530330011001</td>\n",
       "      <td>530330011.001</td>\n",
       "      <td>{\"rings\": [[[-122.30163299958835, 47.706698999...</td>\n",
       "    </tr>\n",
       "  </tbody>\n",
       "</table>\n",
       "</div>"
      ],
      "text/plain": [
       "             ID           NAME  \\\n",
       "0  530330009001  530330009.001   \n",
       "1  530330009002  530330009.002   \n",
       "2  530330010001  530330010.001   \n",
       "3  530330010002  530330010.002   \n",
       "4  530330011001  530330011.001   \n",
       "\n",
       "                                               SHAPE  \n",
       "0  {\"rings\": [[[-122.28001399933198, 47.719146999...  \n",
       "1  {\"rings\": [[[-122.27643999897352, 47.712159999...  \n",
       "2  {\"rings\": [[[-122.2937919998337, 47.7119679995...  \n",
       "3  {\"rings\": [[[-122.2908140002252, 47.7067909999...  \n",
       "4  {\"rings\": [[[-122.30163299958835, 47.706698999...  "
      ]
     },
     "execution_count": 45,
     "metadata": {},
     "output_type": "execute_result"
    }
   ],
   "source": [
    "bg_df = cntry.cities_and_towns_places.get('seattle').mdl.level(0).get()\n",
    "\n",
    "print(bg_df.info())\n",
    "bg_df.head()"
   ]
  },
  {
   "cell_type": "code",
   "execution_count": null,
   "metadata": {},
   "outputs": [],
   "source": [
    "bg_df.mdl.enrich()"
   ]
  }
 ],
 "metadata": {
  "kernelspec": {
   "display_name": "Python 3",
   "language": "python",
   "name": "python3"
  },
  "language_info": {
   "codemirror_mode": {
    "name": "ipython",
    "version": 3
   },
   "file_extension": ".py",
   "mimetype": "text/x-python",
   "name": "python",
   "nbconvert_exporter": "python",
   "pygments_lexer": "ipython3",
   "version": "3.7.10"
  }
 },
 "nbformat": 4,
 "nbformat_minor": 4
}
