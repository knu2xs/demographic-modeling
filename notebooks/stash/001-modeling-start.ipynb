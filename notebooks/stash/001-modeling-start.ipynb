{
 "cells": [
  {
   "cell_type": "code",
   "execution_count": 91,
   "metadata": {},
   "outputs": [],
   "source": [
    "from pathlib import Path\n",
    "import sys\n",
    "\n",
    "dir_prj = Path('./').absolute().parent.parent\n",
    "dir_src = dir_prj.parent/'geosaurus'/'src'\n",
    "dir_raw = dir_prj/'data'/'raw'\n",
    "sys.path.insert(0, str(dir_src))\n",
    "\n",
    "from arcgis.gis import GIS\n",
    "from arcgis import modeling\n",
    "import dm"
   ]
  },
  {
   "cell_type": "code",
   "execution_count": 2,
   "metadata": {},
   "outputs": [
    {
     "data": {
      "text/plain": [
       "<dm.Country - USA (local)>"
      ]
     },
     "execution_count": 2,
     "metadata": {},
     "output_type": "execute_result"
    }
   ],
   "source": [
    "cntry_dm = dm.Country('USA')\n",
    "\n",
    "cntry_dm"
   ]
  },
  {
   "cell_type": "code",
   "execution_count": 3,
   "metadata": {},
   "outputs": [
    {
     "data": {
      "text/plain": [
       "<modeling.Country - USA (local 2020)>"
      ]
     },
     "execution_count": 3,
     "metadata": {},
     "output_type": "execute_result"
    }
   ],
   "source": [
    "cntry_mdl = modeling.Country('US')\n",
    "\n",
    "cntry_mdl"
   ]
  },
  {
   "cell_type": "code",
   "execution_count": 6,
   "metadata": {},
   "outputs": [
    {
     "data": {
      "text/plain": [
       "<modeling.Country - USA (local 2019)>"
      ]
     },
     "execution_count": 6,
     "metadata": {},
     "output_type": "execute_result"
    }
   ],
   "source": [
    "cntry_mdl = modeling.Country('USA', year=2019)\n",
    "\n",
    "cntry_mdl"
   ]
  },
  {
   "cell_type": "code",
   "execution_count": 10,
   "metadata": {},
   "outputs": [
    {
     "name": "stdin",
     "output_type": "stream",
     "text": [
      "Enter password:  ········\n"
     ]
    },
    {
     "data": {
      "text/html": [
       "GIS @ <a href=\"https://knu2xs.maps.arcgis.com\">https://knu2xs.maps.arcgis.com</a>"
      ],
      "text/plain": [
       "GIS @ https://knu2xs.maps.arcgis.com version:8.4"
      ]
     },
     "execution_count": 10,
     "metadata": {},
     "output_type": "execute_result"
    }
   ],
   "source": [
    "gis = GIS(username='knu2xs')\n",
    "\n",
    "gis"
   ]
  },
  {
   "cell_type": "code",
   "execution_count": 8,
   "metadata": {},
   "outputs": [
    {
     "data": {
      "text/plain": [
       "'https://www.arcgis.com'"
      ]
     },
     "execution_count": 8,
     "metadata": {},
     "output_type": "execute_result"
    }
   ],
   "source": [
    "gis.url"
   ]
  },
  {
   "cell_type": "code",
   "execution_count": 12,
   "metadata": {},
   "outputs": [
    {
     "data": {
      "text/plain": [
       "'knu2xs'"
      ]
     },
     "execution_count": 12,
     "metadata": {},
     "output_type": "execute_result"
    }
   ],
   "source": [
    "gis.users.me.username"
   ]
  },
  {
   "cell_type": "code",
   "execution_count": 13,
   "metadata": {},
   "outputs": [],
   "source": [
    "import ast"
   ]
  },
  {
   "cell_type": "code",
   "execution_count": 29,
   "metadata": {},
   "outputs": [
    {
     "data": {
      "text/plain": [
       "WindowsPath('d:/projects/demographic-modeling-module/src/dm')"
      ]
     },
     "execution_count": 29,
     "metadata": {},
     "output_type": "execute_result"
    }
   ],
   "source": [
    "module = dm\n",
    "\n",
    "# __file__ returns string path to the __init__.py file, so the parent is the package directory\n",
    "dir_pkg = Path(getattr(module, '__file__')).parent\n",
    "\n",
    "dir_pkg"
   ]
  },
  {
   "cell_type": "code",
   "execution_count": 31,
   "metadata": {},
   "outputs": [
    {
     "data": {
      "text/plain": [
       "[WindowsPath('d:/projects/demographic-modeling-module/src/dm/businesses.py'),\n",
       " WindowsPath('d:/projects/demographic-modeling-module/src/dm/country.py'),\n",
       " WindowsPath('d:/projects/demographic-modeling-module/src/dm/proximity.py'),\n",
       " WindowsPath('d:/projects/demographic-modeling-module/src/dm/spatial.py'),\n",
       " WindowsPath('d:/projects/demographic-modeling-module/src/dm/utils.py'),\n",
       " WindowsPath('d:/projects/demographic-modeling-module/src/dm/_registry.py'),\n",
       " WindowsPath('d:/projects/demographic-modeling-module/src/dm/_xml_interrogation.py'),\n",
       " WindowsPath('d:/projects/demographic-modeling-module/src/dm/__init__.py'),\n",
       " WindowsPath('d:/projects/demographic-modeling-module/src/dm/_accessor/_modify_geoaccessor.py'),\n",
       " WindowsPath('d:/projects/demographic-modeling-module/src/dm/_accessor/__init__.py')]"
      ]
     },
     "execution_count": 31,
     "metadata": {},
     "output_type": "execute_result"
    }
   ],
   "source": [
    "pkg_fl_gen = dir_pkg.glob('**/*.py')\n",
    "\n",
    "pkg_fl_gen = list(pkg_fl_gen)\n",
    "\n",
    "pkg_fl_gen"
   ]
  },
  {
   "cell_type": "code",
   "execution_count": 89,
   "metadata": {},
   "outputs": [],
   "source": [
    "from io import TextIOWrapper\n",
    "from typing import Union\n",
    "\n",
    "import pandas as pd\n",
    "\n",
    "\n",
    "def get_node_docstrings(nodes: list) -> list:\n",
    "    ds_lst = [(i.name, ast.get_docstring(i)) for i in nodes]\n",
    "    ds_lst = [i for i in ds_lst if i[1] is not None]\n",
    "    return ds_lst\n",
    "\n",
    "\n",
    "def get_function_docstrings(ast_node: Union[ast.ClassDef, ast.Module]) -> list:\n",
    "    node_lst = [n for n in ast_node.body if isinstance(n, ast.FunctionDef)]\n",
    "    ds_lst = get_node_docstrings(node_lst)\n",
    "    return ds_lst\n",
    "\n",
    "\n",
    "def get_class_docstrings(ast_module: ast.Module)->list:\n",
    "    node_lst = [n for n in ast_module.body if isinstance(n, ast.ClassDef)]\n",
    "    ds_lst = get_node_docstrings(node_lst)\n",
    "    return ds_lst\n",
    "\n",
    "\n",
    "def get_module_docstrings(module_path: Path)->list:\n",
    "    \n",
    "    # crack open the file and get the contents into an ast.Module instance\n",
    "    with open(cntry_pth, 'r') as fb:\n",
    "        file_contents = fb.read()\n",
    "        module = ast.parse(file_contents)\n",
    "    \n",
    "    # get a list of all classes\n",
    "    cls_lst = [n for n in module.body if isinstance(n, ast.ClassDef)]\n",
    "    \n",
    "    # get all class docstrings\n",
    "    ds_lst = get_node_docstrings(cls_lst)\n",
    "    \n",
    "    # get all top level module docstrings\n",
    "    ds_lst = ds_lst + get_function_docstrings(module)\n",
    "    \n",
    "    # iterate the classes in the module and get the child function docstrings\n",
    "    for cls_node in cls_lst:\n",
    "        ds_lst = ds_lst + get_function_docstrings(cls_node)\n",
    "        \n",
    "    return ds_lst\n",
    "\n",
    "def get_package_docstrings(package_path:Path)->pd.DataFrame:\n",
    "    mod_pth_gen = dir_pkg.glob('**/*.py')\n",
    "    pkg_docs_lst = []\n",
    "    for mod_pth in mod_pth_gen:\n",
    "        mod_nm = mod_pth.stem\n",
    "        if mod_nm != '__init__':\n",
    "            mod_doc_lst = get_module_docstrings(mod_pth)\n",
    "            mod_doc_lst = [(mod_nm, m[0], m[1]) for m in mod_doc_lst]\n",
    "            pkg_docs_lst.extend(mod_doc_lst)\n",
    "    df = pd.DataFrame(pkg_docs_lst, columns=['module_name', 'object_name', 'docstring'])\n",
    "    return df"
   ]
  },
  {
   "cell_type": "code",
   "execution_count": 92,
   "metadata": {},
   "outputs": [],
   "source": [
    "ds_df = get_package_docstrings(dir_pkg)"
   ]
  },
  {
   "cell_type": "code",
   "execution_count": 93,
   "metadata": {},
   "outputs": [
    {
     "data": {
      "text/html": [
       "<div>\n",
       "<style scoped>\n",
       "    .dataframe tbody tr th:only-of-type {\n",
       "        vertical-align: middle;\n",
       "    }\n",
       "\n",
       "    .dataframe tbody tr th {\n",
       "        vertical-align: top;\n",
       "    }\n",
       "\n",
       "    .dataframe thead th {\n",
       "        text-align: right;\n",
       "    }\n",
       "</style>\n",
       "<table border=\"1\" class=\"dataframe\">\n",
       "  <thead>\n",
       "    <tr style=\"text-align: right;\">\n",
       "      <th></th>\n",
       "      <th>module_name</th>\n",
       "      <th>object_name</th>\n",
       "      <th>docstring</th>\n",
       "    </tr>\n",
       "  </thead>\n",
       "  <tbody>\n",
       "    <tr>\n",
       "      <th>0</th>\n",
       "      <td>businesses</td>\n",
       "      <td>Country</td>\n",
       "      <td>Country objects are instantiated by providing ...</td>\n",
       "    </tr>\n",
       "    <tr>\n",
       "      <th>1</th>\n",
       "      <td>businesses</td>\n",
       "      <td>DemographicModeling</td>\n",
       "      <td>DemograpphicModeling is a Pandas DataFrame acc...</td>\n",
       "    </tr>\n",
       "    <tr>\n",
       "      <th>2</th>\n",
       "      <td>businesses</td>\n",
       "      <td>_set_arcpy_ba_country</td>\n",
       "      <td>Helper function to set the country in ArcPy.</td>\n",
       "    </tr>\n",
       "    <tr>\n",
       "      <th>3</th>\n",
       "      <td>businesses</td>\n",
       "      <td>business</td>\n",
       "      <td>Access to business object instance for the cou...</td>\n",
       "    </tr>\n",
       "    <tr>\n",
       "      <th>4</th>\n",
       "      <td>businesses</td>\n",
       "      <td>enrich_variables</td>\n",
       "      <td>DataFrame of all the available geoenrichment v...</td>\n",
       "    </tr>\n",
       "  </tbody>\n",
       "</table>\n",
       "</div>"
      ],
      "text/plain": [
       "  module_name            object_name  \\\n",
       "0  businesses                Country   \n",
       "1  businesses    DemographicModeling   \n",
       "2  businesses  _set_arcpy_ba_country   \n",
       "3  businesses               business   \n",
       "4  businesses       enrich_variables   \n",
       "\n",
       "                                           docstring  \n",
       "0  Country objects are instantiated by providing ...  \n",
       "1  DemograpphicModeling is a Pandas DataFrame acc...  \n",
       "2       Helper function to set the country in ArcPy.  \n",
       "3  Access to business object instance for the cou...  \n",
       "4  DataFrame of all the available geoenrichment v...  "
      ]
     },
     "execution_count": 93,
     "metadata": {},
     "output_type": "execute_result"
    }
   ],
   "source": [
    "ds_df.head()"
   ]
  },
  {
   "cell_type": "code",
   "execution_count": 95,
   "metadata": {},
   "outputs": [],
   "source": [
    "ds_df.docstring.to_json(dir_raw/'docstring.json')"
   ]
  },
  {
   "cell_type": "code",
   "execution_count": 154,
   "metadata": {},
   "outputs": [],
   "source": [
    "with open(dir_raw/'docstring.json', 'w') as out_fl:\n",
    "    for r in ds_df.docstring.iteritems():\n",
    "        docstr = r[1]\n",
    "        docstr = docstr.replace('\\n', '\\\\n').replace('\\t', '\\\\t').replace('\"', '\\\\\"')\n",
    "        out_fl.write(f'{{\"text\": \"{docstr}\"}}\\n')"
   ]
  },
  {
   "cell_type": "code",
   "execution_count": 153,
   "metadata": {},
   "outputs": [
    {
     "data": {
      "text/plain": [
       "\"Create a closest destination dataframe using a destination Spatially Enabled\\\\nDataframe relative to the parent Spatially enabled DataFrame, but keep each\\\\norigin and destination still in a discrete row instead of collapsing to a\\\\nsingle row per origin. The main reason to use this is if needing the geometry\\\\nfor visualization.\\\\n\\\\nArgs:\\\\n    destination_dataframe:\\\\n        Destination points in one of the supported input formats.\\\\n    source:\\\\n        Optional - Either the path to the network dataset, the Country object\\\\n        associated with the Business Analyst source being used, or a GIS object\\\\n        instance. If invoked from a dataframe created for a country's standard\\\\n        geography levels using the dm accessor, get_nearest will use the parent\\\\n        country properties to ascertain how to perform the networks solve.\\\\n    single_row_per_origin:\\\\n        Optional - Whether or not to pivot the results to return\\\\n        only one row for each origin location. Default is True.\\\\n    origin_id_column:\\\\n        Optional - Column in the origin points Spatially Enabled Dataframe\\\\n        uniquely identifying each feature. Default is 'LOCNUM'.\\\\n    destination_id_column:\\\\n        Column in the destination points Spatially Enabled Dataframe\\\\n        uniquely identifying each feature\\\\n    destination_count:\\\\n        Integer number of destinations to search for from every origin\\\\n        point.\\\\n    near_prefix:\\\\n        String prefix to prepend onto near column names in the output.\\\\n    destination_columns_to_keep:\\\\n        List of columns to keep in the output. Commonly, if\\\\n        businesses, this includes the column with the business names.\\\\n\\\\nReturns:\\\\n    Spatially Enabled Dataframe with a row for each origin id, and metrics for\\\\n    each nth destinations.\""
      ]
     },
     "execution_count": 153,
     "metadata": {},
     "output_type": "execute_result"
    }
   ],
   "source": [
    "docstr"
   ]
  },
  {
   "cell_type": "code",
   "execution_count": null,
   "metadata": {},
   "outputs": [],
   "source": []
  }
 ],
 "metadata": {
  "kernelspec": {
   "display_name": "Python 3",
   "language": "python",
   "name": "python3"
  },
  "language_info": {
   "codemirror_mode": {
    "name": "ipython",
    "version": 3
   },
   "file_extension": ".py",
   "mimetype": "text/x-python",
   "name": "python",
   "nbconvert_exporter": "python",
   "pygments_lexer": "ipython3",
   "version": "3.7.9"
  }
 },
 "nbformat": 4,
 "nbformat_minor": 4
}
