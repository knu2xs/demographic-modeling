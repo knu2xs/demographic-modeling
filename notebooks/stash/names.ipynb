{
 "cells": [
  {
   "cell_type": "code",
   "execution_count": 1,
   "metadata": {},
   "outputs": [
    {
     "name": "stderr",
     "output_type": "stream",
     "text": [
      "D:\\projects\\demographic-modeling-module\\src\\dm\\_modify_geoaccessor.py:31: UserWarning: registration of accessor <class 'dm._modify_geoaccessor.GeoAccessorIO'> under name 'spatial' for type <class 'pandas.core.frame.DataFrame'> is overriding a preexistingattribute with the same name.\n",
      "  class GeoAccessorIO(GeoAccessor):\n"
     ]
    }
   ],
   "source": [
    "from pathlib import Path\n",
    "import sys\n",
    "\n",
    "import arcpy\n",
    "import pandas as pd\n",
    "\n",
    "project_parent = Path('./').absolute().parent.parent\n",
    "\n",
    "# import the project package from the project package path\n",
    "# ideally will be imported using 'from arcgis import dm'\n",
    "sys.path.append(str(project_parent/'src'))\n",
    "import dm\n",
    "\n",
    "# load the \"autoreload\" extension so as src code is changed, the changes are picked up in the dataframe\n",
    "%load_ext autoreload\n",
    "%autoreload 2"
   ]
  },
  {
   "cell_type": "code",
   "execution_count": 2,
   "metadata": {},
   "outputs": [],
   "source": [
    "usa = dm.Country('USA')"
   ]
  },
  {
   "cell_type": "code",
   "execution_count": 3,
   "metadata": {},
   "outputs": [
    {
     "data": {
      "text/plain": [
       "0    District of Columbia\n",
       "Name: geo_name, dtype: object"
      ]
     },
     "execution_count": 3,
     "metadata": {},
     "output_type": "execute_result"
    }
   ],
   "source": [
    "usa.states.get_names('district')"
   ]
  },
  {
   "cell_type": "code",
   "execution_count": 4,
   "metadata": {},
   "outputs": [],
   "source": [
    "can = dm.Country('CAN')"
   ]
  },
  {
   "cell_type": "code",
   "execution_count": 5,
   "metadata": {},
   "outputs": [
    {
     "data": {
      "text/plain": [
       "0    Victoriaville\n",
       "1         Victoria\n",
       "Name: geo_name, dtype: object"
      ]
     },
     "execution_count": 5,
     "metadata": {},
     "output_type": "execute_result"
    }
   ],
   "source": [
    "can.cmacas.get_names('victoria')"
   ]
  },
  {
   "cell_type": "code",
   "execution_count": 6,
   "metadata": {},
   "outputs": [
    {
     "data": {
      "text/html": [
       "<div>\n",
       "<style scoped>\n",
       "    .dataframe tbody tr th:only-of-type {\n",
       "        vertical-align: middle;\n",
       "    }\n",
       "\n",
       "    .dataframe tbody tr th {\n",
       "        vertical-align: top;\n",
       "    }\n",
       "\n",
       "    .dataframe thead th {\n",
       "        text-align: right;\n",
       "    }\n",
       "</style>\n",
       "<table border=\"1\" class=\"dataframe\">\n",
       "  <thead>\n",
       "    <tr style=\"text-align: right;\">\n",
       "      <th></th>\n",
       "      <th>ID</th>\n",
       "      <th>NAME</th>\n",
       "      <th>SHAPE</th>\n",
       "    </tr>\n",
       "  </thead>\n",
       "  <tbody>\n",
       "    <tr>\n",
       "      <th>0</th>\n",
       "      <td>935</td>\n",
       "      <td>Victoria</td>\n",
       "      <td>{\"rings\": [[[-13752671.4934, 6159415.4991], [-...</td>\n",
       "    </tr>\n",
       "  </tbody>\n",
       "</table>\n",
       "</div>"
      ],
      "text/plain": [
       "    ID      NAME                                              SHAPE\n",
       "0  935  Victoria  {\"rings\": [[[-13752671.4934, 6159415.4991], [-..."
      ]
     },
     "execution_count": 6,
     "metadata": {},
     "output_type": "execute_result"
    }
   ],
   "source": [
    "vic_df = can.cmacas.get(query_string=f\"NAME = 'Victoria'\")\n",
    "\n",
    "vic_df"
   ]
  },
  {
   "cell_type": "code",
   "execution_count": 7,
   "metadata": {},
   "outputs": [
    {
     "data": {
      "text/html": [
       "<div>\n",
       "<style scoped>\n",
       "    .dataframe tbody tr th:only-of-type {\n",
       "        vertical-align: middle;\n",
       "    }\n",
       "\n",
       "    .dataframe tbody tr th {\n",
       "        vertical-align: top;\n",
       "    }\n",
       "\n",
       "    .dataframe thead th {\n",
       "        text-align: right;\n",
       "    }\n",
       "</style>\n",
       "<table border=\"1\" class=\"dataframe\">\n",
       "  <thead>\n",
       "    <tr style=\"text-align: right;\">\n",
       "      <th></th>\n",
       "      <th>ID</th>\n",
       "      <th>NAME</th>\n",
       "      <th>SHAPE</th>\n",
       "    </tr>\n",
       "  </thead>\n",
       "  <tbody>\n",
       "    <tr>\n",
       "      <th>0</th>\n",
       "      <td>59170115</td>\n",
       "      <td>59170115</td>\n",
       "      <td>{\"rings\": [[[-13732839.9261, 6185319.702], [-1...</td>\n",
       "    </tr>\n",
       "    <tr>\n",
       "      <th>1</th>\n",
       "      <td>59170116</td>\n",
       "      <td>59170116</td>\n",
       "      <td>{\"rings\": [[[-13732698.5503, 6185056.106299996...</td>\n",
       "    </tr>\n",
       "    <tr>\n",
       "      <th>2</th>\n",
       "      <td>59170117</td>\n",
       "      <td>59170117</td>\n",
       "      <td>{\"rings\": [[[-13733024.7165, 6184206.611299999...</td>\n",
       "    </tr>\n",
       "    <tr>\n",
       "      <th>3</th>\n",
       "      <td>59170118</td>\n",
       "      <td>59170118</td>\n",
       "      <td>{\"rings\": [[[-13732798.7379, 6183885.974100001...</td>\n",
       "    </tr>\n",
       "    <tr>\n",
       "      <th>4</th>\n",
       "      <td>59170119</td>\n",
       "      <td>59170119</td>\n",
       "      <td>{\"rings\": [[[-13732790.9456, 6183538.490900002...</td>\n",
       "    </tr>\n",
       "    <tr>\n",
       "      <th>...</th>\n",
       "      <td>...</td>\n",
       "      <td>...</td>\n",
       "      <td>...</td>\n",
       "    </tr>\n",
       "    <tr>\n",
       "      <th>556</th>\n",
       "      <td>59170773</td>\n",
       "      <td>59170773</td>\n",
       "      <td>{\"rings\": [[[-13731735.8082, 6191060.328299999...</td>\n",
       "    </tr>\n",
       "    <tr>\n",
       "      <th>557</th>\n",
       "      <td>59170774</td>\n",
       "      <td>59170774</td>\n",
       "      <td>{\"rings\": [[[-13733445.504099999, 6187247.3884...</td>\n",
       "    </tr>\n",
       "    <tr>\n",
       "      <th>558</th>\n",
       "      <td>59170776</td>\n",
       "      <td>59170776</td>\n",
       "      <td>{\"rings\": [[[-13730728.4849, 6186735.934600003...</td>\n",
       "    </tr>\n",
       "    <tr>\n",
       "      <th>559</th>\n",
       "      <td>59170777</td>\n",
       "      <td>59170777</td>\n",
       "      <td>{\"rings\": [[[-13732334.5356, 6186412.787699997...</td>\n",
       "    </tr>\n",
       "    <tr>\n",
       "      <th>560</th>\n",
       "      <td>59170778</td>\n",
       "      <td>59170778</td>\n",
       "      <td>{\"rings\": [[[-13732094.6571, 6189072.911499999...</td>\n",
       "    </tr>\n",
       "  </tbody>\n",
       "</table>\n",
       "<p>561 rows × 3 columns</p>\n",
       "</div>"
      ],
      "text/plain": [
       "           ID      NAME                                              SHAPE\n",
       "0    59170115  59170115  {\"rings\": [[[-13732839.9261, 6185319.702], [-1...\n",
       "1    59170116  59170116  {\"rings\": [[[-13732698.5503, 6185056.106299996...\n",
       "2    59170117  59170117  {\"rings\": [[[-13733024.7165, 6184206.611299999...\n",
       "3    59170118  59170118  {\"rings\": [[[-13732798.7379, 6183885.974100001...\n",
       "4    59170119  59170119  {\"rings\": [[[-13732790.9456, 6183538.490900002...\n",
       "..        ...       ...                                                ...\n",
       "556  59170773  59170773  {\"rings\": [[[-13731735.8082, 6191060.328299999...\n",
       "557  59170774  59170774  {\"rings\": [[[-13733445.504099999, 6187247.3884...\n",
       "558  59170776  59170776  {\"rings\": [[[-13730728.4849, 6186735.934600003...\n",
       "559  59170777  59170777  {\"rings\": [[[-13732334.5356, 6186412.787699997...\n",
       "560  59170778  59170778  {\"rings\": [[[-13732094.6571, 6189072.911499999...\n",
       "\n",
       "[561 rows x 3 columns]"
      ]
     },
     "execution_count": 7,
     "metadata": {},
     "output_type": "execute_result"
    }
   ],
   "source": [
    "lvl0_df = vic_df.level(0).get()\n",
    "\n",
    "lvl0_df"
   ]
  },
  {
   "cell_type": "code",
   "execution_count": 8,
   "metadata": {},
   "outputs": [],
   "source": [
    "geography_iterable = lvl0_df"
   ]
  },
  {
   "cell_type": "code",
   "execution_count": 9,
   "metadata": {},
   "outputs": [
    {
     "data": {
      "text/plain": [
       "Index(['ID', 'NAME', 'SHAPE'], dtype='object')"
      ]
     },
     "execution_count": 9,
     "metadata": {},
     "output_type": "execute_result"
    }
   ],
   "source": [
    "geography_iterable.keys()"
   ]
  },
  {
   "cell_type": "code",
   "execution_count": 10,
   "metadata": {},
   "outputs": [
    {
     "data": {
      "text/plain": [
       "Index(['ID', 'NAME', 'SHAPE'], dtype='object')"
      ]
     },
     "execution_count": 10,
     "metadata": {},
     "output_type": "execute_result"
    }
   ],
   "source": [
    "geography_iterable.iloc[0].keys()"
   ]
  },
  {
   "cell_type": "code",
   "execution_count": 13,
   "metadata": {},
   "outputs": [
    {
     "data": {
      "text/plain": [
       "RangeIndex(start=0, stop=561, step=1)"
      ]
     },
     "execution_count": 13,
     "metadata": {},
     "output_type": "execute_result"
    }
   ],
   "source": [
    "lvl0_df['SHAPE'].keys()"
   ]
  },
  {
   "cell_type": "code",
   "execution_count": 12,
   "metadata": {},
   "outputs": [
    {
     "data": {
      "text/plain": [
       "3"
      ]
     },
     "execution_count": 12,
     "metadata": {},
     "output_type": "execute_result"
    }
   ],
   "source": [
    "len(geography_iterable.iloc[0])"
   ]
  }
 ],
 "metadata": {
  "kernelspec": {
   "display_name": "Python 3",
   "language": "python",
   "name": "python3"
  },
  "language_info": {
   "codemirror_mode": {
    "name": "ipython",
    "version": 3
   },
   "file_extension": ".py",
   "mimetype": "text/x-python",
   "name": "python",
   "nbconvert_exporter": "python",
   "pygments_lexer": "ipython3",
   "version": "3.6.10"
  }
 },
 "nbformat": 4,
 "nbformat_minor": 4
}
