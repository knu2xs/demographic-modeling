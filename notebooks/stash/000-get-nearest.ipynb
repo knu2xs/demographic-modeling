{
 "cells": [
  {
   "cell_type": "code",
   "execution_count": 1,
   "metadata": {},
   "outputs": [
    {
     "ename": "ImportError",
     "evalue": "cannot import name 'GIS' from 'arcgis' (/Users/joel5174/miniconda3/envs/arcgis/lib/python3.7/site-packages/arcgis/__init__.py)",
     "output_type": "error",
     "traceback": [
      "\u001b[0;31m---------------------------------------------------------------------------\u001b[0m",
      "\u001b[0;31mImportError\u001b[0m                               Traceback (most recent call last)",
      "\u001b[0;32m<ipython-input-1-8e930fff2435>\u001b[0m in \u001b[0;36m<module>\u001b[0;34m\u001b[0m\n\u001b[1;32m      3\u001b[0m \u001b[0;32mimport\u001b[0m \u001b[0mtime\u001b[0m\u001b[0;34m\u001b[0m\u001b[0;34m\u001b[0m\u001b[0m\n\u001b[1;32m      4\u001b[0m \u001b[0;34m\u001b[0m\u001b[0m\n\u001b[0;32m----> 5\u001b[0;31m \u001b[0;32mfrom\u001b[0m \u001b[0marcgis\u001b[0m \u001b[0;32mimport\u001b[0m \u001b[0mGIS\u001b[0m\u001b[0;34m,\u001b[0m \u001b[0mGeoAccessor\u001b[0m\u001b[0;34m\u001b[0m\u001b[0;34m\u001b[0m\u001b[0m\n\u001b[0m\u001b[1;32m      6\u001b[0m \u001b[0;32mfrom\u001b[0m \u001b[0mdotenv\u001b[0m \u001b[0;32mimport\u001b[0m \u001b[0mfind_dotenv\u001b[0m\u001b[0;34m,\u001b[0m \u001b[0mload_dotenv\u001b[0m\u001b[0;34m\u001b[0m\u001b[0;34m\u001b[0m\u001b[0m\n\u001b[1;32m      7\u001b[0m \u001b[0;32mfrom\u001b[0m \u001b[0mmodeling\u001b[0m \u001b[0;32mimport\u001b[0m \u001b[0mCountry\u001b[0m\u001b[0;34m,\u001b[0m \u001b[0mModelingAccessor\u001b[0m\u001b[0;34m\u001b[0m\u001b[0;34m\u001b[0m\u001b[0m\n",
      "\u001b[0;31mImportError\u001b[0m: cannot import name 'GIS' from 'arcgis' (/Users/joel5174/miniconda3/envs/arcgis/lib/python3.7/site-packages/arcgis/__init__.py)"
     ]
    }
   ],
   "source": [
    "import os\n",
    "from pathlib import Path\n",
    "import time\n",
    "\n",
    "from arcgis import GIS, GeoAccessor\n",
    "from dotenv import find_dotenv, load_dotenv\n",
    "from modeling import Country, ModelingAccessor\n",
    "\n",
    "load_dotenv(find_dotenv())\n",
    "\n",
    "# load the \"autoreload\" extension so as src code is changed, the changes are picked up in the dataframe\n",
    "%load_ext autoreload\n",
    "%autoreload 2"
   ]
  },
  {
   "cell_type": "code",
   "execution_count": null,
   "metadata": {},
   "outputs": [],
   "source": [
    "project_parent = Path('.').absolute().parent.parent\n",
    "dir_data = project_parent/'data'\n",
    "dir_int = dir_data/'interim'\n",
    "dir_raw = dir_data/'raw'\n",
    "gdb_int = dir_int/'interim.gdb'\n",
    "gdb_raw = dir_raw/'raw.gdb'\n",
    "\n",
    "biz_drop_cols = ['OBJECTID', 'CONAME','SALESVOL', 'HDBRCH', 'ULTNUM', 'PUBPRV', 'EMPNUM', 'FRNCOD', 'ISCODE', 'SQFTCODE', 'LOC_NAME', 'STATUS', 'SCORE', 'SOURCE', 'REC_TYPE']"
   ]
  },
  {
   "cell_type": "code",
   "execution_count": null,
   "metadata": {},
   "outputs": [],
   "source": [
    "# gis = GIS(os.getenv('ESRI_PORTAL_URL'), username=os.getenv('ESRI_PORTAL_USERNAME'), password=os.getenv('ESRI_PORTAL_PASSWORD'))\n",
    "# gis = GIS(os.getenv('BASRV_QA_URL'), username=os.getenv('BASRV_QA_USERNAME'), password=os.getenv('BASRV_QA_PASSWORD'))\n",
    "gis = GIS(os.getenv('BA_QA_URL'), username=os.getenv('BA_QA_USERNAME'), password=os.getenv('BA_QA_PASSWORD'))\n",
    "usa = Country('USA')\n",
    "\n",
    "usa"
   ]
  },
  {
   "cell_type": "code",
   "execution_count": null,
   "metadata": {},
   "outputs": [],
   "source": [
    "%%time\n",
    "aoi_df = usa.cbsas.get('seattle')\n",
    "\n",
    "aoi_df"
   ]
  },
  {
   "cell_type": "code",
   "execution_count": null,
   "metadata": {},
   "outputs": [],
   "source": [
    "evars = usa.enrich_variables\n",
    "\n",
    "print(evars.info())\n",
    "\n",
    "key_vars = evars[\n",
    "    (evars.name.str.endswith('CY'))\n",
    "    & (evars.data_collection.str.lower().str.contains('key'))\n",
    "].reset_index(drop=True)\n",
    "\n",
    "print(key_vars.info())\n",
    "key_vars"
   ]
  },
  {
   "cell_type": "code",
   "execution_count": null,
   "metadata": {},
   "outputs": [],
   "source": [
    "%%time\n",
    "bg_df = aoi_df.mdl.level(0).get().mdl.enrich(key_vars)\n",
    "\n",
    "print(bg_df.info())\n",
    "bg_df.head()"
   ]
  },
  {
   "cell_type": "code",
   "execution_count": null,
   "metadata": {},
   "outputs": [],
   "source": [
    "%%time\n",
    "biz_df = aoi_df.mdl.business.get_by_name('ace hardware')\n",
    "\n",
    "print(biz_df.info())\n",
    "biz_df.head()"
   ]
  },
  {
   "cell_type": "code",
   "execution_count": null,
   "metadata": {},
   "outputs": [],
   "source": [
    "%%time\n",
    "bg_near_biz_df = bg_df.mdl.proximity.get_nearest(biz_df, origin_id_column='ID', destination_count=3, near_prefix='brand')\n",
    "\n",
    "print(bg_near_biz_df.info())\n",
    "bg_near_biz_df.head()"
   ]
  },
  {
   "cell_type": "code",
   "execution_count": null,
   "metadata": {},
   "outputs": [],
   "source": [
    "%%time\n",
    "comp_df = aoi_df.mdl.business.get_competition(biz_df, local_threshold=3)\n",
    "comp_df.spatial.set_geometry('SHAPE')\n",
    "\n",
    "print(comp_df.info())\n",
    "comp_df.head()"
   ]
  },
  {
   "cell_type": "code",
   "execution_count": null,
   "metadata": {},
   "outputs": [],
   "source": [
    "%%time\n",
    "bg_near_comp_df = bg_df.mdl.proximity.get_nearest(comp_df, origin_id_column='ID', near_prefix='comp', destination_count=6,\n",
    "                                                  destination_columns_to_keep=['brand_name', 'brand_name_category'])\n",
    "\n",
    "print(bg_near_comp_df.info())\n",
    "bg_near_comp_df.head()"
   ]
  },
  {
   "cell_type": "code",
   "execution_count": null,
   "metadata": {},
   "outputs": [],
   "source": [
    "%%time\n",
    "biz_near_comp_df = biz_df.mdl.proximity.get_nearest(comp_df, origin_id_column='LOCNUM', near_prefix='biz_comp', \n",
    "                                                    destination_id_column='LOCNUM', destination_count=6,\n",
    "                                                    destination_columns_to_keep=['brand_name', 'brand_name_category'])\n",
    "\n",
    "print(biz_near_comp_df.info())\n",
    "biz_near_comp_df.head()"
   ]
  },
  {
   "cell_type": "code",
   "execution_count": null,
   "metadata": {},
   "outputs": [],
   "source": []
  }
 ],
 "metadata": {
  "kernelspec": {
   "display_name": "Python 3",
   "language": "python",
   "name": "python3"
  },
  "language_info": {
   "codemirror_mode": {
    "name": "ipython",
    "version": 3
   },
   "file_extension": ".py",
   "mimetype": "text/x-python",
   "name": "python",
   "nbconvert_exporter": "python",
   "pygments_lexer": "ipython3",
   "version": "3.7.10"
  }
 },
 "nbformat": 4,
 "nbformat_minor": 4
}
