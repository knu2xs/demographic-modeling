{
 "cells": [
  {
   "cell_type": "code",
   "execution_count": 1,
   "metadata": {},
   "outputs": [],
   "source": [
    "from pathlib import Path\n",
    "\n",
    "import arcpy\n",
    "from arcgis.features import GeoAccessor\n",
    "from dm import Country\n",
    "from dm import proximity as prx\n",
    "from dm.country import DemographicModeling\n",
    "import pandas as pd\n",
    "import numpy as np\n",
    "\n",
    "# load the \"autoreload\" extension so as src code is changed, the changes are picked up in the dataframe\n",
    "%load_ext autoreload\n",
    "%autoreload 2"
   ]
  },
  {
   "cell_type": "code",
   "execution_count": 2,
   "metadata": {},
   "outputs": [],
   "source": [
    "project_parent = Path('./').absolute().parent\n",
    "dir_data = project_parent/'data'\n",
    "dir_int = dir_data/'interim'\n",
    "gdb_int = dir_int/'interim.gdb'\n",
    "\n",
    "biz_drop_cols = ['OBJECTID', 'CONAME','SALESVOL', 'HDBRCH', 'ULTNUM', 'PUBPRV', 'EMPNUM', 'FRNCOD', 'ISCODE', 'SQFTCODE', 'LOC_NAME', 'STATUS', 'SCORE', 'SOURCE', 'REC_TYPE']"
   ]
  },
  {
   "cell_type": "code",
   "execution_count": 3,
   "metadata": {},
   "outputs": [
    {
     "data": {
      "text/plain": [
       "<dm.Country - USA (local)>"
      ]
     },
     "execution_count": 3,
     "metadata": {},
     "output_type": "execute_result"
    }
   ],
   "source": [
    "usa = Country('USA')\n",
    "\n",
    "usa"
   ]
  },
  {
   "cell_type": "code",
   "execution_count": 4,
   "metadata": {},
   "outputs": [
    {
     "name": "stdout",
     "output_type": "stream",
     "text": [
      "Wall time: 4.69 s\n"
     ]
    },
    {
     "data": {
      "text/html": [
       "<div>\n",
       "<style scoped>\n",
       "    .dataframe tbody tr th:only-of-type {\n",
       "        vertical-align: middle;\n",
       "    }\n",
       "\n",
       "    .dataframe tbody tr th {\n",
       "        vertical-align: top;\n",
       "    }\n",
       "\n",
       "    .dataframe thead th {\n",
       "        text-align: right;\n",
       "    }\n",
       "</style>\n",
       "<table border=\"1\" class=\"dataframe\">\n",
       "  <thead>\n",
       "    <tr style=\"text-align: right;\">\n",
       "      <th></th>\n",
       "      <th>ID</th>\n",
       "      <th>NAME</th>\n",
       "      <th>SHAPE</th>\n",
       "    </tr>\n",
       "  </thead>\n",
       "  <tbody>\n",
       "    <tr>\n",
       "      <th>0</th>\n",
       "      <td>42660</td>\n",
       "      <td>Seattle-Tacoma-Bellevue, WA Metropolitan Stati...</td>\n",
       "      <td>{\"rings\": [[[-122.62951999978839, 47.163890001...</td>\n",
       "    </tr>\n",
       "  </tbody>\n",
       "</table>\n",
       "</div>"
      ],
      "text/plain": [
       "      ID                                               NAME  \\\n",
       "0  42660  Seattle-Tacoma-Bellevue, WA Metropolitan Stati...   \n",
       "\n",
       "                                               SHAPE  \n",
       "0  {\"rings\": [[[-122.62951999978839, 47.163890001...  "
      ]
     },
     "execution_count": 4,
     "metadata": {},
     "output_type": "execute_result"
    }
   ],
   "source": [
    "%%time\n",
    "aoi_df = usa.cbsas.get('seattle')\n",
    "\n",
    "aoi_df"
   ]
  },
  {
   "cell_type": "code",
   "execution_count": 5,
   "metadata": {},
   "outputs": [
    {
     "name": "stdout",
     "output_type": "stream",
     "text": [
      "<class 'pandas.core.frame.DataFrame'>\n",
      "RangeIndex: 2478 entries, 0 to 2477\n",
      "Data columns (total 3 columns):\n",
      " #   Column  Non-Null Count  Dtype   \n",
      "---  ------  --------------  -----   \n",
      " 0   ID      2478 non-null   object  \n",
      " 1   NAME    2478 non-null   object  \n",
      " 2   SHAPE   2478 non-null   geometry\n",
      "dtypes: geometry(1), object(2)\n",
      "memory usage: 58.2+ KB\n",
      "Wall time: 13.2 s\n"
     ]
    }
   ],
   "source": [
    "%%time\n",
    "bg_df = aoi_df.dm.level(0).get()\n",
    "\n",
    "bg_df.info()"
   ]
  },
  {
   "cell_type": "code",
   "execution_count": 6,
   "metadata": {},
   "outputs": [
    {
     "name": "stdout",
     "output_type": "stream",
     "text": [
      "<class 'pandas.core.frame.DataFrame'>\n",
      "RangeIndex: 33 entries, 0 to 32\n",
      "Data columns (total 13 columns):\n",
      " #   Column               Non-Null Count  Dtype   \n",
      "---  ------               --------------  -----   \n",
      " 0   LOCNUM               33 non-null     object  \n",
      " 1   STREET               33 non-null     object  \n",
      " 2   CITY                 33 non-null     object  \n",
      " 3   STATE                33 non-null     object  \n",
      " 4   STATE_NAME           33 non-null     object  \n",
      " 5   ZIP                  33 non-null     object  \n",
      " 6   ZIP4                 33 non-null     object  \n",
      " 7   NAICS                33 non-null     object  \n",
      " 8   SIC                  33 non-null     object  \n",
      " 9   SHAPE                33 non-null     geometry\n",
      " 10  id                   33 non-null     object  \n",
      " 11  brand_name           33 non-null     object  \n",
      " 12  brand_name_category  33 non-null     object  \n",
      "dtypes: geometry(1), object(12)\n",
      "memory usage: 3.5+ KB\n",
      "Wall time: 1.65 s\n"
     ]
    }
   ],
   "source": [
    "%%time\n",
    "biz_df = usa.business.get_by_name('ace hardware', aoi_df).drop(columns=biz_drop_cols)\n",
    "biz_df.spatial.set_geometry('SHAPE')\n",
    "\n",
    "biz_df.info()"
   ]
  },
  {
   "cell_type": "code",
   "execution_count": 7,
   "metadata": {},
   "outputs": [
    {
     "name": "stdout",
     "output_type": "stream",
     "text": [
      "<class 'pandas.core.frame.DataFrame'>\n",
      "RangeIndex: 2478 entries, 0 to 2477\n",
      "Data columns (total 23 columns):\n",
      " #   Column                                Non-Null Count  Dtype   \n",
      "---  ------                                --------------  -----   \n",
      " 0   ID                                    2478 non-null   object  \n",
      " 1   NAME                                  2478 non-null   object  \n",
      " 2   SHAPE                                 2478 non-null   geometry\n",
      " 3   brand_destination_id_01               2476 non-null   object  \n",
      " 4   brand_proximity_kilometers_01         2476 non-null   float64 \n",
      " 5   brand_proximity_minutes_01            2476 non-null   float64 \n",
      " 6   brand_proximity_side_street_left_01   2476 non-null   float64 \n",
      " 7   brand_proximity_side_street_right_01  2476 non-null   float64 \n",
      " 8   brand_destination_id_02               2476 non-null   object  \n",
      " 9   brand_proximity_kilometers_02         2476 non-null   float64 \n",
      " 10  brand_proximity_minutes_02            2476 non-null   float64 \n",
      " 11  brand_proximity_side_street_left_02   2476 non-null   float64 \n",
      " 12  brand_proximity_side_street_right_02  2476 non-null   float64 \n",
      " 13  brand_destination_id_03               2476 non-null   object  \n",
      " 14  brand_proximity_kilometers_03         2476 non-null   float64 \n",
      " 15  brand_proximity_minutes_03            2476 non-null   float64 \n",
      " 16  brand_proximity_side_street_left_03   2476 non-null   float64 \n",
      " 17  brand_proximity_side_street_right_03  2476 non-null   float64 \n",
      " 18  brand_destination_id_04               2476 non-null   object  \n",
      " 19  brand_proximity_kilometers_04         2476 non-null   float64 \n",
      " 20  brand_proximity_minutes_04            2476 non-null   float64 \n",
      " 21  brand_proximity_side_street_left_04   2476 non-null   float64 \n",
      " 22  brand_proximity_side_street_right_04  2476 non-null   float64 \n",
      "dtypes: float64(16), geometry(1), object(6)\n",
      "memory usage: 445.4+ KB\n",
      "Wall time: 4min 38s\n"
     ]
    }
   ],
   "source": [
    "%%time\n",
    "bg_near_biz_df = bg_df.dm.get_nearest(biz_df, origin_id_column='ID', near_prefix='brand')\n",
    "\n",
    "bg_near_biz_df.info()"
   ]
  },
  {
   "cell_type": "code",
   "execution_count": 8,
   "metadata": {},
   "outputs": [
    {
     "name": "stdout",
     "output_type": "stream",
     "text": [
      "<class 'pandas.core.frame.DataFrame'>\n",
      "RangeIndex: 76 entries, 0 to 75\n",
      "Data columns (total 13 columns):\n",
      " #   Column               Non-Null Count  Dtype   \n",
      "---  ------               --------------  -----   \n",
      " 0   LOCNUM               76 non-null     object  \n",
      " 1   STREET               76 non-null     object  \n",
      " 2   CITY                 76 non-null     object  \n",
      " 3   STATE                76 non-null     object  \n",
      " 4   STATE_NAME           76 non-null     object  \n",
      " 5   ZIP                  76 non-null     object  \n",
      " 6   ZIP4                 76 non-null     object  \n",
      " 7   NAICS                76 non-null     object  \n",
      " 8   SIC                  76 non-null     object  \n",
      " 9   SHAPE                76 non-null     geometry\n",
      " 10  id                   76 non-null     object  \n",
      " 11  brand_name           76 non-null     object  \n",
      " 12  brand_name_category  76 non-null     object  \n",
      "dtypes: geometry(1), object(12)\n",
      "memory usage: 7.8+ KB\n",
      "Wall time: 1.75 s\n"
     ]
    }
   ],
   "source": [
    "%%time\n",
    "comp_df = usa.business.get_competition(biz_df, aoi_df, local_threshold=3).drop(columns=biz_drop_cols)\n",
    "comp_df.spatial.set_geometry('SHAPE')\n",
    "\n",
    "comp_df.info()"
   ]
  },
  {
   "cell_type": "code",
   "execution_count": 9,
   "metadata": {},
   "outputs": [
    {
     "name": "stdout",
     "output_type": "stream",
     "text": [
      "<class 'pandas.core.frame.DataFrame'>\n",
      "RangeIndex: 2478 entries, 0 to 2477\n",
      "Data columns (total 51 columns):\n",
      " #   Column                                Non-Null Count  Dtype   \n",
      "---  ------                                --------------  -----   \n",
      " 0   ID                                    2478 non-null   object  \n",
      " 1   NAME                                  2478 non-null   object  \n",
      " 2   SHAPE                                 2478 non-null   geometry\n",
      " 3   brand_destination_id_01               2476 non-null   object  \n",
      " 4   brand_proximity_kilometers_01         2476 non-null   float64 \n",
      " 5   brand_proximity_minutes_01            2476 non-null   float64 \n",
      " 6   brand_proximity_side_street_left_01   2476 non-null   float64 \n",
      " 7   brand_proximity_side_street_right_01  2476 non-null   float64 \n",
      " 8   brand_destination_id_02               2476 non-null   object  \n",
      " 9   brand_proximity_kilometers_02         2476 non-null   float64 \n",
      " 10  brand_proximity_minutes_02            2476 non-null   float64 \n",
      " 11  brand_proximity_side_street_left_02   2476 non-null   float64 \n",
      " 12  brand_proximity_side_street_right_02  2476 non-null   float64 \n",
      " 13  brand_destination_id_03               2476 non-null   object  \n",
      " 14  brand_proximity_kilometers_03         2476 non-null   float64 \n",
      " 15  brand_proximity_minutes_03            2476 non-null   float64 \n",
      " 16  brand_proximity_side_street_left_03   2476 non-null   float64 \n",
      " 17  brand_proximity_side_street_right_03  2476 non-null   float64 \n",
      " 18  brand_destination_id_04               2476 non-null   object  \n",
      " 19  brand_proximity_kilometers_04         2476 non-null   float64 \n",
      " 20  brand_proximity_minutes_04            2476 non-null   float64 \n",
      " 21  brand_proximity_side_street_left_04   2476 non-null   float64 \n",
      " 22  brand_proximity_side_street_right_04  2476 non-null   float64 \n",
      " 23  comp_destination_id_01                2476 non-null   object  \n",
      " 24  comp_proximity_kilometers_01          2476 non-null   float64 \n",
      " 25  comp_proximity_minutes_01             2476 non-null   float64 \n",
      " 26  comp_proximity_side_street_left_01    2476 non-null   float64 \n",
      " 27  comp_proximity_side_street_right_01   2476 non-null   float64 \n",
      " 28  comp_brand_name_01                    2476 non-null   object  \n",
      " 29  comp_brand_name_category_01           2476 non-null   object  \n",
      " 30  comp_destination_id_02                2476 non-null   object  \n",
      " 31  comp_proximity_kilometers_02          2476 non-null   float64 \n",
      " 32  comp_proximity_minutes_02             2476 non-null   float64 \n",
      " 33  comp_proximity_side_street_left_02    2476 non-null   float64 \n",
      " 34  comp_proximity_side_street_right_02   2476 non-null   float64 \n",
      " 35  comp_brand_name_02                    2476 non-null   object  \n",
      " 36  comp_brand_name_category_02           2476 non-null   object  \n",
      " 37  comp_destination_id_03                2476 non-null   object  \n",
      " 38  comp_proximity_kilometers_03          2476 non-null   float64 \n",
      " 39  comp_proximity_minutes_03             2476 non-null   float64 \n",
      " 40  comp_proximity_side_street_left_03    2476 non-null   float64 \n",
      " 41  comp_proximity_side_street_right_03   2476 non-null   float64 \n",
      " 42  comp_brand_name_03                    2476 non-null   object  \n",
      " 43  comp_brand_name_category_03           2476 non-null   object  \n",
      " 44  comp_destination_id_04                2476 non-null   object  \n",
      " 45  comp_proximity_kilometers_04          2476 non-null   float64 \n",
      " 46  comp_proximity_minutes_04             2476 non-null   float64 \n",
      " 47  comp_proximity_side_street_left_04    2476 non-null   float64 \n",
      " 48  comp_proximity_side_street_right_04   2476 non-null   float64 \n",
      " 49  comp_brand_name_04                    2476 non-null   object  \n",
      " 50  comp_brand_name_category_04           2476 non-null   object  \n",
      "dtypes: float64(32), geometry(1), object(18)\n",
      "memory usage: 987.5+ KB\n",
      "Wall time: 3min 8s\n"
     ]
    }
   ],
   "source": [
    "%%time\n",
    "bg_near_biz_comp_df = bg_near_biz_df.dm.get_nearest(comp_df, origin_id_column='ID', near_prefix='comp', \n",
    "                                                    destination_columns_to_keep=['brand_name', 'brand_name_category'])\n",
    "\n",
    "bg_near_biz_comp_df.info()"
   ]
  },
  {
   "cell_type": "code",
   "execution_count": 10,
   "metadata": {},
   "outputs": [
    {
     "data": {
      "text/plain": [
       "ID                                                                           530530701003\n",
       "NAME                                                                        530530701.003\n",
       "SHAPE                                   {'rings': [[[-122.1652430000312, 47.0830489997...\n",
       "brand_destination_id_01                                                         677129595\n",
       "brand_proximity_kilometers_01                                                     40.8306\n",
       "brand_proximity_minutes_01                                                        41.3118\n",
       "brand_proximity_side_street_left_01                                                     0\n",
       "brand_proximity_side_street_right_01                                                    1\n",
       "brand_destination_id_02                                                         371889957\n",
       "brand_proximity_kilometers_02                                                     42.8784\n",
       "brand_proximity_minutes_02                                                        43.5606\n",
       "brand_proximity_side_street_left_02                                                     0\n",
       "brand_proximity_side_street_right_02                                                    1\n",
       "brand_destination_id_03                                                         427271369\n",
       "brand_proximity_kilometers_03                                                     46.7567\n",
       "brand_proximity_minutes_03                                                         45.681\n",
       "brand_proximity_side_street_left_03                                                     1\n",
       "brand_proximity_side_street_right_03                                                    0\n",
       "brand_destination_id_04                                                         721714069\n",
       "brand_proximity_kilometers_04                                                      54.477\n",
       "brand_proximity_minutes_04                                                        50.2123\n",
       "brand_proximity_side_street_left_04                                                     1\n",
       "brand_proximity_side_street_right_04                                                    0\n",
       "comp_destination_id_01                                                          174262691\n",
       "comp_proximity_kilometers_01                                                       25.429\n",
       "comp_proximity_minutes_01                                                          25.288\n",
       "comp_proximity_side_street_left_01                                                      1\n",
       "comp_proximity_side_street_right_01                                                     0\n",
       "comp_brand_name_01                                            GATEWAY TRUE VALUE HARDWARE\n",
       "comp_brand_name_category_01                                                   local_brand\n",
       "comp_destination_id_02                                                          002890986\n",
       "comp_proximity_kilometers_02                                                      36.3213\n",
       "comp_proximity_minutes_02                                                         36.2503\n",
       "comp_proximity_side_street_left_02                                                      1\n",
       "comp_proximity_side_street_right_02                                                     0\n",
       "comp_brand_name_02                                                     MC LENDON HARDWARE\n",
       "comp_brand_name_category_02                                                   local_brand\n",
       "comp_destination_id_03                                                          716574088\n",
       "comp_proximity_kilometers_03                                                      45.4067\n",
       "comp_proximity_minutes_03                                                         42.5761\n",
       "comp_proximity_side_street_left_03                                                      1\n",
       "comp_proximity_side_street_right_03                                                     0\n",
       "comp_brand_name_03                                                    COMMERCIAL HARDWARE\n",
       "comp_brand_name_category_03                                                   local_brand\n",
       "comp_destination_id_04                                                          433960019\n",
       "comp_proximity_kilometers_04                                                      45.3306\n",
       "comp_proximity_minutes_04                                                         43.4602\n",
       "comp_proximity_side_street_left_04                                                      1\n",
       "comp_proximity_side_street_right_04                                                     0\n",
       "comp_brand_name_04                                                 JOHNSONS HOME & GARDEN\n",
       "comp_brand_name_category_04                                                   local_brand\n",
       "Name: 0, dtype: object"
      ]
     },
     "execution_count": 10,
     "metadata": {},
     "output_type": "execute_result"
    }
   ],
   "source": [
    "bg_near_biz_comp_df.iloc[0]"
   ]
  },
  {
   "cell_type": "code",
   "execution_count": null,
   "metadata": {},
   "outputs": [],
   "source": []
  }
 ],
 "metadata": {
  "kernelspec": {
   "display_name": "Python 3",
   "language": "python",
   "name": "python3"
  },
  "language_info": {
   "codemirror_mode": {
    "name": "ipython",
    "version": 3
   },
   "file_extension": ".py",
   "mimetype": "text/x-python",
   "name": "python",
   "nbconvert_exporter": "python",
   "pygments_lexer": "ipython3",
   "version": "3.6.10"
  }
 },
 "nbformat": 4,
 "nbformat_minor": 4
}
