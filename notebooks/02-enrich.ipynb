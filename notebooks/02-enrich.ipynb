{
 "cells": [
  {
   "cell_type": "markdown",
   "metadata": {},
   "source": [
    "# Enrich\n",
    "\n",
    "While getting geographies for analysis is a good start for analysis, the real fuel for analysis is the demographic variables quantitatively describing who the people are living in these geographic areas. Enrichment enables selecting, retrieving demographic variables for analysis.\n",
    "\n",
    "Just as in the previous notebook, this starts with importing resources."
   ]
  },
  {
   "cell_type": "code",
   "execution_count": 1,
   "metadata": {},
   "outputs": [
    {
     "name": "stderr",
     "output_type": "stream",
     "text": [
      "D:\\projects\\demographic-modeling-module\\src\\dm\\_modify_geoaccessor.py:34: UserWarning: registration of accessor <class 'dm._modify_geoaccessor.GeoAccessorIO'> under name 'spatial' for type <class 'pandas.core.frame.DataFrame'> is overriding a preexistingattribute with the same name.\n",
      "  class GeoAccessorIO(GeoAccessor):\n"
     ]
    }
   ],
   "source": [
    "from pathlib import Path\n",
    "import sys\n",
    "\n",
    "project_parent = Path('./').absolute().parent\n",
    "sys.path.append(str(project_parent/'src'))\n",
    "\n",
    "from dm import Country, util"
   ]
  },
  {
   "cell_type": "markdown",
   "metadata": {},
   "source": [
    "## Get Geographic Areas for Analyis Within an Area of Interest\n",
    "\n",
    "Just as before, we want to be able to programatically say, \"_I want the lowest level of geographic areaas in my metro area, Victoria._\" Since we may or may not be intimately familiar with the resources available in Canada, we can use a few introspection techniques and tools along the way to get what we need.\n",
    "\n",
    "First, we instantiate an instance of the Country object and introspecively discover what geographic levels are available for analysis in Canada."
   ]
  },
  {
   "cell_type": "code",
   "execution_count": 2,
   "metadata": {},
   "outputs": [
    {
     "data": {
      "text/html": [
       "<div>\n",
       "<style scoped>\n",
       "    .dataframe tbody tr th:only-of-type {\n",
       "        vertical-align: middle;\n",
       "    }\n",
       "\n",
       "    .dataframe tbody tr th {\n",
       "        vertical-align: top;\n",
       "    }\n",
       "\n",
       "    .dataframe thead th {\n",
       "        text-align: right;\n",
       "    }\n",
       "</style>\n",
       "<table border=\"1\" class=\"dataframe\">\n",
       "  <thead>\n",
       "    <tr style=\"text-align: right;\">\n",
       "      <th></th>\n",
       "      <th>geo_name</th>\n",
       "      <th>geo_alias</th>\n",
       "      <th>col_id</th>\n",
       "      <th>col_name</th>\n",
       "      <th>feature_class_path</th>\n",
       "    </tr>\n",
       "  </thead>\n",
       "  <tbody>\n",
       "    <tr>\n",
       "      <th>0</th>\n",
       "      <td>disseminationareas</td>\n",
       "      <td>DisseminationAreas</td>\n",
       "      <td>ID</td>\n",
       "      <td>NAME</td>\n",
       "      <td>D:\\ba_data\\can\\Data\\Demographic Data\\CAN_ESRI_...</td>\n",
       "    </tr>\n",
       "    <tr>\n",
       "      <th>1</th>\n",
       "      <td>censustracts</td>\n",
       "      <td>CensusTracts</td>\n",
       "      <td>ID</td>\n",
       "      <td>NAME</td>\n",
       "      <td>D:\\ba_data\\can\\Data\\Demographic Data\\CAN_ESRI_...</td>\n",
       "    </tr>\n",
       "    <tr>\n",
       "      <th>2</th>\n",
       "      <td>fsas</td>\n",
       "      <td>FSAs</td>\n",
       "      <td>ID</td>\n",
       "      <td>NAME</td>\n",
       "      <td>D:\\ba_data\\can\\Data\\Demographic Data\\CAN_ESRI_...</td>\n",
       "    </tr>\n",
       "    <tr>\n",
       "      <th>3</th>\n",
       "      <td>censussubdivisions</td>\n",
       "      <td>CensusSubdivisions</td>\n",
       "      <td>ID</td>\n",
       "      <td>NAME</td>\n",
       "      <td>D:\\ba_data\\can\\Data\\Demographic Data\\CAN_ESRI_...</td>\n",
       "    </tr>\n",
       "    <tr>\n",
       "      <th>4</th>\n",
       "      <td>feds</td>\n",
       "      <td>FEDs</td>\n",
       "      <td>ID</td>\n",
       "      <td>NAME</td>\n",
       "      <td>D:\\ba_data\\can\\Data\\Demographic Data\\CAN_ESRI_...</td>\n",
       "    </tr>\n",
       "    <tr>\n",
       "      <th>5</th>\n",
       "      <td>cmacas</td>\n",
       "      <td>CMACAs</td>\n",
       "      <td>ID</td>\n",
       "      <td>NAME</td>\n",
       "      <td>D:\\ba_data\\can\\Data\\Demographic Data\\CAN_ESRI_...</td>\n",
       "    </tr>\n",
       "    <tr>\n",
       "      <th>6</th>\n",
       "      <td>censusdivisions</td>\n",
       "      <td>CensusDivisions</td>\n",
       "      <td>ID</td>\n",
       "      <td>NAME</td>\n",
       "      <td>D:\\ba_data\\can\\Data\\Demographic Data\\CAN_ESRI_...</td>\n",
       "    </tr>\n",
       "    <tr>\n",
       "      <th>7</th>\n",
       "      <td>provinceterritories</td>\n",
       "      <td>ProvinceTerritories</td>\n",
       "      <td>ID</td>\n",
       "      <td>NAME</td>\n",
       "      <td>D:\\ba_data\\can\\Data\\Demographic Data\\CAN_ESRI_...</td>\n",
       "    </tr>\n",
       "    <tr>\n",
       "      <th>8</th>\n",
       "      <td>country</td>\n",
       "      <td>Country</td>\n",
       "      <td>ID</td>\n",
       "      <td>NAME</td>\n",
       "      <td>D:\\ba_data\\can\\Data\\Demographic Data\\CAN_ESRI_...</td>\n",
       "    </tr>\n",
       "  </tbody>\n",
       "</table>\n",
       "</div>"
      ],
      "text/plain": [
       "              geo_name            geo_alias col_id col_name  \\\n",
       "0   disseminationareas   DisseminationAreas     ID     NAME   \n",
       "1         censustracts         CensusTracts     ID     NAME   \n",
       "2                 fsas                 FSAs     ID     NAME   \n",
       "3   censussubdivisions   CensusSubdivisions     ID     NAME   \n",
       "4                 feds                 FEDs     ID     NAME   \n",
       "5               cmacas               CMACAs     ID     NAME   \n",
       "6      censusdivisions      CensusDivisions     ID     NAME   \n",
       "7  provinceterritories  ProvinceTerritories     ID     NAME   \n",
       "8              country              Country     ID     NAME   \n",
       "\n",
       "                                  feature_class_path  \n",
       "0  D:\\ba_data\\can\\Data\\Demographic Data\\CAN_ESRI_...  \n",
       "1  D:\\ba_data\\can\\Data\\Demographic Data\\CAN_ESRI_...  \n",
       "2  D:\\ba_data\\can\\Data\\Demographic Data\\CAN_ESRI_...  \n",
       "3  D:\\ba_data\\can\\Data\\Demographic Data\\CAN_ESRI_...  \n",
       "4  D:\\ba_data\\can\\Data\\Demographic Data\\CAN_ESRI_...  \n",
       "5  D:\\ba_data\\can\\Data\\Demographic Data\\CAN_ESRI_...  \n",
       "6  D:\\ba_data\\can\\Data\\Demographic Data\\CAN_ESRI_...  \n",
       "7  D:\\ba_data\\can\\Data\\Demographic Data\\CAN_ESRI_...  \n",
       "8  D:\\ba_data\\can\\Data\\Demographic Data\\CAN_ESRI_...  "
      ]
     },
     "execution_count": 2,
     "metadata": {},
     "output_type": "execute_result"
    }
   ],
   "source": [
    "can = Country('CAN')\n",
    "\n",
    "can.geographies"
   ]
  },
  {
   "cell_type": "markdown",
   "metadata": {},
   "source": [
    "Now, we can use the `get_names` to see what is returned if we are looking for the Victoria Census Metropolitan Area and Census Agglomeration (CMACA)."
   ]
  },
  {
   "cell_type": "code",
   "execution_count": 3,
   "metadata": {},
   "outputs": [
    {
     "data": {
      "text/plain": [
       "0    Victoriaville\n",
       "1         Victoria\n",
       "Name: geo_name, dtype: object"
      ]
     },
     "execution_count": 3,
     "metadata": {},
     "output_type": "execute_result"
    }
   ],
   "source": [
    "metro_df = can.cmacas.get_names('victoria')\n",
    "\n",
    "metro_df"
   ]
  },
  {
   "cell_type": "markdown",
   "metadata": {},
   "source": [
    "Unlike searching for Seattle or Vancouver in the previous notebook, in this case simply using Victoria returns multiple records. In the docstring, there is a hint for how to start creating a custom query, and both the `get_names` and `get` methods accept an explicit query string specifically for instances such as this."
   ]
  },
  {
   "cell_type": "code",
   "execution_count": 4,
   "metadata": {},
   "outputs": [
    {
     "data": {
      "text/html": [
       "<div>\n",
       "<style scoped>\n",
       "    .dataframe tbody tr th:only-of-type {\n",
       "        vertical-align: middle;\n",
       "    }\n",
       "\n",
       "    .dataframe tbody tr th {\n",
       "        vertical-align: top;\n",
       "    }\n",
       "\n",
       "    .dataframe thead th {\n",
       "        text-align: right;\n",
       "    }\n",
       "</style>\n",
       "<table border=\"1\" class=\"dataframe\">\n",
       "  <thead>\n",
       "    <tr style=\"text-align: right;\">\n",
       "      <th></th>\n",
       "      <th>ID</th>\n",
       "      <th>NAME</th>\n",
       "      <th>SHAPE</th>\n",
       "    </tr>\n",
       "  </thead>\n",
       "  <tbody>\n",
       "    <tr>\n",
       "      <th>0</th>\n",
       "      <td>935</td>\n",
       "      <td>Victoria</td>\n",
       "      <td>{\"rings\": [[[-123.54234999996063, 48.314970000...</td>\n",
       "    </tr>\n",
       "  </tbody>\n",
       "</table>\n",
       "</div>"
      ],
      "text/plain": [
       "    ID      NAME                                              SHAPE\n",
       "0  935  Victoria  {\"rings\": [[[-123.54234999996063, 48.314970000..."
      ]
     },
     "execution_count": 4,
     "metadata": {},
     "output_type": "execute_result"
    }
   ],
   "source": [
    "metro_df = can.cmacas.get(query_string=\"NAME = 'Victoria'\")\n",
    "\n",
    "metro_df"
   ]
  },
  {
   "cell_type": "markdown",
   "metadata": {},
   "source": [
    "Using the returned Spatially Enabled DataFrame, we can get the lowest level of geography, Dissemination Areas, for analysis. Once retrieved, we can investigate the properties, preview the table, and view the geography to ensure the results are what we expect."
   ]
  },
  {
   "cell_type": "code",
   "execution_count": 5,
   "metadata": {},
   "outputs": [
    {
     "name": "stdout",
     "output_type": "stream",
     "text": [
      "<class 'pandas.core.frame.DataFrame'>\n",
      "RangeIndex: 561 entries, 0 to 560\n",
      "Data columns (total 3 columns):\n",
      " #   Column  Non-Null Count  Dtype   \n",
      "---  ------  --------------  -----   \n",
      " 0   ID      561 non-null    object  \n",
      " 1   NAME    561 non-null    object  \n",
      " 2   SHAPE   561 non-null    geometry\n",
      "dtypes: geometry(1), object(2)\n",
      "memory usage: 13.3+ KB\n"
     ]
    }
   ],
   "source": [
    "lvl0_df = metro_df.level(0).get()\n",
    "\n",
    "lvl0_df.info()"
   ]
  },
  {
   "cell_type": "code",
   "execution_count": 6,
   "metadata": {},
   "outputs": [
    {
     "data": {
      "text/html": [
       "<div>\n",
       "<style scoped>\n",
       "    .dataframe tbody tr th:only-of-type {\n",
       "        vertical-align: middle;\n",
       "    }\n",
       "\n",
       "    .dataframe tbody tr th {\n",
       "        vertical-align: top;\n",
       "    }\n",
       "\n",
       "    .dataframe thead th {\n",
       "        text-align: right;\n",
       "    }\n",
       "</style>\n",
       "<table border=\"1\" class=\"dataframe\">\n",
       "  <thead>\n",
       "    <tr style=\"text-align: right;\">\n",
       "      <th></th>\n",
       "      <th>ID</th>\n",
       "      <th>NAME</th>\n",
       "      <th>SHAPE</th>\n",
       "    </tr>\n",
       "  </thead>\n",
       "  <tbody>\n",
       "    <tr>\n",
       "      <th>0</th>\n",
       "      <td>59170115</td>\n",
       "      <td>59170115</td>\n",
       "      <td>{\"rings\": [[[-123.36419999982431, 48.469490000...</td>\n",
       "    </tr>\n",
       "    <tr>\n",
       "      <th>1</th>\n",
       "      <td>59170116</td>\n",
       "      <td>59170116</td>\n",
       "      <td>{\"rings\": [[[-123.36292999940484, 48.467920000...</td>\n",
       "    </tr>\n",
       "    <tr>\n",
       "      <th>2</th>\n",
       "      <td>59170117</td>\n",
       "      <td>59170117</td>\n",
       "      <td>{\"rings\": [[[-123.36586000023107, 48.462860000...</td>\n",
       "    </tr>\n",
       "    <tr>\n",
       "      <th>3</th>\n",
       "      <td>59170118</td>\n",
       "      <td>59170118</td>\n",
       "      <td>{\"rings\": [[[-123.36382999992844, 48.460949999...</td>\n",
       "    </tr>\n",
       "    <tr>\n",
       "      <th>4</th>\n",
       "      <td>59170119</td>\n",
       "      <td>59170119</td>\n",
       "      <td>{\"rings\": [[[-123.36376000050655, 48.458879999...</td>\n",
       "    </tr>\n",
       "  </tbody>\n",
       "</table>\n",
       "</div>"
      ],
      "text/plain": [
       "         ID      NAME                                              SHAPE\n",
       "0  59170115  59170115  {\"rings\": [[[-123.36419999982431, 48.469490000...\n",
       "1  59170116  59170116  {\"rings\": [[[-123.36292999940484, 48.467920000...\n",
       "2  59170117  59170117  {\"rings\": [[[-123.36586000023107, 48.462860000...\n",
       "3  59170118  59170118  {\"rings\": [[[-123.36382999992844, 48.460949999...\n",
       "4  59170119  59170119  {\"rings\": [[[-123.36376000050655, 48.458879999..."
      ]
     },
     "execution_count": 6,
     "metadata": {},
     "output_type": "execute_result"
    }
   ],
   "source": [
    "lvl0_df.head()"
   ]
  },
  {
   "cell_type": "code",
   "execution_count": 7,
   "metadata": {},
   "outputs": [
    {
     "data": {
      "application/vnd.jupyter.widget-view+json": {
       "model_id": "86f114c303474994830e411da4815aca",
       "version_major": 2,
       "version_minor": 0
      },
      "text/plain": [
       "MapView(layout=Layout(height='400px', width='100%'))"
      ]
     },
     "metadata": {},
     "output_type": "display_data"
    },
    {
     "data": {
      "text/html": [
       "<div class=\"map-static-img-preview-842e553e-6ed2-4beb-bc6c-5346fa65d4ab\"><img src=\"\"></img></div>"
      ],
      "text/plain": [
       "<IPython.core.display.HTML object>"
      ]
     },
     "metadata": {},
     "output_type": "display_data"
    }
   ],
   "source": [
    "wm00 = lvl0_df.spatial.plot()\n",
    "wm00.basemap = 'dark-gray-vector'\n",
    "wm00"
   ]
  },
  {
   "cell_type": "markdown",
   "metadata": {},
   "source": [
    "## Enrich\n",
    "\n",
    "From here, we can begin the process of enrichment. First though, we need to decide which enrichment varialbes to use. Using an introspection property on the Country, `enrich_variables`, we can investigate what is available."
   ]
  },
  {
   "cell_type": "code",
   "execution_count": 8,
   "metadata": {},
   "outputs": [
    {
     "data": {
      "text/html": [
       "<div>\n",
       "<style scoped>\n",
       "    .dataframe tbody tr th:only-of-type {\n",
       "        vertical-align: middle;\n",
       "    }\n",
       "\n",
       "    .dataframe tbody tr th {\n",
       "        vertical-align: top;\n",
       "    }\n",
       "\n",
       "    .dataframe thead th {\n",
       "        text-align: right;\n",
       "    }\n",
       "</style>\n",
       "<table border=\"1\" class=\"dataframe\">\n",
       "  <thead>\n",
       "    <tr style=\"text-align: right;\">\n",
       "      <th></th>\n",
       "      <th>name</th>\n",
       "      <th>alias</th>\n",
       "      <th>type</th>\n",
       "      <th>vintage</th>\n",
       "      <th>data_collection</th>\n",
       "      <th>enrich_str</th>\n",
       "      <th>enrich_field_name</th>\n",
       "    </tr>\n",
       "  </thead>\n",
       "  <tbody>\n",
       "    <tr>\n",
       "      <th>0</th>\n",
       "      <td>A16AITFNAT</td>\n",
       "      <td>2016 First Nations Single Ident</td>\n",
       "      <td>COUNT</td>\n",
       "      <td>2016</td>\n",
       "      <td>AboriginalIdentity</td>\n",
       "      <td>AboriginalIdentity.A16AITFNAT</td>\n",
       "      <td>AboriginalIdentity_A16AITFNAT</td>\n",
       "    </tr>\n",
       "    <tr>\n",
       "      <th>1</th>\n",
       "      <td>A16AITIDT</td>\n",
       "      <td>2016 Aboriginal Identity</td>\n",
       "      <td>COUNT</td>\n",
       "      <td>2016</td>\n",
       "      <td>AboriginalIdentity</td>\n",
       "      <td>AboriginalIdentity.A16AITIDT</td>\n",
       "      <td>AboriginalIdentity_A16AITIDT</td>\n",
       "    </tr>\n",
       "    <tr>\n",
       "      <th>2</th>\n",
       "      <td>A16AITIDX</td>\n",
       "      <td>2016 Aboriginal Identities</td>\n",
       "      <td>COUNT</td>\n",
       "      <td>2016</td>\n",
       "      <td>AboriginalIdentity</td>\n",
       "      <td>AboriginalIdentity.A16AITIDX</td>\n",
       "      <td>AboriginalIdentity_A16AITIDX</td>\n",
       "    </tr>\n",
       "    <tr>\n",
       "      <th>3</th>\n",
       "      <td>A16AITINUK</td>\n",
       "      <td>2016 Inuk Single Identity</td>\n",
       "      <td>COUNT</td>\n",
       "      <td>2016</td>\n",
       "      <td>AboriginalIdentity</td>\n",
       "      <td>AboriginalIdentity.A16AITINUK</td>\n",
       "      <td>AboriginalIdentity_A16AITINUK</td>\n",
       "    </tr>\n",
       "    <tr>\n",
       "      <th>4</th>\n",
       "      <td>A16AITMETI</td>\n",
       "      <td>2016 Metis Single Identity</td>\n",
       "      <td>COUNT</td>\n",
       "      <td>2016</td>\n",
       "      <td>AboriginalIdentity</td>\n",
       "      <td>AboriginalIdentity.A16AITMETI</td>\n",
       "      <td>AboriginalIdentity_A16AITMETI</td>\n",
       "    </tr>\n",
       "    <tr>\n",
       "      <th>...</th>\n",
       "      <td>...</td>\n",
       "      <td>...</td>\n",
       "      <td>...</td>\n",
       "      <td>...</td>\n",
       "      <td>...</td>\n",
       "      <td>...</td>\n",
       "      <td>...</td>\n",
       "    </tr>\n",
       "    <tr>\n",
       "      <th>2568</th>\n",
       "      <td>P0YVISKOR</td>\n",
       "      <td>2029 VM: Korean</td>\n",
       "      <td>COUNT</td>\n",
       "      <td>2029</td>\n",
       "      <td>VisibleMinorityStatus</td>\n",
       "      <td>VisibleMinorityStatus.P0YVISKOR</td>\n",
       "      <td>VisibleMinorityStatus_P0YVISKOR</td>\n",
       "    </tr>\n",
       "    <tr>\n",
       "      <th>2569</th>\n",
       "      <td>P0YVISJAPA</td>\n",
       "      <td>2029 VM: Japanese</td>\n",
       "      <td>COUNT</td>\n",
       "      <td>2029</td>\n",
       "      <td>VisibleMinorityStatus</td>\n",
       "      <td>VisibleMinorityStatus.P0YVISJAPA</td>\n",
       "      <td>VisibleMinorityStatus_P0YVISJAPA</td>\n",
       "    </tr>\n",
       "    <tr>\n",
       "      <th>2570</th>\n",
       "      <td>P0YVISOVM</td>\n",
       "      <td>2029 VM: All Oth VM</td>\n",
       "      <td>COUNT</td>\n",
       "      <td>2029</td>\n",
       "      <td>VisibleMinorityStatus</td>\n",
       "      <td>VisibleMinorityStatus.P0YVISOVM</td>\n",
       "      <td>VisibleMinorityStatus_P0YVISOVM</td>\n",
       "    </tr>\n",
       "    <tr>\n",
       "      <th>2571</th>\n",
       "      <td>P0YVISMVM</td>\n",
       "      <td>2029 VM: Multiple VM</td>\n",
       "      <td>COUNT</td>\n",
       "      <td>2029</td>\n",
       "      <td>VisibleMinorityStatus</td>\n",
       "      <td>VisibleMinorityStatus.P0YVISMVM</td>\n",
       "      <td>VisibleMinorityStatus_P0YVISMVM</td>\n",
       "    </tr>\n",
       "    <tr>\n",
       "      <th>2572</th>\n",
       "      <td>P0YVISNVM</td>\n",
       "      <td>2029 VM: Not a Visible Minority</td>\n",
       "      <td>COUNT</td>\n",
       "      <td>2029</td>\n",
       "      <td>VisibleMinorityStatus</td>\n",
       "      <td>VisibleMinorityStatus.P0YVISNVM</td>\n",
       "      <td>VisibleMinorityStatus_P0YVISNVM</td>\n",
       "    </tr>\n",
       "  </tbody>\n",
       "</table>\n",
       "<p>2573 rows × 7 columns</p>\n",
       "</div>"
      ],
      "text/plain": [
       "            name                            alias   type vintage  \\\n",
       "0     A16AITFNAT  2016 First Nations Single Ident  COUNT    2016   \n",
       "1      A16AITIDT         2016 Aboriginal Identity  COUNT    2016   \n",
       "2      A16AITIDX       2016 Aboriginal Identities  COUNT    2016   \n",
       "3     A16AITINUK        2016 Inuk Single Identity  COUNT    2016   \n",
       "4     A16AITMETI       2016 Metis Single Identity  COUNT    2016   \n",
       "...          ...                              ...    ...     ...   \n",
       "2568   P0YVISKOR                  2029 VM: Korean  COUNT    2029   \n",
       "2569  P0YVISJAPA                2029 VM: Japanese  COUNT    2029   \n",
       "2570   P0YVISOVM              2029 VM: All Oth VM  COUNT    2029   \n",
       "2571   P0YVISMVM             2029 VM: Multiple VM  COUNT    2029   \n",
       "2572   P0YVISNVM  2029 VM: Not a Visible Minority  COUNT    2029   \n",
       "\n",
       "            data_collection                        enrich_str  \\\n",
       "0        AboriginalIdentity     AboriginalIdentity.A16AITFNAT   \n",
       "1        AboriginalIdentity      AboriginalIdentity.A16AITIDT   \n",
       "2        AboriginalIdentity      AboriginalIdentity.A16AITIDX   \n",
       "3        AboriginalIdentity     AboriginalIdentity.A16AITINUK   \n",
       "4        AboriginalIdentity     AboriginalIdentity.A16AITMETI   \n",
       "...                     ...                               ...   \n",
       "2568  VisibleMinorityStatus   VisibleMinorityStatus.P0YVISKOR   \n",
       "2569  VisibleMinorityStatus  VisibleMinorityStatus.P0YVISJAPA   \n",
       "2570  VisibleMinorityStatus   VisibleMinorityStatus.P0YVISOVM   \n",
       "2571  VisibleMinorityStatus   VisibleMinorityStatus.P0YVISMVM   \n",
       "2572  VisibleMinorityStatus   VisibleMinorityStatus.P0YVISNVM   \n",
       "\n",
       "                     enrich_field_name  \n",
       "0        AboriginalIdentity_A16AITFNAT  \n",
       "1         AboriginalIdentity_A16AITIDT  \n",
       "2         AboriginalIdentity_A16AITIDX  \n",
       "3        AboriginalIdentity_A16AITINUK  \n",
       "4        AboriginalIdentity_A16AITMETI  \n",
       "...                                ...  \n",
       "2568   VisibleMinorityStatus_P0YVISKOR  \n",
       "2569  VisibleMinorityStatus_P0YVISJAPA  \n",
       "2570   VisibleMinorityStatus_P0YVISOVM  \n",
       "2571   VisibleMinorityStatus_P0YVISMVM  \n",
       "2572   VisibleMinorityStatus_P0YVISNVM  \n",
       "\n",
       "[2573 rows x 7 columns]"
      ]
     },
     "execution_count": 8,
     "metadata": {},
     "output_type": "execute_result"
    }
   ],
   "source": [
    "e_vars = can.enrich_variables\n",
    "\n",
    "e_vars"
   ]
  },
  {
   "cell_type": "markdown",
   "metadata": {},
   "source": [
    "Frequently, I like to start my analysis and demostrate using current year key variables in the Key Facts data collection. Using Pandas selection methods, we can identify these variables."
   ]
  },
  {
   "cell_type": "code",
   "execution_count": 9,
   "metadata": {},
   "outputs": [
    {
     "data": {
      "text/html": [
       "<div>\n",
       "<style scoped>\n",
       "    .dataframe tbody tr th:only-of-type {\n",
       "        vertical-align: middle;\n",
       "    }\n",
       "\n",
       "    .dataframe tbody tr th {\n",
       "        vertical-align: top;\n",
       "    }\n",
       "\n",
       "    .dataframe thead th {\n",
       "        text-align: right;\n",
       "    }\n",
       "</style>\n",
       "<table border=\"1\" class=\"dataframe\">\n",
       "  <thead>\n",
       "    <tr style=\"text-align: right;\">\n",
       "      <th></th>\n",
       "      <th>name</th>\n",
       "      <th>alias</th>\n",
       "      <th>type</th>\n",
       "      <th>vintage</th>\n",
       "      <th>data_collection</th>\n",
       "      <th>enrich_str</th>\n",
       "      <th>enrich_field_name</th>\n",
       "    </tr>\n",
       "  </thead>\n",
       "  <tbody>\n",
       "    <tr>\n",
       "      <th>1413</th>\n",
       "      <td>P3YPTAPOP</td>\n",
       "      <td>2022 Total Population</td>\n",
       "      <td>COUNT</td>\n",
       "      <td>2022</td>\n",
       "      <td>KeyCanFacts</td>\n",
       "      <td>KeyCanFacts.P3YPTAPOP</td>\n",
       "      <td>KeyCanFacts_P3YPTAPOP</td>\n",
       "    </tr>\n",
       "    <tr>\n",
       "      <th>1414</th>\n",
       "      <td>P3YHFSCF</td>\n",
       "      <td>2022 Tot Census Fam HHs</td>\n",
       "      <td>COUNT</td>\n",
       "      <td>2022</td>\n",
       "      <td>KeyCanFacts</td>\n",
       "      <td>KeyCanFacts.P3YHFSCF</td>\n",
       "      <td>KeyCanFacts_P3YHFSCF</td>\n",
       "    </tr>\n",
       "    <tr>\n",
       "      <th>1415</th>\n",
       "      <td>P3YHSZAVG</td>\n",
       "      <td>2022 Private HHs Avg Num Persons</td>\n",
       "      <td>COUNT</td>\n",
       "      <td>2022</td>\n",
       "      <td>KeyCanFacts</td>\n",
       "      <td>KeyCanFacts.P3YHSZAVG</td>\n",
       "      <td>KeyCanFacts_P3YHSZAVG</td>\n",
       "    </tr>\n",
       "    <tr>\n",
       "      <th>1416</th>\n",
       "      <td>P3YHNIAVG</td>\n",
       "      <td>2022 HH Inc Average Curr$</td>\n",
       "      <td>CURRENCY</td>\n",
       "      <td>2022</td>\n",
       "      <td>KeyCanFacts</td>\n",
       "      <td>KeyCanFacts.P3YHNIAVG</td>\n",
       "      <td>KeyCanFacts_P3YHNIAVG</td>\n",
       "    </tr>\n",
       "    <tr>\n",
       "      <th>1417</th>\n",
       "      <td>P3YHNIMED</td>\n",
       "      <td>2022 HH Inc Median Curr$</td>\n",
       "      <td>CURRENCY</td>\n",
       "      <td>2022</td>\n",
       "      <td>KeyCanFacts</td>\n",
       "      <td>KeyCanFacts.P3YHNIMED</td>\n",
       "      <td>KeyCanFacts_P3YHNIMED</td>\n",
       "    </tr>\n",
       "    <tr>\n",
       "      <th>1418</th>\n",
       "      <td>P3YTENHHD</td>\n",
       "      <td>2022 Tenure - Total HHs</td>\n",
       "      <td>COUNT</td>\n",
       "      <td>2022</td>\n",
       "      <td>KeyCanFacts</td>\n",
       "      <td>KeyCanFacts.P3YTENHHD</td>\n",
       "      <td>KeyCanFacts_P3YTENHHD</td>\n",
       "    </tr>\n",
       "    <tr>\n",
       "      <th>1419</th>\n",
       "      <td>P3YTENOWN</td>\n",
       "      <td>2022 Tenure - Owned</td>\n",
       "      <td>COUNT</td>\n",
       "      <td>2022</td>\n",
       "      <td>KeyCanFacts</td>\n",
       "      <td>KeyCanFacts.P3YTENOWN</td>\n",
       "      <td>KeyCanFacts_P3YTENOWN</td>\n",
       "    </tr>\n",
       "    <tr>\n",
       "      <th>1420</th>\n",
       "      <td>P3YTENRENT</td>\n",
       "      <td>2022 Tenure - Rented</td>\n",
       "      <td>COUNT</td>\n",
       "      <td>2022</td>\n",
       "      <td>KeyCanFacts</td>\n",
       "      <td>KeyCanFacts.P3YTENRENT</td>\n",
       "      <td>KeyCanFacts_P3YTENRENT</td>\n",
       "    </tr>\n",
       "    <tr>\n",
       "      <th>1421</th>\n",
       "      <td>P3YTENBAND</td>\n",
       "      <td>2022 Tenure - Band Housing</td>\n",
       "      <td>COUNT</td>\n",
       "      <td>2022</td>\n",
       "      <td>KeyCanFacts</td>\n",
       "      <td>KeyCanFacts.P3YTENBAND</td>\n",
       "      <td>KeyCanFacts_P3YTENBAND</td>\n",
       "    </tr>\n",
       "  </tbody>\n",
       "</table>\n",
       "</div>"
      ],
      "text/plain": [
       "            name                             alias      type vintage  \\\n",
       "1413   P3YPTAPOP             2022 Total Population     COUNT    2022   \n",
       "1414    P3YHFSCF           2022 Tot Census Fam HHs     COUNT    2022   \n",
       "1415   P3YHSZAVG  2022 Private HHs Avg Num Persons     COUNT    2022   \n",
       "1416   P3YHNIAVG         2022 HH Inc Average Curr$  CURRENCY    2022   \n",
       "1417   P3YHNIMED          2022 HH Inc Median Curr$  CURRENCY    2022   \n",
       "1418   P3YTENHHD           2022 Tenure - Total HHs     COUNT    2022   \n",
       "1419   P3YTENOWN               2022 Tenure - Owned     COUNT    2022   \n",
       "1420  P3YTENRENT              2022 Tenure - Rented     COUNT    2022   \n",
       "1421  P3YTENBAND        2022 Tenure - Band Housing     COUNT    2022   \n",
       "\n",
       "     data_collection              enrich_str       enrich_field_name  \n",
       "1413     KeyCanFacts   KeyCanFacts.P3YPTAPOP   KeyCanFacts_P3YPTAPOP  \n",
       "1414     KeyCanFacts    KeyCanFacts.P3YHFSCF    KeyCanFacts_P3YHFSCF  \n",
       "1415     KeyCanFacts   KeyCanFacts.P3YHSZAVG   KeyCanFacts_P3YHSZAVG  \n",
       "1416     KeyCanFacts   KeyCanFacts.P3YHNIAVG   KeyCanFacts_P3YHNIAVG  \n",
       "1417     KeyCanFacts   KeyCanFacts.P3YHNIMED   KeyCanFacts_P3YHNIMED  \n",
       "1418     KeyCanFacts   KeyCanFacts.P3YTENHHD   KeyCanFacts_P3YTENHHD  \n",
       "1419     KeyCanFacts   KeyCanFacts.P3YTENOWN   KeyCanFacts_P3YTENOWN  \n",
       "1420     KeyCanFacts  KeyCanFacts.P3YTENRENT  KeyCanFacts_P3YTENRENT  \n",
       "1421     KeyCanFacts  KeyCanFacts.P3YTENBAND  KeyCanFacts_P3YTENBAND  "
      ]
     },
     "execution_count": 9,
     "metadata": {},
     "output_type": "execute_result"
    }
   ],
   "source": [
    "key_vars = e_vars[(e_vars.data_collection.str.startswith('Key')) & (e_vars.vintage == '2022')]\n",
    "\n",
    "key_vars"
   ]
  },
  {
   "cell_type": "markdown",
   "metadata": {},
   "source": [
    "The `enrich` method needs an iterable of variables from the `enrich_str` column as input, so we can extract these from the above filtered Pandas DataFrame as a Pandas Series."
   ]
  },
  {
   "cell_type": "code",
   "execution_count": 10,
   "metadata": {},
   "outputs": [
    {
     "data": {
      "text/plain": [
       "1413     KeyCanFacts.P3YPTAPOP\n",
       "1414      KeyCanFacts.P3YHFSCF\n",
       "1415     KeyCanFacts.P3YHSZAVG\n",
       "1416     KeyCanFacts.P3YHNIAVG\n",
       "1417     KeyCanFacts.P3YHNIMED\n",
       "1418     KeyCanFacts.P3YTENHHD\n",
       "1419     KeyCanFacts.P3YTENOWN\n",
       "1420    KeyCanFacts.P3YTENRENT\n",
       "1421    KeyCanFacts.P3YTENBAND\n",
       "Name: enrich_str, dtype: object"
      ]
     },
     "execution_count": 10,
     "metadata": {},
     "output_type": "execute_result"
    }
   ],
   "source": [
    "enrich_vars = key_vars.enrich_str\n",
    "\n",
    "enrich_vars"
   ]
  },
  {
   "cell_type": "markdown",
   "metadata": {},
   "source": [
    "These variables can now be used to enrich the previously retrieved Dissemination Areas in Victora. Once retrieved, we also can view the metadata and preview the returned tabular data."
   ]
  },
  {
   "cell_type": "code",
   "execution_count": 11,
   "metadata": {},
   "outputs": [
    {
     "name": "stdout",
     "output_type": "stream",
     "text": [
      "<class 'pandas.core.frame.DataFrame'>\n",
      "RangeIndex: 561 entries, 0 to 560\n",
      "Data columns (total 12 columns):\n",
      " #   Column                  Non-Null Count  Dtype   \n",
      "---  ------                  --------------  -----   \n",
      " 0   ID                      561 non-null    object  \n",
      " 1   NAME                    561 non-null    object  \n",
      " 2   KeyCanFacts_P3YPTAPOP   561 non-null    float64 \n",
      " 3   KeyCanFacts_P3YHFSCF    561 non-null    float64 \n",
      " 4   KeyCanFacts_P3YHSZAVG   561 non-null    float64 \n",
      " 5   KeyCanFacts_P3YHNIAVG   561 non-null    float64 \n",
      " 6   KeyCanFacts_P3YHNIMED   561 non-null    float64 \n",
      " 7   KeyCanFacts_P3YTENHHD   561 non-null    float64 \n",
      " 8   KeyCanFacts_P3YTENOWN   561 non-null    float64 \n",
      " 9   KeyCanFacts_P3YTENRENT  561 non-null    float64 \n",
      " 10  KeyCanFacts_P3YTENBAND  561 non-null    float64 \n",
      " 11  SHAPE                   561 non-null    geometry\n",
      "dtypes: float64(9), geometry(1), object(2)\n",
      "memory usage: 52.7+ KB\n"
     ]
    }
   ],
   "source": [
    "lvl0_enrich_df = lvl0_df.spatial.enrich(enrich_vars)\n",
    "\n",
    "lvl0_enrich_df.info()"
   ]
  },
  {
   "cell_type": "code",
   "execution_count": 12,
   "metadata": {},
   "outputs": [
    {
     "data": {
      "text/html": [
       "<div>\n",
       "<style scoped>\n",
       "    .dataframe tbody tr th:only-of-type {\n",
       "        vertical-align: middle;\n",
       "    }\n",
       "\n",
       "    .dataframe tbody tr th {\n",
       "        vertical-align: top;\n",
       "    }\n",
       "\n",
       "    .dataframe thead th {\n",
       "        text-align: right;\n",
       "    }\n",
       "</style>\n",
       "<table border=\"1\" class=\"dataframe\">\n",
       "  <thead>\n",
       "    <tr style=\"text-align: right;\">\n",
       "      <th></th>\n",
       "      <th>ID</th>\n",
       "      <th>NAME</th>\n",
       "      <th>KeyCanFacts_P3YPTAPOP</th>\n",
       "      <th>KeyCanFacts_P3YHFSCF</th>\n",
       "      <th>KeyCanFacts_P3YHSZAVG</th>\n",
       "      <th>KeyCanFacts_P3YHNIAVG</th>\n",
       "      <th>KeyCanFacts_P3YHNIMED</th>\n",
       "      <th>KeyCanFacts_P3YTENHHD</th>\n",
       "      <th>KeyCanFacts_P3YTENOWN</th>\n",
       "      <th>KeyCanFacts_P3YTENRENT</th>\n",
       "      <th>KeyCanFacts_P3YTENBAND</th>\n",
       "      <th>SHAPE</th>\n",
       "    </tr>\n",
       "  </thead>\n",
       "  <tbody>\n",
       "    <tr>\n",
       "      <th>0</th>\n",
       "      <td>59170115</td>\n",
       "      <td>59170115</td>\n",
       "      <td>596.0</td>\n",
       "      <td>135.0</td>\n",
       "      <td>2.1</td>\n",
       "      <td>104074.17</td>\n",
       "      <td>83793.10</td>\n",
       "      <td>279.0</td>\n",
       "      <td>232.0</td>\n",
       "      <td>47.0</td>\n",
       "      <td>0.0</td>\n",
       "      <td>{\"rings\": [[[-123.36419999982431, 48.469490000...</td>\n",
       "    </tr>\n",
       "    <tr>\n",
       "      <th>1</th>\n",
       "      <td>59170116</td>\n",
       "      <td>59170116</td>\n",
       "      <td>437.0</td>\n",
       "      <td>118.0</td>\n",
       "      <td>2.3</td>\n",
       "      <td>106194.13</td>\n",
       "      <td>93600.00</td>\n",
       "      <td>192.0</td>\n",
       "      <td>139.0</td>\n",
       "      <td>53.0</td>\n",
       "      <td>0.0</td>\n",
       "      <td>{\"rings\": [[[-123.36292999940484, 48.467920000...</td>\n",
       "    </tr>\n",
       "    <tr>\n",
       "      <th>2</th>\n",
       "      <td>59170117</td>\n",
       "      <td>59170117</td>\n",
       "      <td>444.0</td>\n",
       "      <td>113.0</td>\n",
       "      <td>2.1</td>\n",
       "      <td>92093.08</td>\n",
       "      <td>66956.52</td>\n",
       "      <td>216.0</td>\n",
       "      <td>180.0</td>\n",
       "      <td>36.0</td>\n",
       "      <td>0.0</td>\n",
       "      <td>{\"rings\": [[[-123.36586000023107, 48.462860000...</td>\n",
       "    </tr>\n",
       "    <tr>\n",
       "      <th>3</th>\n",
       "      <td>59170118</td>\n",
       "      <td>59170118</td>\n",
       "      <td>546.0</td>\n",
       "      <td>139.0</td>\n",
       "      <td>2.5</td>\n",
       "      <td>116164.33</td>\n",
       "      <td>97142.86</td>\n",
       "      <td>216.0</td>\n",
       "      <td>137.0</td>\n",
       "      <td>79.0</td>\n",
       "      <td>0.0</td>\n",
       "      <td>{\"rings\": [[[-123.36382999992844, 48.460949999...</td>\n",
       "    </tr>\n",
       "    <tr>\n",
       "      <th>4</th>\n",
       "      <td>59170119</td>\n",
       "      <td>59170119</td>\n",
       "      <td>506.0</td>\n",
       "      <td>128.0</td>\n",
       "      <td>2.5</td>\n",
       "      <td>102794.30</td>\n",
       "      <td>90740.74</td>\n",
       "      <td>199.0</td>\n",
       "      <td>133.0</td>\n",
       "      <td>66.0</td>\n",
       "      <td>0.0</td>\n",
       "      <td>{\"rings\": [[[-123.36376000050655, 48.458879999...</td>\n",
       "    </tr>\n",
       "  </tbody>\n",
       "</table>\n",
       "</div>"
      ],
      "text/plain": [
       "         ID      NAME  KeyCanFacts_P3YPTAPOP  KeyCanFacts_P3YHFSCF  \\\n",
       "0  59170115  59170115                  596.0                 135.0   \n",
       "1  59170116  59170116                  437.0                 118.0   \n",
       "2  59170117  59170117                  444.0                 113.0   \n",
       "3  59170118  59170118                  546.0                 139.0   \n",
       "4  59170119  59170119                  506.0                 128.0   \n",
       "\n",
       "   KeyCanFacts_P3YHSZAVG  KeyCanFacts_P3YHNIAVG  KeyCanFacts_P3YHNIMED  \\\n",
       "0                    2.1              104074.17               83793.10   \n",
       "1                    2.3              106194.13               93600.00   \n",
       "2                    2.1               92093.08               66956.52   \n",
       "3                    2.5              116164.33               97142.86   \n",
       "4                    2.5              102794.30               90740.74   \n",
       "\n",
       "   KeyCanFacts_P3YTENHHD  KeyCanFacts_P3YTENOWN  KeyCanFacts_P3YTENRENT  \\\n",
       "0                  279.0                  232.0                    47.0   \n",
       "1                  192.0                  139.0                    53.0   \n",
       "2                  216.0                  180.0                    36.0   \n",
       "3                  216.0                  137.0                    79.0   \n",
       "4                  199.0                  133.0                    66.0   \n",
       "\n",
       "   KeyCanFacts_P3YTENBAND                                              SHAPE  \n",
       "0                     0.0  {\"rings\": [[[-123.36419999982431, 48.469490000...  \n",
       "1                     0.0  {\"rings\": [[[-123.36292999940484, 48.467920000...  \n",
       "2                     0.0  {\"rings\": [[[-123.36586000023107, 48.462860000...  \n",
       "3                     0.0  {\"rings\": [[[-123.36382999992844, 48.460949999...  \n",
       "4                     0.0  {\"rings\": [[[-123.36376000050655, 48.458879999...  "
      ]
     },
     "execution_count": 12,
     "metadata": {},
     "output_type": "execute_result"
    }
   ],
   "source": [
    "lvl0_enrich_df.head()"
   ]
  },
  {
   "cell_type": "markdown",
   "metadata": {},
   "source": [
    "## Consolidating and Chaining\n",
    "\n",
    "Just like in the previous notebook, once we know the steps, all of the above can be significantly streamlined into a concise workflow that, on my computer, takes just over 10 seconds to execute."
   ]
  },
  {
   "cell_type": "code",
   "execution_count": 13,
   "metadata": {},
   "outputs": [
    {
     "name": "stdout",
     "output_type": "stream",
     "text": [
      "Wall time: 12.7 s\n"
     ]
    }
   ],
   "source": [
    "%%time\n",
    "\n",
    "can = Country('CAN')\n",
    "\n",
    "key_vars = can.enrich_variables[(can.enrich_variables.data_collection.str.startswith('Key')) & (can.enrich_variables.vintage == '2022')].enrich_str\n",
    "\n",
    "lvl0_enrich_df = can.cmacas.get(query_string=\"NAME = 'Victoria'\").level(0).get().spatial.enrich(key_vars)"
   ]
  },
  {
   "cell_type": "markdown",
   "metadata": {},
   "source": [
    "## Save Results\n",
    "\n",
    "Finally, this data can easily be exportd to a variety of formats for subsequent analysis. First, it can be exported to common tablular formats making for easier analysis using machine learning toolsets on this machine."
   ]
  },
  {
   "cell_type": "code",
   "execution_count": 14,
   "metadata": {},
   "outputs": [],
   "source": [
    "lvl0_enrich_df.spatial.to_parquet('../data/interim/vancouver_lvl0_enrich.parquet')"
   ]
  },
  {
   "cell_type": "markdown",
   "metadata": {},
   "source": [
    "Also, it can be exported to an Esri Feature Class, Esri's spatial tabular format. Since supporting field name aliases, we can use a utility function to add these much more human readable names to the output data. This way, instead of seeing `KeyCanFacts_P3YPTAPOP` when viewing the data in ArcGIS, we will see `2022 Total Population`, which is much easier to understand."
   ]
  },
  {
   "cell_type": "code",
   "execution_count": 15,
   "metadata": {},
   "outputs": [],
   "source": [
    "lvl0_fc = '../data/interim/interim.gdb/vancouver_lvl0_enrich'\n",
    "\n",
    "lvl0_enrich_df.spatial.to_featureclass(lvl0_fc)\n",
    "\n",
    "util.add_enrich_aliases(lvl0_fc, can)"
   ]
  },
  {
   "cell_type": "code",
   "execution_count": null,
   "metadata": {},
   "outputs": [],
   "source": []
  }
 ],
 "metadata": {
  "kernelspec": {
   "display_name": "Python 3",
   "language": "python",
   "name": "python3"
  },
  "language_info": {
   "codemirror_mode": {
    "name": "ipython",
    "version": 3
   },
   "file_extension": ".py",
   "mimetype": "text/x-python",
   "name": "python",
   "nbconvert_exporter": "python",
   "pygments_lexer": "ipython3",
   "version": "3.6.10"
  }
 },
 "nbformat": 4,
 "nbformat_minor": 4
}
